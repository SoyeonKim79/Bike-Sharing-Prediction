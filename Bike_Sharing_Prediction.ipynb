{
 "cells": [
  {
   "cell_type": "markdown",
   "metadata": {},
   "source": [
    "# Assessment 1: Predict Bike-Sharing need in Metropolitan Area\n",
    "\n",
    "Programming Language: R 4.0.2 in Jupyter Notebook\n",
    "\n",
    "R Libraries used:"
   ]
  },
  {
   "cell_type": "code",
   "execution_count": 1,
   "metadata": {
    "scrolled": true
   },
   "outputs": [
    {
     "name": "stderr",
     "output_type": "stream",
     "text": [
      "\n",
      "Attaching package: 'ggplot2'\n",
      "\n",
      "\n",
      "The following objects are masked from 'package:psych':\n",
      "\n",
      "    %+%, alpha\n",
      "\n",
      "\n",
      "Loading required package: Matrix\n",
      "\n",
      "Loaded glmnet 4.0-2\n",
      "\n",
      "corrplot 0.84 loaded\n",
      "\n",
      "Loading required package: lattice\n",
      "\n",
      "Loading required package: carData\n",
      "\n",
      "\n",
      "Attaching package: 'car'\n",
      "\n",
      "\n",
      "The following object is masked from 'package:psych':\n",
      "\n",
      "    logit\n",
      "\n",
      "\n",
      "randomForest 4.6-14\n",
      "\n",
      "Type rfNews() to see new features/changes/bug fixes.\n",
      "\n",
      "\n",
      "Attaching package: 'randomForest'\n",
      "\n",
      "\n",
      "The following object is masked from 'package:gridExtra':\n",
      "\n",
      "    combine\n",
      "\n",
      "\n",
      "The following object is masked from 'package:ggplot2':\n",
      "\n",
      "    margin\n",
      "\n",
      "\n",
      "The following object is masked from 'package:psych':\n",
      "\n",
      "    outlier\n",
      "\n",
      "\n"
     ]
    }
   ],
   "source": [
    "library(psych)\n",
    "library(ggplot2)\n",
    "library(gridExtra)\n",
    "library(ggplot2)\n",
    "library(gridExtra)\n",
    "library(glmnet)\n",
    "library(leaps)\n",
    "library(corrplot)\n",
    "library(caret)\n",
    "library(e1071)\n",
    "library(car)\n",
    "library(randomForest)"
   ]
  },
  {
   "cell_type": "markdown",
   "metadata": {},
   "source": [
    "## Table of Contents\n",
    "\n",
    "1. [Introduction](#sec_1)\n",
    "2. [Data Exploration](#sec_2)\n",
    "* [Exploratory Data Analysis](#sec_3)\n",
    "* [Methodology](#sec_4)\n",
    "* [Model Development](#sec_5)\n",
    "* [Results and discussion](#sec_6)\n",
    "* [Conclusion](#sec_7)\n",
    "* [References](#sec_8)"
   ]
  },
  {
   "cell_type": "markdown",
   "metadata": {},
   "source": [
    "### 1. Introduction <a class=\"anchor\" id=\"sec_1\"></a>"
   ]
  },
  {
   "cell_type": "markdown",
   "metadata": {},
   "source": [
    "This notebook contains the process and results of the data analysis performed on a set of rental bike demand data. The aim of analysis is to bulid statistical learning models which can predict the bike sharing demands and identify the key features that are strongly associated with them. <br>\n",
    "\n",
    "The second section of the notebook explores the basic contents of a given dataset. It shows a structure of each attibute and brief statistical information of them. <br>\n",
    "\n",
    "The third section covers the exploratory data analysis to understand the characteristics and distribution of each attibute, and the correlation between them through visual aids. <br>\n",
    "\n",
    "The fourth section explains the methodology of the models which will be used in this experiment. <br>  \n",
    "\n",
    "The fifth section is related to model development which is about how to derive the models used in the experiment, such as the method used to select model parameters. <br>\n",
    "\n",
    "The sixth secton discusses the results derived from the previous model development section.It will look at the pros and cons of each model and the important predictors extracted from those models. <br>\n",
    "\n",
    "Lastly, in the last section, the key findings of this experiment will be elaborated.  <br>"
   ]
  },
  {
   "cell_type": "markdown",
   "metadata": {},
   "source": [
    "## 2. Data Exploration<a class=\"anchor\" id=\"sec_2\"></a>"
   ]
  },
  {
   "cell_type": "markdown",
   "metadata": {},
   "source": [
    "There are two datasets related to this project. The one is a train dataset which will be used to train a model for predicting the bike sharing demands, and the other one is a test dataset which will be used to test the model built on the train dataset. Thus, in this section, only the train dataset will be used for data exploration. "
   ]
  },
  {
   "cell_type": "code",
   "execution_count": 2,
   "metadata": {},
   "outputs": [],
   "source": [
    "# Read the train and test dataset from a csv file\n",
    "train <- read.csv(\"train.csv\")\n",
    "test <- read.csv(\"test.csv\")"
   ]
  },
  {
   "cell_type": "code",
   "execution_count": 3,
   "metadata": {},
   "outputs": [
    {
     "name": "stdout",
     "output_type": "stream",
     "text": [
      "7008 records * 14 variables \n",
      "\n",
      "The structure is :\n",
      "\n",
      "'data.frame':\t7008 obs. of  14 variables:\n",
      " $ Date                 : chr  \"13/3/18\" \"15/3/18\" \"29/11/18\" \"4/4/18\" ...\n",
      " $ Rented.Bike.Count    : int  705 289 126 378 236 708 715 1001 502 17 ...\n",
      " $ Hour                 : int  14 14 5 9 17 10 8 1 20 18 ...\n",
      " $ Temperature          : num  18.3 12.1 1.8 10.4 2.4 18.2 21.1 18.9 10.7 22.2 ...\n",
      " $ Humidity             : int  43 97 34 81 17 36 70 55 70 96 ...\n",
      " $ Wind.speed           : num  2.2 2 0.9 1.4 3.1 1 0.3 2.3 2.8 1.2 ...\n",
      " $ Visibility           : int  1509 177 1990 2000 1990 620 766 2000 236 673 ...\n",
      " $ Dew.point.temperature: num  5.4 11.6 -12.4 7.2 -20.2 2.8 15.4 9.6 5.4 21.5 ...\n",
      " $ Solar.Radiation      : num  2.43 0.2 0 0.36 0.78 1.99 0.9 0 0 0.09 ...\n",
      " $ Rainfall             : num  0 0 0 0 0 0 0 0 0 3.5 ...\n",
      " $ Snowfall             : num  0 0 0 0 0 0 0 0 0 0 ...\n",
      " $ Seasons              : chr  \"Spring\" \"Spring\" \"Autumn\" \"Spring\" ...\n",
      " $ Holiday              : chr  \"No Holiday\" \"No Holiday\" \"No Holiday\" \"No Holiday\" ...\n",
      " $ Functioning.Day      : chr  \"Yes\" \"Yes\" \"Yes\" \"Yes\" ...\n",
      "\n",
      " The first few records in the dataset are:"
     ]
    },
    {
     "data": {
      "text/html": [
       "<table>\n",
       "<caption>A data.frame: 6 × 14</caption>\n",
       "<thead>\n",
       "\t<tr><th></th><th scope=col>Date</th><th scope=col>Rented.Bike.Count</th><th scope=col>Hour</th><th scope=col>Temperature</th><th scope=col>Humidity</th><th scope=col>Wind.speed</th><th scope=col>Visibility</th><th scope=col>Dew.point.temperature</th><th scope=col>Solar.Radiation</th><th scope=col>Rainfall</th><th scope=col>Snowfall</th><th scope=col>Seasons</th><th scope=col>Holiday</th><th scope=col>Functioning.Day</th></tr>\n",
       "\t<tr><th></th><th scope=col>&lt;chr&gt;</th><th scope=col>&lt;int&gt;</th><th scope=col>&lt;int&gt;</th><th scope=col>&lt;dbl&gt;</th><th scope=col>&lt;int&gt;</th><th scope=col>&lt;dbl&gt;</th><th scope=col>&lt;int&gt;</th><th scope=col>&lt;dbl&gt;</th><th scope=col>&lt;dbl&gt;</th><th scope=col>&lt;dbl&gt;</th><th scope=col>&lt;dbl&gt;</th><th scope=col>&lt;chr&gt;</th><th scope=col>&lt;chr&gt;</th><th scope=col>&lt;chr&gt;</th></tr>\n",
       "</thead>\n",
       "<tbody>\n",
       "\t<tr><th scope=row>1</th><td>13/3/18 </td><td>705</td><td>14</td><td>18.3</td><td>43</td><td>2.2</td><td>1509</td><td>  5.4</td><td>2.43</td><td>0</td><td>0</td><td>Spring</td><td>No Holiday</td><td>Yes</td></tr>\n",
       "\t<tr><th scope=row>2</th><td>15/3/18 </td><td>289</td><td>14</td><td>12.1</td><td>97</td><td>2.0</td><td> 177</td><td> 11.6</td><td>0.20</td><td>0</td><td>0</td><td>Spring</td><td>No Holiday</td><td>Yes</td></tr>\n",
       "\t<tr><th scope=row>3</th><td>29/11/18</td><td>126</td><td> 5</td><td> 1.8</td><td>34</td><td>0.9</td><td>1990</td><td>-12.4</td><td>0.00</td><td>0</td><td>0</td><td>Autumn</td><td>No Holiday</td><td>Yes</td></tr>\n",
       "\t<tr><th scope=row>4</th><td>4/4/18  </td><td>378</td><td> 9</td><td>10.4</td><td>81</td><td>1.4</td><td>2000</td><td>  7.2</td><td>0.36</td><td>0</td><td>0</td><td>Spring</td><td>No Holiday</td><td>Yes</td></tr>\n",
       "\t<tr><th scope=row>5</th><td>15/2/18 </td><td>236</td><td>17</td><td> 2.4</td><td>17</td><td>3.1</td><td>1990</td><td>-20.2</td><td>0.78</td><td>0</td><td>0</td><td>Winter</td><td>Holiday   </td><td>Yes</td></tr>\n",
       "\t<tr><th scope=row>6</th><td>20/4/18 </td><td>708</td><td>10</td><td>18.2</td><td>36</td><td>1.0</td><td> 620</td><td>  2.8</td><td>1.99</td><td>0</td><td>0</td><td>Spring</td><td>No Holiday</td><td>Yes</td></tr>\n",
       "</tbody>\n",
       "</table>\n"
      ],
      "text/latex": [
       "A data.frame: 6 × 14\n",
       "\\begin{tabular}{r|llllllllllllll}\n",
       "  & Date & Rented.Bike.Count & Hour & Temperature & Humidity & Wind.speed & Visibility & Dew.point.temperature & Solar.Radiation & Rainfall & Snowfall & Seasons & Holiday & Functioning.Day\\\\\n",
       "  & <chr> & <int> & <int> & <dbl> & <int> & <dbl> & <int> & <dbl> & <dbl> & <dbl> & <dbl> & <chr> & <chr> & <chr>\\\\\n",
       "\\hline\n",
       "\t1 & 13/3/18  & 705 & 14 & 18.3 & 43 & 2.2 & 1509 &   5.4 & 2.43 & 0 & 0 & Spring & No Holiday & Yes\\\\\n",
       "\t2 & 15/3/18  & 289 & 14 & 12.1 & 97 & 2.0 &  177 &  11.6 & 0.20 & 0 & 0 & Spring & No Holiday & Yes\\\\\n",
       "\t3 & 29/11/18 & 126 &  5 &  1.8 & 34 & 0.9 & 1990 & -12.4 & 0.00 & 0 & 0 & Autumn & No Holiday & Yes\\\\\n",
       "\t4 & 4/4/18   & 378 &  9 & 10.4 & 81 & 1.4 & 2000 &   7.2 & 0.36 & 0 & 0 & Spring & No Holiday & Yes\\\\\n",
       "\t5 & 15/2/18  & 236 & 17 &  2.4 & 17 & 3.1 & 1990 & -20.2 & 0.78 & 0 & 0 & Winter & Holiday    & Yes\\\\\n",
       "\t6 & 20/4/18  & 708 & 10 & 18.2 & 36 & 1.0 &  620 &   2.8 & 1.99 & 0 & 0 & Spring & No Holiday & Yes\\\\\n",
       "\\end{tabular}\n"
      ],
      "text/markdown": [
       "\n",
       "A data.frame: 6 × 14\n",
       "\n",
       "| <!--/--> | Date &lt;chr&gt; | Rented.Bike.Count &lt;int&gt; | Hour &lt;int&gt; | Temperature &lt;dbl&gt; | Humidity &lt;int&gt; | Wind.speed &lt;dbl&gt; | Visibility &lt;int&gt; | Dew.point.temperature &lt;dbl&gt; | Solar.Radiation &lt;dbl&gt; | Rainfall &lt;dbl&gt; | Snowfall &lt;dbl&gt; | Seasons &lt;chr&gt; | Holiday &lt;chr&gt; | Functioning.Day &lt;chr&gt; |\n",
       "|---|---|---|---|---|---|---|---|---|---|---|---|---|---|---|\n",
       "| 1 | 13/3/18  | 705 | 14 | 18.3 | 43 | 2.2 | 1509 |   5.4 | 2.43 | 0 | 0 | Spring | No Holiday | Yes |\n",
       "| 2 | 15/3/18  | 289 | 14 | 12.1 | 97 | 2.0 |  177 |  11.6 | 0.20 | 0 | 0 | Spring | No Holiday | Yes |\n",
       "| 3 | 29/11/18 | 126 |  5 |  1.8 | 34 | 0.9 | 1990 | -12.4 | 0.00 | 0 | 0 | Autumn | No Holiday | Yes |\n",
       "| 4 | 4/4/18   | 378 |  9 | 10.4 | 81 | 1.4 | 2000 |   7.2 | 0.36 | 0 | 0 | Spring | No Holiday | Yes |\n",
       "| 5 | 15/2/18  | 236 | 17 |  2.4 | 17 | 3.1 | 1990 | -20.2 | 0.78 | 0 | 0 | Winter | Holiday    | Yes |\n",
       "| 6 | 20/4/18  | 708 | 10 | 18.2 | 36 | 1.0 |  620 |   2.8 | 1.99 | 0 | 0 | Spring | No Holiday | Yes |\n",
       "\n"
      ],
      "text/plain": [
       "  Date     Rented.Bike.Count Hour Temperature Humidity Wind.speed Visibility\n",
       "1 13/3/18  705               14   18.3        43       2.2        1509      \n",
       "2 15/3/18  289               14   12.1        97       2.0         177      \n",
       "3 29/11/18 126                5    1.8        34       0.9        1990      \n",
       "4 4/4/18   378                9   10.4        81       1.4        2000      \n",
       "5 15/2/18  236               17    2.4        17       3.1        1990      \n",
       "6 20/4/18  708               10   18.2        36       1.0         620      \n",
       "  Dew.point.temperature Solar.Radiation Rainfall Snowfall Seasons Holiday   \n",
       "1   5.4                 2.43            0        0        Spring  No Holiday\n",
       "2  11.6                 0.20            0        0        Spring  No Holiday\n",
       "3 -12.4                 0.00            0        0        Autumn  No Holiday\n",
       "4   7.2                 0.36            0        0        Spring  No Holiday\n",
       "5 -20.2                 0.78            0        0        Winter  Holiday   \n",
       "6   2.8                 1.99            0        0        Spring  No Holiday\n",
       "  Functioning.Day\n",
       "1 Yes            \n",
       "2 Yes            \n",
       "3 Yes            \n",
       "4 Yes            \n",
       "5 Yes            \n",
       "6 Yes            "
      ]
     },
     "metadata": {},
     "output_type": "display_data"
    }
   ],
   "source": [
    "# Display the dimensions\n",
    "cat(dim(train)[1], \"records\", \"*\", dim(train)[2],\"variables \\n\\n\")\n",
    "\n",
    "# Display the structure\n",
    "cat(\"The structure is :\\n\\n\")\n",
    "str(train)\n",
    "\n",
    "# Inspect the first few records\n",
    "cat(\"\\n The first few records in the dataset are:\")\n",
    "head(train)"
   ]
  },
  {
   "cell_type": "markdown",
   "metadata": {},
   "source": [
    "As shown above, the format of the date variable seems a bit hard to understand at a glance. Thus, the datatype and format of it will be modified."
   ]
  },
  {
   "cell_type": "code",
   "execution_count": 4,
   "metadata": {},
   "outputs": [],
   "source": [
    "# Change the datatype and format of Date\n",
    "train$Date <- as.Date(train$Date,format = \"%y/%m/%d\")\n",
    "test$Date <- as.Date(test$Date,format = \"%y/%m/%d\")"
   ]
  },
  {
   "cell_type": "markdown",
   "metadata": {},
   "source": [
    "To examine the relationship between our target variable (Rented.Bike.Count) and date information in more detail, the day of the week will be exracted from the Date variable and added into a new column."
   ]
  },
  {
   "cell_type": "code",
   "execution_count": 5,
   "metadata": {},
   "outputs": [],
   "source": [
    "# Add a column representing day of the week of each record\n",
    "train$Day <- as.factor(weekdays(train$Date))\n",
    "test$Day <- as.factor(weekdays(test$Date))"
   ]
  },
  {
   "cell_type": "markdown",
   "metadata": {},
   "source": [
    "In addition, for the categorical variables, the data types of them will be converted from character to factor."
   ]
  },
  {
   "cell_type": "code",
   "execution_count": 6,
   "metadata": {},
   "outputs": [],
   "source": [
    "# convert the datatype: character to factor \n",
    "train$Seasons <- as.factor(train$Seasons)\n",
    "train$Holiday <- as.factor(train$Holiday)\n",
    "train$Functioning.Day <- as.factor(train$Functioning.Day)\n",
    "\n",
    "test$Seasons <- as.factor(test$Seasons)\n",
    "test$Holiday <- as.factor(test$Holiday)\n",
    "test$Functioning.Day <- as.factor(test$Functioning.Day)"
   ]
  },
  {
   "cell_type": "code",
   "execution_count": 7,
   "metadata": {},
   "outputs": [
    {
     "name": "stdout",
     "output_type": "stream",
     "text": [
      "basic statistics for each attribute are: "
     ]
    },
    {
     "data": {
      "text/plain": [
       "      Date            Rented.Bike.Count      Hour        Temperature    \n",
       " Min.   :2001-01-18   Min.   :   0.0    Min.   : 0.00   Min.   :-17.50  \n",
       " 1st Qu.:2008-10-18   1st Qu.: 188.0    1st Qu.: 5.75   1st Qu.:  3.40  \n",
       " Median :2016-03-18   Median : 503.0    Median :11.00   Median : 13.60  \n",
       " Mean   :2016-04-12   Mean   : 703.2    Mean   :11.46   Mean   : 12.83  \n",
       " 3rd Qu.:2023-10-18   3rd Qu.:1063.0    3rd Qu.:17.00   3rd Qu.: 22.50  \n",
       " Max.   :2031-12-17   Max.   :3556.0    Max.   :23.00   Max.   : 39.40  \n",
       "                                                                        \n",
       "    Humidity       Wind.speed     Visibility     Dew.point.temperature\n",
       " Min.   : 0.00   Min.   :0.00   Min.   :  27.0   Min.   :-30.600      \n",
       " 1st Qu.:42.00   1st Qu.:0.90   1st Qu.: 944.8   1st Qu.: -4.700      \n",
       " Median :57.00   Median :1.50   Median :1693.0   Median :  5.000      \n",
       " Mean   :58.25   Mean   :1.72   Mean   :1436.0   Mean   :  4.029      \n",
       " 3rd Qu.:74.00   3rd Qu.:2.30   3rd Qu.:2000.0   3rd Qu.: 14.800      \n",
       " Max.   :98.00   Max.   :7.40   Max.   :2000.0   Max.   : 26.800      \n",
       "                                                                      \n",
       " Solar.Radiation     Rainfall          Snowfall         Seasons    \n",
       " Min.   :0.0000   Min.   : 0.0000   Min.   :0.00000   Autumn:1753  \n",
       " 1st Qu.:0.0000   1st Qu.: 0.0000   1st Qu.:0.00000   Spring:1774  \n",
       " Median :0.0100   Median : 0.0000   Median :0.00000   Summer:1751  \n",
       " Mean   :0.5711   Mean   : 0.1517   Mean   :0.07593   Winter:1730  \n",
       " 3rd Qu.:0.9300   3rd Qu.: 0.0000   3rd Qu.:0.00000                \n",
       " Max.   :3.5200   Max.   :35.0000   Max.   :8.80000                \n",
       "                                                                   \n",
       "       Holiday     Functioning.Day        Day      \n",
       " Holiday   : 346   No : 239        Friday   : 997  \n",
       " No Holiday:6662   Yes:6769        Monday   :1045  \n",
       "                                   Saturday : 996  \n",
       "                                   Sunday   : 987  \n",
       "                                   Thursday :1012  \n",
       "                                   Tuesday  : 975  \n",
       "                                   Wednesday: 996  "
      ]
     },
     "metadata": {},
     "output_type": "display_data"
    },
    {
     "name": "stdout",
     "output_type": "stream",
     "text": [
      "The numbers of unique values for each attribute are:"
     ]
    },
    {
     "data": {
      "text/html": [
       "<style>\n",
       ".dl-inline {width: auto; margin:0; padding: 0}\n",
       ".dl-inline>dt, .dl-inline>dd {float: none; width: auto; display: inline-block}\n",
       ".dl-inline>dt::after {content: \":\\0020\"; padding-right: .5ex}\n",
       ".dl-inline>dt:not(:first-of-type) {padding-left: .5ex}\n",
       "</style><dl class=dl-inline><dt>Date</dt><dd>365</dd><dt>Rented.Bike.Count</dt><dd>2032</dd><dt>Hour</dt><dd>24</dd><dt>Temperature</dt><dd>540</dd><dt>Humidity</dt><dd>89</dd><dt>Wind.speed</dt><dd>64</dd><dt>Visibility</dt><dd>1714</dd><dt>Dew.point.temperature</dt><dd>547</dd><dt>Solar.Radiation</dt><dd>341</dd><dt>Rainfall</dt><dd>58</dd><dt>Snowfall</dt><dd>51</dd><dt>Seasons</dt><dd>4</dd><dt>Holiday</dt><dd>2</dd><dt>Functioning.Day</dt><dd>2</dd><dt>Day</dt><dd>7</dd></dl>\n"
      ],
      "text/latex": [
       "\\begin{description*}\n",
       "\\item[Date] 365\n",
       "\\item[Rented.Bike.Count] 2032\n",
       "\\item[Hour] 24\n",
       "\\item[Temperature] 540\n",
       "\\item[Humidity] 89\n",
       "\\item[Wind.speed] 64\n",
       "\\item[Visibility] 1714\n",
       "\\item[Dew.point.temperature] 547\n",
       "\\item[Solar.Radiation] 341\n",
       "\\item[Rainfall] 58\n",
       "\\item[Snowfall] 51\n",
       "\\item[Seasons] 4\n",
       "\\item[Holiday] 2\n",
       "\\item[Functioning.Day] 2\n",
       "\\item[Day] 7\n",
       "\\end{description*}\n"
      ],
      "text/markdown": [
       "Date\n",
       ":   365Rented.Bike.Count\n",
       ":   2032Hour\n",
       ":   24Temperature\n",
       ":   540Humidity\n",
       ":   89Wind.speed\n",
       ":   64Visibility\n",
       ":   1714Dew.point.temperature\n",
       ":   547Solar.Radiation\n",
       ":   341Rainfall\n",
       ":   58Snowfall\n",
       ":   51Seasons\n",
       ":   4Holiday\n",
       ":   2Functioning.Day\n",
       ":   2Day\n",
       ":   7\n",
       "\n"
      ],
      "text/plain": [
       "                 Date     Rented.Bike.Count                  Hour \n",
       "                  365                  2032                    24 \n",
       "          Temperature              Humidity            Wind.speed \n",
       "                  540                    89                    64 \n",
       "           Visibility Dew.point.temperature       Solar.Radiation \n",
       "                 1714                   547                   341 \n",
       "             Rainfall              Snowfall               Seasons \n",
       "                   58                    51                     4 \n",
       "              Holiday       Functioning.Day                   Day \n",
       "                    2                     2                     7 "
      ]
     },
     "metadata": {},
     "output_type": "display_data"
    }
   ],
   "source": [
    "# Statistical summary\n",
    "cat(\"basic statistics for each attribute are: \")\n",
    "summary(train)\n",
    "\n",
    "cat(\"The numbers of unique values for each attribute are:\")\n",
    "apply(train,2,function(x) length(unique(x)))"
   ]
  },
  {
   "cell_type": "markdown",
   "metadata": {},
   "source": [
    "#### Summary of attributes\n",
    "* Target variable \n",
    "     - Rented.Bike.Count:values range from 0 to 3556. From looking at the first quartile, median and third quartile, there could be many values on the smaller sides. From looking at the 3 quartile and max, it probably has outliers, especially high ones.<br><br>\n",
    "     \n",
    "* Features\n",
    "    - Date: We will keep data beyond 2020\n",
    "    - Hour: from 0 to 23 \n",
    "    - Wind.speed: From looking at the 3 quartile and max, it probably has outliers, especially high ones.\n",
    "    - Visibility: large value scale. 3 quartile = max, large gap between the 1st quartile and min. It can be inferred majority of data will be concentrated toward higher values. <br>\n",
    "    - Rainfall, Snowfall: 1 quartile ~ 3 quartile : all have zero values. majority of the data is concentrated in a small range.  <br>\n",
    "    - Holiday: large gap between the number of holidays and no holidays \n",
    "    - Functioning.Day: large gap between the number of functioning days and no functioning days."
   ]
  },
  {
   "cell_type": "markdown",
   "metadata": {},
   "source": [
    "## 3. Exploratory Data Analysis<a class=\"anchor\" id=\"sec_3\"></a>"
   ]
  },
  {
   "cell_type": "markdown",
   "metadata": {},
   "source": [
    "The categorical and numerical variables will be covered seperately considering their characteristics."
   ]
  },
  {
   "cell_type": "markdown",
   "metadata": {},
   "source": [
    "### <li> Categorical Variables"
   ]
  },
  {
   "cell_type": "markdown",
   "metadata": {},
   "source": [
    "Date and Hour attribute will be explored in this section to extract more underlying information."
   ]
  },
  {
   "cell_type": "markdown",
   "metadata": {},
   "source": [
    "#### Investigate distribution of each categorical attribute using bar graphs"
   ]
  },
  {
   "cell_type": "code",
   "execution_count": 8,
   "metadata": {},
   "outputs": [
    {
     "data": {
      "image/png": "[encoded data removed]",
      "text/plain": [
       "plot without title"
      ]
     },
     "metadata": {
      "image/png": {
       "height": 420,
       "width": 420
      }
     },
     "output_type": "display_data"
    }
   ],
   "source": [
    "# Check the distribution of each categorical variable \n",
    "\n",
    "# Date\n",
    "bar_Date <-ggplot(data = train, aes(x=factor(Date))) +\n",
    "            geom_bar(stat=\"count\") +\n",
    "            theme_minimal() +\n",
    "            ggtitle(\"Distribution of Date variable\") +\n",
    "            theme(axis.text.x=element_text(size=1, angle=90, hjust=1)) + \n",
    "            theme(axis.text.y=element_text(size=8)) +\n",
    "            theme(axis.title=element_text(size=8)) +\n",
    "            theme(legend.title=element_text(size=8),legend.text=element_text(size=8)) +\n",
    "            theme(plot.title = element_text(size=10))\n",
    "\n",
    "# Hour\n",
    "bar_Hour <-ggplot(data = train, aes(x=factor(Hour))) +\n",
    "            geom_bar(stat=\"count\") +\n",
    "            theme_minimal() +\n",
    "            ggtitle(\"Distribution of Hour variable\") +\n",
    "            theme(axis.text.x=element_text(size=8, angle=90, hjust=1)) + \n",
    "            theme(axis.text.y=element_text(size=8)) +\n",
    "            theme(axis.title=element_text(size=8)) +\n",
    "            theme(legend.title=element_text(size=8),legend.text=element_text(size=8)) +\n",
    "            theme(plot.title = element_text(size=10)) +\n",
    "            scale_x_discrete(breaks=seq(0,23,1))\n",
    "\n",
    "\n",
    "# Seasons\n",
    "bar_Seasons <-ggplot(data = train, aes(x=Seasons, fill = Seasons)) +\n",
    "                geom_bar(stat=\"count\") +\n",
    "                theme_minimal() +\n",
    "                ggtitle(\"Distribution of Seasons variable\") +  \n",
    "                theme(axis.text.x=element_text(size=8, angle=90, hjust=1)) + \n",
    "                theme(axis.text.y=element_text(size=8)) +\n",
    "                theme(axis.title=element_text(size=8)) +\n",
    "                theme(legend.title=element_text(size=8),legend.text=element_text(size=8)) +\n",
    "                theme(plot.title = element_text(size=10)) \n",
    "                \n",
    "# Holiday\n",
    "bar_Holiday <-ggplot(data = train, aes(x=Holiday, fill = Holiday)) +\n",
    "                geom_bar(stat=\"count\") +\n",
    "                theme_minimal() +\n",
    "                ggtitle(\"Distribution of Holiday variable\") +\n",
    "                theme(axis.text.x=element_text(size=8)) + \n",
    "                theme(axis.text.y=element_text(size=8)) +\n",
    "                theme(axis.title=element_text(size=8)) +\n",
    "                theme(legend.title=element_text(size=8),legend.text=element_text(size=8)) +\n",
    "                theme(plot.title = element_text(size=10))\n",
    "\n",
    "# Functioning.Day\n",
    "bar_Functioning.Day <-ggplot(data = train, aes(x=Functioning.Day, fill = Functioning.Day)) +\n",
    "                        geom_bar(stat=\"count\") +\n",
    "                        theme_minimal() +\n",
    "                        ggtitle(\"Distribution of Functioning.Day variable\") +\n",
    "                        theme(axis.text.x=element_text(size=8, angle=90, hjust=1)) + \n",
    "                        theme(axis.text.y=element_text(size=8)) +\n",
    "                        theme(axis.title=element_text(size=8)) +\n",
    "                        theme(legend.title=element_text(size=8),legend.text=element_text(size=8)) +\n",
    "                        theme(plot.title = element_text(size=10))    \n",
    "\n",
    "# Day\n",
    "bar_Day <-ggplot(data = train, aes(x=Day, fill = Day)) +\n",
    "            geom_bar(stat=\"count\") +\n",
    "            theme_minimal() +\n",
    "            ggtitle(\"Distribution of Day variable\") +\n",
    "            theme(axis.text.x=element_text(size=8, angle=90, hjust=1)) + \n",
    "            theme(axis.text.y=element_text(size=8)) +\n",
    "            theme(axis.title=element_text(size=8)) +\n",
    "            theme(legend.title=element_text(size=8),legend.text=element_text(size=8)) +\n",
    "            theme(plot.title = element_text(size=10))    \n",
    "\n",
    "grid.arrange(bar_Date, bar_Hour, bar_Seasons, bar_Holiday, bar_Functioning.Day, bar_Day, ncol=2)"
   ]
  },
  {
   "cell_type": "markdown",
   "metadata": {},
   "source": [
    "It seems that the distributions of Holiday and Functioning.Day data is highly unbalanced unlike other variables. \n",
    "- Holiday < No Holiday\n",
    "- Functioning Day > No functioning day"
   ]
  },
  {
   "cell_type": "markdown",
   "metadata": {},
   "source": [
    "#### Investigate the relationship between the target variable  and each category of categorical variables  using boxplots"
   ]
  },
  {
   "cell_type": "code",
   "execution_count": 9,
   "metadata": {},
   "outputs": [
    {
     "data": {
      "image/png": "[encoded data removed]",
      "text/plain": [
       "plot without title"
      ]
     },
     "metadata": {
      "image/png": {
       "height": 420,
       "width": 420
      }
     },
     "output_type": "display_data"
    }
   ],
   "source": [
    "# Check the relationship between the target variable and each category of the categorical variables \n",
    "\n",
    "#Hour\n",
    "box_Date <- ggplot(data= train, aes(x=factor(Date), y=Rented.Bike.Count)) + \n",
    "                geom_boxplot() + \n",
    "                theme_minimal() +\n",
    "                ggtitle(\"Rented.Bike.Count vs. Date\") +\n",
    "                theme(axis.text.x=element_text(size=1, angle=90, hjust=1)) + \n",
    "                theme(axis.text.y=element_text(size=8)) +\n",
    "                theme(axis.title=element_text(size=1)) +\n",
    "                theme(legend.title=element_text(size=8),legend.text=element_text(size=8)) +\n",
    "                theme(plot.title = element_text(size=10)) \n",
    "\n",
    "#Hour\n",
    "box_Hour <- ggplot(data= train, aes(x=factor(Hour), y=Rented.Bike.Count)) + \n",
    "                geom_boxplot() + \n",
    "                theme_minimal() +\n",
    "                ggtitle(\"Rented.Bike.Count vs. Hour\") +\n",
    "                theme(axis.text.x=element_text(size=8, angle=90, hjust=1)) + \n",
    "                theme(axis.text.y=element_text(size=8)) +\n",
    "                theme(axis.title=element_text(size=8)) +\n",
    "                theme(legend.title=element_text(size=8),legend.text=element_text(size=8)) +\n",
    "                theme(plot.title = element_text(size=10)) \n",
    "\n",
    "# Seasons\n",
    "box_Seasons <- ggplot(data= train, aes(x=Seasons, y=Rented.Bike.Count, fill=Seasons)) + \n",
    "                geom_boxplot() + \n",
    "                theme_minimal() +\n",
    "                ggtitle(\"Rented.Bike.Count vs. Seasons\") +\n",
    "                theme(axis.text.x=element_text(size=8, angle=90, hjust=1)) + \n",
    "                theme(axis.text.y=element_text(size=8)) +\n",
    "                theme(axis.title=element_text(size=8)) +\n",
    "                theme(legend.title=element_text(size=8),legend.text=element_text(size=8)) +\n",
    "                theme(plot.title = element_text(size=10)) \n",
    "# Holiday\n",
    "box_Holiday <- ggplot(data= train, aes(x=Holiday, y=Rented.Bike.Count, fill=Holiday)) + \n",
    "                geom_boxplot() + \n",
    "                theme_minimal() +\n",
    "                ggtitle(\"Rented.Bike.Count vs.Holiday\") +\n",
    "                theme(axis.text.x=element_text(size=8)) + \n",
    "                theme(axis.text.y=element_text(size=8)) +\n",
    "                theme(axis.title=element_text(size=8)) +\n",
    "                theme(legend.title=element_text(size=8),legend.text=element_text(size=8)) +\n",
    "                theme(plot.title = element_text(size=10))\n",
    "\n",
    "# Functioning.Day\n",
    "box_Functioning.Day <- ggplot(data= train, aes(x=Functioning.Day, y=Rented.Bike.Count, fill=Functioning.Day)) + \n",
    "                        geom_boxplot() + \n",
    "                        theme_minimal() +\n",
    "                        ggtitle(\"Rented.Bike.Count vs. Functioning.Day\") +\n",
    "                        theme(axis.text.x=element_text(size=8, angle=90, hjust=1)) + \n",
    "                        theme(axis.text.y=element_text(size=8)) +\n",
    "                        theme(axis.title=element_text(size=8)) +\n",
    "                        theme(legend.title=element_text(size=8),legend.text=element_text(size=8)) +\n",
    "                        theme(plot.title = element_text(size=10))\n",
    "\n",
    "# Day\n",
    "box_Day <- ggplot(data= train, aes(x=Day, y=Rented.Bike.Count, fill=Day)) + \n",
    "                geom_boxplot() + \n",
    "                theme_minimal() +\n",
    "                ggtitle(\"Rented.Bike.Count vs. Day\") +\n",
    "                theme(axis.text.x=element_text(size=8, angle=90, hjust=1)) + \n",
    "                theme(axis.text.y=element_text(size=8)) +\n",
    "                theme(axis.title=element_text(size=8)) +\n",
    "                theme(legend.title=element_text(size=8),legend.text=element_text(size=8)) +\n",
    "                theme(plot.title = element_text(size=10)) \n",
    "\n",
    "\n",
    "grid.arrange(box_Date, box_Hour, box_Seasons, box_Holiday,box_Functioning.Day, box_Day, ncol=2)"
   ]
  },
  {
   "cell_type": "markdown",
   "metadata": {},
   "source": [
    "- Hour: bike rental rates are higher in the afternoon than in the morning. peak at 16-20,followed by 7-9 o'clock. It seems that there are the majority number of bike rentals during commute time and not many rentals at night.\n",
    "- Seasons:  high rental rates in summer, low rates in winter <br>\n",
    "- Holiday: relatively high rental rates in no holidays <br>\n",
    "- Day: no much difference between days <br>\n",
    "- Functioning.Day: It seemes it is not be able to rent a bicycle unless it is on a functioning day"
   ]
  },
  {
   "cell_type": "markdown",
   "metadata": {},
   "source": [
    "Let's have a look at the data when funcioning day has no values."
   ]
  },
  {
   "cell_type": "code",
   "execution_count": 10,
   "metadata": {
    "scrolled": false
   },
   "outputs": [
    {
     "data": {
      "text/html": [
       "<table>\n",
       "<caption>A data.frame: 239 × 15</caption>\n",
       "<thead>\n",
       "\t<tr><th></th><th scope=col>Date</th><th scope=col>Rented.Bike.Count</th><th scope=col>Hour</th><th scope=col>Temperature</th><th scope=col>Humidity</th><th scope=col>Wind.speed</th><th scope=col>Visibility</th><th scope=col>Dew.point.temperature</th><th scope=col>Solar.Radiation</th><th scope=col>Rainfall</th><th scope=col>Snowfall</th><th scope=col>Seasons</th><th scope=col>Holiday</th><th scope=col>Functioning.Day</th><th scope=col>Day</th></tr>\n",
       "\t<tr><th></th><th scope=col>&lt;date&gt;</th><th scope=col>&lt;int&gt;</th><th scope=col>&lt;int&gt;</th><th scope=col>&lt;dbl&gt;</th><th scope=col>&lt;int&gt;</th><th scope=col>&lt;dbl&gt;</th><th scope=col>&lt;int&gt;</th><th scope=col>&lt;dbl&gt;</th><th scope=col>&lt;dbl&gt;</th><th scope=col>&lt;dbl&gt;</th><th scope=col>&lt;dbl&gt;</th><th scope=col>&lt;fct&gt;</th><th scope=col>&lt;fct&gt;</th><th scope=col>&lt;fct&gt;</th><th scope=col>&lt;fct&gt;</th></tr>\n",
       "</thead>\n",
       "<tbody>\n",
       "\t<tr><th scope=row>38</th><td>2004-10-18</td><td>0</td><td>22</td><td>19.8</td><td>60</td><td>1.6</td><td>2000</td><td>11.8</td><td>0.00</td><td>0.0</td><td>0</td><td>Autumn</td><td>No Holiday</td><td>No</td><td>Monday   </td></tr>\n",
       "\t<tr><th scope=row>40</th><td>2030-09-18</td><td>0</td><td>11</td><td>20.2</td><td>63</td><td>2.8</td><td>1195</td><td>12.9</td><td>1.25</td><td>0.0</td><td>0</td><td>Autumn</td><td>No Holiday</td><td>No</td><td>Wednesday</td></tr>\n",
       "\t<tr><th scope=row>69</th><td>2030-09-18</td><td>0</td><td> 8</td><td>16.2</td><td>69</td><td>1.1</td><td>2000</td><td>10.4</td><td>0.54</td><td>0.0</td><td>0</td><td>Autumn</td><td>No Holiday</td><td>No</td><td>Wednesday</td></tr>\n",
       "\t<tr><th scope=row>73</th><td>2006-11-18</td><td>0</td><td>13</td><td>16.1</td><td>56</td><td>1.7</td><td> 328</td><td> 7.3</td><td>1.54</td><td>0.0</td><td>0</td><td>Autumn</td><td>No Holiday</td><td>No</td><td>Saturday </td></tr>\n",
       "\t<tr><th scope=row>82</th><td>2006-11-18</td><td>0</td><td>11</td><td>13.0</td><td>55</td><td>1.0</td><td> 488</td><td> 4.1</td><td>0.84</td><td>0.0</td><td>0</td><td>Autumn</td><td>No Holiday</td><td>No</td><td>Saturday </td></tr>\n",
       "\t<tr><th scope=row>154</th><td>2018-09-18</td><td>0</td><td>20</td><td>22.6</td><td>58</td><td>1.4</td><td>2000</td><td>13.9</td><td>0.00</td><td>0.0</td><td>0</td><td>Autumn</td><td>No Holiday</td><td>No</td><td>Tuesday  </td></tr>\n",
       "\t<tr><th scope=row>181</th><td>2010-05-18</td><td>0</td><td>12</td><td>19.8</td><td>49</td><td>2.3</td><td>1320</td><td> 8.7</td><td>3.17</td><td>0.0</td><td>0</td><td>Spring</td><td>No Holiday</td><td>No</td><td>Tuesday  </td></tr>\n",
       "\t<tr><th scope=row>208</th><td>2004-10-18</td><td>0</td><td> 8</td><td>13.9</td><td>68</td><td>0.9</td><td>1912</td><td> 8.0</td><td>0.34</td><td>0.0</td><td>0</td><td>Autumn</td><td>No Holiday</td><td>No</td><td>Monday   </td></tr>\n",
       "\t<tr><th scope=row>211</th><td>2004-10-18</td><td>0</td><td>16</td><td>25.1</td><td>41</td><td>1.0</td><td>2000</td><td>10.9</td><td>1.22</td><td>0.0</td><td>0</td><td>Autumn</td><td>No Holiday</td><td>No</td><td>Monday   </td></tr>\n",
       "\t<tr><th scope=row>223</th><td>2006-11-18</td><td>0</td><td>15</td><td>16.3</td><td>54</td><td>1.6</td><td> 374</td><td> 6.9</td><td>0.76</td><td>0.0</td><td>0</td><td>Autumn</td><td>No Holiday</td><td>No</td><td>Saturday </td></tr>\n",
       "\t<tr><th scope=row>321</th><td>2009-10-18</td><td>0</td><td>10</td><td>14.8</td><td>51</td><td>1.0</td><td>1998</td><td> 4.7</td><td>1.07</td><td>0.0</td><td>0</td><td>Autumn</td><td>Holiday   </td><td>No</td><td>Sunday   </td></tr>\n",
       "\t<tr><th scope=row>334</th><td>2009-11-18</td><td>0</td><td> 8</td><td>10.1</td><td>85</td><td>2.4</td><td>1809</td><td> 7.6</td><td>0.05</td><td>0.0</td><td>0</td><td>Autumn</td><td>No Holiday</td><td>No</td><td>Wednesday</td></tr>\n",
       "\t<tr><th scope=row>337</th><td>2009-10-18</td><td>0</td><td>19</td><td>17.3</td><td>47</td><td>2.2</td><td>2000</td><td> 5.8</td><td>0.00</td><td>0.0</td><td>0</td><td>Autumn</td><td>Holiday   </td><td>No</td><td>Sunday   </td></tr>\n",
       "\t<tr><th scope=row>379</th><td>2004-10-18</td><td>0</td><td>23</td><td>19.4</td><td>62</td><td>1.7</td><td>2000</td><td>11.9</td><td>0.00</td><td>0.0</td><td>0</td><td>Autumn</td><td>No Holiday</td><td>No</td><td>Monday   </td></tr>\n",
       "\t<tr><th scope=row>404</th><td>2010-05-18</td><td>0</td><td> 1</td><td>13.9</td><td>66</td><td>1.0</td><td>1960</td><td> 7.6</td><td>0.00</td><td>0.0</td><td>0</td><td>Spring</td><td>No Holiday</td><td>No</td><td>Tuesday  </td></tr>\n",
       "\t<tr><th scope=row>422</th><td>2006-10-18</td><td>0</td><td> 6</td><td>16.5</td><td>96</td><td>2.3</td><td> 417</td><td>15.8</td><td>0.00</td><td>8.5</td><td>0</td><td>Autumn</td><td>No Holiday</td><td>No</td><td>Wednesday</td></tr>\n",
       "\t<tr><th scope=row>438</th><td>2004-10-18</td><td>0</td><td>19</td><td>22.3</td><td>50</td><td>1.4</td><td>2000</td><td>11.3</td><td>0.00</td><td>0.0</td><td>0</td><td>Autumn</td><td>No Holiday</td><td>No</td><td>Monday   </td></tr>\n",
       "\t<tr><th scope=row>452</th><td>2011-04-18</td><td>0</td><td> 3</td><td>11.6</td><td>81</td><td>3.1</td><td> 687</td><td> 8.4</td><td>0.00</td><td>0.0</td><td>0</td><td>Spring</td><td>No Holiday</td><td>No</td><td>Monday   </td></tr>\n",
       "\t<tr><th scope=row>455</th><td>2030-09-18</td><td>0</td><td> 1</td><td>17.5</td><td>66</td><td>0.5</td><td>2000</td><td>11.0</td><td>0.00</td><td>0.0</td><td>0</td><td>Autumn</td><td>No Holiday</td><td>No</td><td>Wednesday</td></tr>\n",
       "\t<tr><th scope=row>457</th><td>2019-09-18</td><td>0</td><td>23</td><td>20.4</td><td>57</td><td>0.9</td><td>2000</td><td>11.5</td><td>0.00</td><td>0.0</td><td>0</td><td>Autumn</td><td>No Holiday</td><td>No</td><td>Wednesday</td></tr>\n",
       "\t<tr><th scope=row>486</th><td>2018-09-18</td><td>0</td><td> 1</td><td>19.3</td><td>71</td><td>0.4</td><td>1912</td><td>13.9</td><td>0.00</td><td>0.0</td><td>0</td><td>Autumn</td><td>No Holiday</td><td>No</td><td>Tuesday  </td></tr>\n",
       "\t<tr><th scope=row>506</th><td>2011-04-18</td><td>0</td><td>20</td><td>11.9</td><td>33</td><td>2.0</td><td>2000</td><td>-3.8</td><td>0.00</td><td>0.0</td><td>0</td><td>Spring</td><td>No Holiday</td><td>No</td><td>Monday   </td></tr>\n",
       "\t<tr><th scope=row>530</th><td>2009-11-18</td><td>0</td><td>14</td><td>15.0</td><td>49</td><td>2.8</td><td> 518</td><td> 4.3</td><td>1.53</td><td>0.0</td><td>0</td><td>Autumn</td><td>No Holiday</td><td>No</td><td>Wednesday</td></tr>\n",
       "\t<tr><th scope=row>532</th><td>2009-11-18</td><td>0</td><td> 2</td><td>11.3</td><td>88</td><td>3.7</td><td>1680</td><td> 9.3</td><td>0.00</td><td>0.0</td><td>0</td><td>Autumn</td><td>No Holiday</td><td>No</td><td>Wednesday</td></tr>\n",
       "\t<tr><th scope=row>544</th><td>2011-04-18</td><td>0</td><td> 1</td><td>13.6</td><td>81</td><td>3.6</td><td> 886</td><td>10.3</td><td>0.00</td><td>0.0</td><td>0</td><td>Spring</td><td>No Holiday</td><td>No</td><td>Monday   </td></tr>\n",
       "\t<tr><th scope=row>581</th><td>2006-11-18</td><td>0</td><td> 2</td><td> 9.7</td><td>78</td><td>0.0</td><td> 619</td><td> 6.0</td><td>0.00</td><td>0.0</td><td>0</td><td>Autumn</td><td>No Holiday</td><td>No</td><td>Saturday </td></tr>\n",
       "\t<tr><th scope=row>686</th><td>2002-10-18</td><td>0</td><td> 0</td><td>13.0</td><td>72</td><td>1.8</td><td>1987</td><td> 8.0</td><td>0.00</td><td>0.0</td><td>0</td><td>Autumn</td><td>No Holiday</td><td>No</td><td>Friday   </td></tr>\n",
       "\t<tr><th scope=row>753</th><td>2004-10-18</td><td>0</td><td>14</td><td>24.3</td><td>39</td><td>1.7</td><td>2000</td><td> 9.4</td><td>2.18</td><td>0.0</td><td>0</td><td>Autumn</td><td>No Holiday</td><td>No</td><td>Monday   </td></tr>\n",
       "\t<tr><th scope=row>758</th><td>2018-09-18</td><td>0</td><td>17</td><td>25.5</td><td>38</td><td>2.9</td><td>1997</td><td>10.1</td><td>0.92</td><td>0.0</td><td>0</td><td>Autumn</td><td>No Holiday</td><td>No</td><td>Tuesday  </td></tr>\n",
       "\t<tr><th scope=row>762</th><td>2028-09-18</td><td>0</td><td>21</td><td>17.8</td><td>66</td><td>1.1</td><td>2000</td><td>11.3</td><td>0.00</td><td>0.0</td><td>0</td><td>Autumn</td><td>No Holiday</td><td>No</td><td>Monday   </td></tr>\n",
       "\t<tr><th scope=row>...</th><td>...</td><td>...</td><td>...</td><td>...</td><td>...</td><td>...</td><td>...</td><td>...</td><td>...</td><td>...</td><td>...</td><td>...</td><td>...</td><td>...</td><td>...</td></tr>\n",
       "\t<tr><th scope=row>6042</th><td>2011-04-18</td><td>0</td><td>15</td><td>17.0</td><td>28</td><td>3.5</td><td>1804</td><td>-1.6</td><td>2.90</td><td>0</td><td>0</td><td>Spring</td><td>No Holiday</td><td>No</td><td>Monday   </td></tr>\n",
       "\t<tr><th scope=row>6063</th><td>2009-10-18</td><td>0</td><td>18</td><td>17.7</td><td>43</td><td>1.5</td><td>2000</td><td> 4.9</td><td>0.05</td><td>0</td><td>0</td><td>Autumn</td><td>Holiday   </td><td>No</td><td>Sunday   </td></tr>\n",
       "\t<tr><th scope=row>6100</th><td>2003-11-18</td><td>0</td><td>20</td><td>12.1</td><td>68</td><td>0.8</td><td> 592</td><td> 6.3</td><td>0.00</td><td>0</td><td>0</td><td>Autumn</td><td>No Holiday</td><td>No</td><td>Tuesday  </td></tr>\n",
       "\t<tr><th scope=row>6104</th><td>2028-09-18</td><td>0</td><td>14</td><td>19.4</td><td>53</td><td>1.4</td><td>2000</td><td> 9.5</td><td>0.68</td><td>0</td><td>0</td><td>Autumn</td><td>No Holiday</td><td>No</td><td>Monday   </td></tr>\n",
       "\t<tr><th scope=row>6123</th><td>2010-05-18</td><td>0</td><td> 8</td><td>13.5</td><td>63</td><td>2.2</td><td>1211</td><td> 6.5</td><td>1.01</td><td>0</td><td>0</td><td>Spring</td><td>No Holiday</td><td>No</td><td>Tuesday  </td></tr>\n",
       "\t<tr><th scope=row>6144</th><td>2019-09-18</td><td>0</td><td>10</td><td>22.9</td><td>59</td><td>1.1</td><td>1819</td><td>14.4</td><td>1.49</td><td>0</td><td>0</td><td>Autumn</td><td>No Holiday</td><td>No</td><td>Wednesday</td></tr>\n",
       "\t<tr><th scope=row>6152</th><td>2002-10-18</td><td>0</td><td>15</td><td>21.8</td><td>38</td><td>2.6</td><td>1913</td><td> 6.8</td><td>2.22</td><td>0</td><td>0</td><td>Autumn</td><td>No Holiday</td><td>No</td><td>Friday   </td></tr>\n",
       "\t<tr><th scope=row>6160</th><td>2009-10-18</td><td>0</td><td> 9</td><td>12.8</td><td>57</td><td>1.2</td><td>1838</td><td> 4.4</td><td>0.55</td><td>0</td><td>0</td><td>Autumn</td><td>Holiday   </td><td>No</td><td>Sunday   </td></tr>\n",
       "\t<tr><th scope=row>6194</th><td>2018-09-18</td><td>0</td><td>18</td><td>24.8</td><td>48</td><td>1.4</td><td>2000</td><td>13.0</td><td>0.51</td><td>0</td><td>0</td><td>Autumn</td><td>No Holiday</td><td>No</td><td>Tuesday  </td></tr>\n",
       "\t<tr><th scope=row>6232</th><td>2011-04-18</td><td>0</td><td>16</td><td>16.9</td><td>23</td><td>4.4</td><td>1938</td><td>-4.4</td><td>2.39</td><td>0</td><td>0</td><td>Spring</td><td>No Holiday</td><td>No</td><td>Monday   </td></tr>\n",
       "\t<tr><th scope=row>6234</th><td>2009-10-18</td><td>0</td><td> 8</td><td>11.4</td><td>66</td><td>0.8</td><td>1991</td><td> 5.2</td><td>0.18</td><td>0</td><td>0</td><td>Autumn</td><td>Holiday   </td><td>No</td><td>Sunday   </td></tr>\n",
       "\t<tr><th scope=row>6259</th><td>2006-11-18</td><td>0</td><td>16</td><td>16.6</td><td>55</td><td>1.3</td><td> 334</td><td> 7.5</td><td>0.66</td><td>0</td><td>0</td><td>Autumn</td><td>No Holiday</td><td>No</td><td>Saturday </td></tr>\n",
       "\t<tr><th scope=row>6353</th><td>2009-10-18</td><td>0</td><td>20</td><td>17.0</td><td>49</td><td>1.4</td><td>2000</td><td> 6.1</td><td>0.00</td><td>0</td><td>0</td><td>Autumn</td><td>Holiday   </td><td>No</td><td>Sunday   </td></tr>\n",
       "\t<tr><th scope=row>6395</th><td>2018-09-18</td><td>0</td><td> 3</td><td>18.7</td><td>76</td><td>0.5</td><td>1916</td><td>14.3</td><td>0.00</td><td>0</td><td>0</td><td>Autumn</td><td>No Holiday</td><td>No</td><td>Tuesday  </td></tr>\n",
       "\t<tr><th scope=row>6413</th><td>2019-09-18</td><td>0</td><td>20</td><td>22.6</td><td>67</td><td>0.3</td><td>1737</td><td>16.1</td><td>0.00</td><td>0</td><td>0</td><td>Autumn</td><td>No Holiday</td><td>No</td><td>Wednesday</td></tr>\n",
       "\t<tr><th scope=row>6416</th><td>2009-11-18</td><td>0</td><td> 1</td><td>11.4</td><td>89</td><td>2.6</td><td>1376</td><td> 9.6</td><td>0.00</td><td>0</td><td>0</td><td>Autumn</td><td>No Holiday</td><td>No</td><td>Wednesday</td></tr>\n",
       "\t<tr><th scope=row>6463</th><td>2004-10-18</td><td>0</td><td>13</td><td>23.4</td><td>39</td><td>1.4</td><td>2000</td><td> 8.6</td><td>1.72</td><td>0</td><td>0</td><td>Autumn</td><td>No Holiday</td><td>No</td><td>Monday   </td></tr>\n",
       "\t<tr><th scope=row>6528</th><td>2002-10-18</td><td>0</td><td>19</td><td>17.6</td><td>57</td><td>1.7</td><td>2000</td><td> 8.9</td><td>0.00</td><td>0</td><td>0</td><td>Autumn</td><td>No Holiday</td><td>No</td><td>Friday   </td></tr>\n",
       "\t<tr><th scope=row>6552</th><td>2003-11-18</td><td>0</td><td>18</td><td>14.2</td><td>51</td><td>1.5</td><td> 990</td><td> 4.1</td><td>0.02</td><td>0</td><td>0</td><td>Autumn</td><td>No Holiday</td><td>No</td><td>Tuesday  </td></tr>\n",
       "\t<tr><th scope=row>6554</th><td>2011-04-18</td><td>0</td><td>13</td><td>15.6</td><td>38</td><td>4.7</td><td>1558</td><td> 1.3</td><td>3.32</td><td>0</td><td>0</td><td>Spring</td><td>No Holiday</td><td>No</td><td>Monday   </td></tr>\n",
       "\t<tr><th scope=row>6556</th><td>2010-05-18</td><td>0</td><td> 7</td><td>12.1</td><td>71</td><td>1.6</td><td> 876</td><td> 6.9</td><td>0.34</td><td>0</td><td>0</td><td>Spring</td><td>No Holiday</td><td>No</td><td>Tuesday  </td></tr>\n",
       "\t<tr><th scope=row>6671</th><td>2011-04-18</td><td>0</td><td> 6</td><td> 9.0</td><td>86</td><td>2.0</td><td> 442</td><td> 6.7</td><td>0.00</td><td>0</td><td>0</td><td>Spring</td><td>No Holiday</td><td>No</td><td>Monday   </td></tr>\n",
       "\t<tr><th scope=row>6699</th><td>2003-11-18</td><td>0</td><td> 4</td><td> 6.3</td><td>72</td><td>1.0</td><td>1104</td><td> 1.6</td><td>0.00</td><td>0</td><td>0</td><td>Autumn</td><td>No Holiday</td><td>No</td><td>Tuesday  </td></tr>\n",
       "\t<tr><th scope=row>6764</th><td>2010-05-18</td><td>0</td><td>15</td><td>20.4</td><td>51</td><td>4.0</td><td> 946</td><td> 9.9</td><td>2.87</td><td>0</td><td>0</td><td>Spring</td><td>No Holiday</td><td>No</td><td>Tuesday  </td></tr>\n",
       "\t<tr><th scope=row>6791</th><td>2028-09-18</td><td>0</td><td> 9</td><td>16.5</td><td>50</td><td>1.2</td><td>2000</td><td> 6.0</td><td>0.66</td><td>0</td><td>0</td><td>Autumn</td><td>No Holiday</td><td>No</td><td>Monday   </td></tr>\n",
       "\t<tr><th scope=row>6793</th><td>2002-10-18</td><td>0</td><td> 2</td><td>12.3</td><td>75</td><td>1.6</td><td>1840</td><td> 7.9</td><td>0.00</td><td>0</td><td>0</td><td>Autumn</td><td>No Holiday</td><td>No</td><td>Friday   </td></tr>\n",
       "\t<tr><th scope=row>6808</th><td>2018-09-18</td><td>0</td><td>10</td><td>22.7</td><td>54</td><td>1.0</td><td>1619</td><td>12.9</td><td>1.74</td><td>0</td><td>0</td><td>Autumn</td><td>No Holiday</td><td>No</td><td>Tuesday  </td></tr>\n",
       "\t<tr><th scope=row>6827</th><td>2009-11-18</td><td>0</td><td> 6</td><td>11.0</td><td>70</td><td>3.1</td><td> 900</td><td> 5.7</td><td>0.00</td><td>0</td><td>0</td><td>Autumn</td><td>No Holiday</td><td>No</td><td>Wednesday</td></tr>\n",
       "\t<tr><th scope=row>6902</th><td>2019-09-18</td><td>0</td><td> 3</td><td>19.7</td><td>70</td><td>0.5</td><td>2000</td><td>14.0</td><td>0.00</td><td>0</td><td>0</td><td>Autumn</td><td>No Holiday</td><td>No</td><td>Wednesday</td></tr>\n",
       "\t<tr><th scope=row>6944</th><td>2028-09-18</td><td>0</td><td> 4</td><td>14.7</td><td>62</td><td>1.5</td><td>2000</td><td> 7.4</td><td>0.00</td><td>0</td><td>0</td><td>Autumn</td><td>No Holiday</td><td>No</td><td>Monday   </td></tr>\n",
       "</tbody>\n",
       "</table>\n"
      ],
      "text/latex": [
       "A data.frame: 239 × 15\n",
       "\\begin{tabular}{r|lllllllllllllll}\n",
       "  & Date & Rented.Bike.Count & Hour & Temperature & Humidity & Wind.speed & Visibility & Dew.point.temperature & Solar.Radiation & Rainfall & Snowfall & Seasons & Holiday & Functioning.Day & Day\\\\\n",
       "  & <date> & <int> & <int> & <dbl> & <int> & <dbl> & <int> & <dbl> & <dbl> & <dbl> & <dbl> & <fct> & <fct> & <fct> & <fct>\\\\\n",
       "\\hline\n",
       "\t38 & 2004-10-18 & 0 & 22 & 19.8 & 60 & 1.6 & 2000 & 11.8 & 0.00 & 0.0 & 0 & Autumn & No Holiday & No & Monday   \\\\\n",
       "\t40 & 2030-09-18 & 0 & 11 & 20.2 & 63 & 2.8 & 1195 & 12.9 & 1.25 & 0.0 & 0 & Autumn & No Holiday & No & Wednesday\\\\\n",
       "\t69 & 2030-09-18 & 0 &  8 & 16.2 & 69 & 1.1 & 2000 & 10.4 & 0.54 & 0.0 & 0 & Autumn & No Holiday & No & Wednesday\\\\\n",
       "\t73 & 2006-11-18 & 0 & 13 & 16.1 & 56 & 1.7 &  328 &  7.3 & 1.54 & 0.0 & 0 & Autumn & No Holiday & No & Saturday \\\\\n",
       "\t82 & 2006-11-18 & 0 & 11 & 13.0 & 55 & 1.0 &  488 &  4.1 & 0.84 & 0.0 & 0 & Autumn & No Holiday & No & Saturday \\\\\n",
       "\t154 & 2018-09-18 & 0 & 20 & 22.6 & 58 & 1.4 & 2000 & 13.9 & 0.00 & 0.0 & 0 & Autumn & No Holiday & No & Tuesday  \\\\\n",
       "\t181 & 2010-05-18 & 0 & 12 & 19.8 & 49 & 2.3 & 1320 &  8.7 & 3.17 & 0.0 & 0 & Spring & No Holiday & No & Tuesday  \\\\\n",
       "\t208 & 2004-10-18 & 0 &  8 & 13.9 & 68 & 0.9 & 1912 &  8.0 & 0.34 & 0.0 & 0 & Autumn & No Holiday & No & Monday   \\\\\n",
       "\t211 & 2004-10-18 & 0 & 16 & 25.1 & 41 & 1.0 & 2000 & 10.9 & 1.22 & 0.0 & 0 & Autumn & No Holiday & No & Monday   \\\\\n",
       "\t223 & 2006-11-18 & 0 & 15 & 16.3 & 54 & 1.6 &  374 &  6.9 & 0.76 & 0.0 & 0 & Autumn & No Holiday & No & Saturday \\\\\n",
       "\t321 & 2009-10-18 & 0 & 10 & 14.8 & 51 & 1.0 & 1998 &  4.7 & 1.07 & 0.0 & 0 & Autumn & Holiday    & No & Sunday   \\\\\n",
       "\t334 & 2009-11-18 & 0 &  8 & 10.1 & 85 & 2.4 & 1809 &  7.6 & 0.05 & 0.0 & 0 & Autumn & No Holiday & No & Wednesday\\\\\n",
       "\t337 & 2009-10-18 & 0 & 19 & 17.3 & 47 & 2.2 & 2000 &  5.8 & 0.00 & 0.0 & 0 & Autumn & Holiday    & No & Sunday   \\\\\n",
       "\t379 & 2004-10-18 & 0 & 23 & 19.4 & 62 & 1.7 & 2000 & 11.9 & 0.00 & 0.0 & 0 & Autumn & No Holiday & No & Monday   \\\\\n",
       "\t404 & 2010-05-18 & 0 &  1 & 13.9 & 66 & 1.0 & 1960 &  7.6 & 0.00 & 0.0 & 0 & Spring & No Holiday & No & Tuesday  \\\\\n",
       "\t422 & 2006-10-18 & 0 &  6 & 16.5 & 96 & 2.3 &  417 & 15.8 & 0.00 & 8.5 & 0 & Autumn & No Holiday & No & Wednesday\\\\\n",
       "\t438 & 2004-10-18 & 0 & 19 & 22.3 & 50 & 1.4 & 2000 & 11.3 & 0.00 & 0.0 & 0 & Autumn & No Holiday & No & Monday   \\\\\n",
       "\t452 & 2011-04-18 & 0 &  3 & 11.6 & 81 & 3.1 &  687 &  8.4 & 0.00 & 0.0 & 0 & Spring & No Holiday & No & Monday   \\\\\n",
       "\t455 & 2030-09-18 & 0 &  1 & 17.5 & 66 & 0.5 & 2000 & 11.0 & 0.00 & 0.0 & 0 & Autumn & No Holiday & No & Wednesday\\\\\n",
       "\t457 & 2019-09-18 & 0 & 23 & 20.4 & 57 & 0.9 & 2000 & 11.5 & 0.00 & 0.0 & 0 & Autumn & No Holiday & No & Wednesday\\\\\n",
       "\t486 & 2018-09-18 & 0 &  1 & 19.3 & 71 & 0.4 & 1912 & 13.9 & 0.00 & 0.0 & 0 & Autumn & No Holiday & No & Tuesday  \\\\\n",
       "\t506 & 2011-04-18 & 0 & 20 & 11.9 & 33 & 2.0 & 2000 & -3.8 & 0.00 & 0.0 & 0 & Spring & No Holiday & No & Monday   \\\\\n",
       "\t530 & 2009-11-18 & 0 & 14 & 15.0 & 49 & 2.8 &  518 &  4.3 & 1.53 & 0.0 & 0 & Autumn & No Holiday & No & Wednesday\\\\\n",
       "\t532 & 2009-11-18 & 0 &  2 & 11.3 & 88 & 3.7 & 1680 &  9.3 & 0.00 & 0.0 & 0 & Autumn & No Holiday & No & Wednesday\\\\\n",
       "\t544 & 2011-04-18 & 0 &  1 & 13.6 & 81 & 3.6 &  886 & 10.3 & 0.00 & 0.0 & 0 & Spring & No Holiday & No & Monday   \\\\\n",
       "\t581 & 2006-11-18 & 0 &  2 &  9.7 & 78 & 0.0 &  619 &  6.0 & 0.00 & 0.0 & 0 & Autumn & No Holiday & No & Saturday \\\\\n",
       "\t686 & 2002-10-18 & 0 &  0 & 13.0 & 72 & 1.8 & 1987 &  8.0 & 0.00 & 0.0 & 0 & Autumn & No Holiday & No & Friday   \\\\\n",
       "\t753 & 2004-10-18 & 0 & 14 & 24.3 & 39 & 1.7 & 2000 &  9.4 & 2.18 & 0.0 & 0 & Autumn & No Holiday & No & Monday   \\\\\n",
       "\t758 & 2018-09-18 & 0 & 17 & 25.5 & 38 & 2.9 & 1997 & 10.1 & 0.92 & 0.0 & 0 & Autumn & No Holiday & No & Tuesday  \\\\\n",
       "\t762 & 2028-09-18 & 0 & 21 & 17.8 & 66 & 1.1 & 2000 & 11.3 & 0.00 & 0.0 & 0 & Autumn & No Holiday & No & Monday   \\\\\n",
       "\t... & ... & ... & ... & ... & ... & ... & ... & ... & ... & ... & ... & ... & ... & ... & ...\\\\\n",
       "\t6042 & 2011-04-18 & 0 & 15 & 17.0 & 28 & 3.5 & 1804 & -1.6 & 2.90 & 0 & 0 & Spring & No Holiday & No & Monday   \\\\\n",
       "\t6063 & 2009-10-18 & 0 & 18 & 17.7 & 43 & 1.5 & 2000 &  4.9 & 0.05 & 0 & 0 & Autumn & Holiday    & No & Sunday   \\\\\n",
       "\t6100 & 2003-11-18 & 0 & 20 & 12.1 & 68 & 0.8 &  592 &  6.3 & 0.00 & 0 & 0 & Autumn & No Holiday & No & Tuesday  \\\\\n",
       "\t6104 & 2028-09-18 & 0 & 14 & 19.4 & 53 & 1.4 & 2000 &  9.5 & 0.68 & 0 & 0 & Autumn & No Holiday & No & Monday   \\\\\n",
       "\t6123 & 2010-05-18 & 0 &  8 & 13.5 & 63 & 2.2 & 1211 &  6.5 & 1.01 & 0 & 0 & Spring & No Holiday & No & Tuesday  \\\\\n",
       "\t6144 & 2019-09-18 & 0 & 10 & 22.9 & 59 & 1.1 & 1819 & 14.4 & 1.49 & 0 & 0 & Autumn & No Holiday & No & Wednesday\\\\\n",
       "\t6152 & 2002-10-18 & 0 & 15 & 21.8 & 38 & 2.6 & 1913 &  6.8 & 2.22 & 0 & 0 & Autumn & No Holiday & No & Friday   \\\\\n",
       "\t6160 & 2009-10-18 & 0 &  9 & 12.8 & 57 & 1.2 & 1838 &  4.4 & 0.55 & 0 & 0 & Autumn & Holiday    & No & Sunday   \\\\\n",
       "\t6194 & 2018-09-18 & 0 & 18 & 24.8 & 48 & 1.4 & 2000 & 13.0 & 0.51 & 0 & 0 & Autumn & No Holiday & No & Tuesday  \\\\\n",
       "\t6232 & 2011-04-18 & 0 & 16 & 16.9 & 23 & 4.4 & 1938 & -4.4 & 2.39 & 0 & 0 & Spring & No Holiday & No & Monday   \\\\\n",
       "\t6234 & 2009-10-18 & 0 &  8 & 11.4 & 66 & 0.8 & 1991 &  5.2 & 0.18 & 0 & 0 & Autumn & Holiday    & No & Sunday   \\\\\n",
       "\t6259 & 2006-11-18 & 0 & 16 & 16.6 & 55 & 1.3 &  334 &  7.5 & 0.66 & 0 & 0 & Autumn & No Holiday & No & Saturday \\\\\n",
       "\t6353 & 2009-10-18 & 0 & 20 & 17.0 & 49 & 1.4 & 2000 &  6.1 & 0.00 & 0 & 0 & Autumn & Holiday    & No & Sunday   \\\\\n",
       "\t6395 & 2018-09-18 & 0 &  3 & 18.7 & 76 & 0.5 & 1916 & 14.3 & 0.00 & 0 & 0 & Autumn & No Holiday & No & Tuesday  \\\\\n",
       "\t6413 & 2019-09-18 & 0 & 20 & 22.6 & 67 & 0.3 & 1737 & 16.1 & 0.00 & 0 & 0 & Autumn & No Holiday & No & Wednesday\\\\\n",
       "\t6416 & 2009-11-18 & 0 &  1 & 11.4 & 89 & 2.6 & 1376 &  9.6 & 0.00 & 0 & 0 & Autumn & No Holiday & No & Wednesday\\\\\n",
       "\t6463 & 2004-10-18 & 0 & 13 & 23.4 & 39 & 1.4 & 2000 &  8.6 & 1.72 & 0 & 0 & Autumn & No Holiday & No & Monday   \\\\\n",
       "\t6528 & 2002-10-18 & 0 & 19 & 17.6 & 57 & 1.7 & 2000 &  8.9 & 0.00 & 0 & 0 & Autumn & No Holiday & No & Friday   \\\\\n",
       "\t6552 & 2003-11-18 & 0 & 18 & 14.2 & 51 & 1.5 &  990 &  4.1 & 0.02 & 0 & 0 & Autumn & No Holiday & No & Tuesday  \\\\\n",
       "\t6554 & 2011-04-18 & 0 & 13 & 15.6 & 38 & 4.7 & 1558 &  1.3 & 3.32 & 0 & 0 & Spring & No Holiday & No & Monday   \\\\\n",
       "\t6556 & 2010-05-18 & 0 &  7 & 12.1 & 71 & 1.6 &  876 &  6.9 & 0.34 & 0 & 0 & Spring & No Holiday & No & Tuesday  \\\\\n",
       "\t6671 & 2011-04-18 & 0 &  6 &  9.0 & 86 & 2.0 &  442 &  6.7 & 0.00 & 0 & 0 & Spring & No Holiday & No & Monday   \\\\\n",
       "\t6699 & 2003-11-18 & 0 &  4 &  6.3 & 72 & 1.0 & 1104 &  1.6 & 0.00 & 0 & 0 & Autumn & No Holiday & No & Tuesday  \\\\\n",
       "\t6764 & 2010-05-18 & 0 & 15 & 20.4 & 51 & 4.0 &  946 &  9.9 & 2.87 & 0 & 0 & Spring & No Holiday & No & Tuesday  \\\\\n",
       "\t6791 & 2028-09-18 & 0 &  9 & 16.5 & 50 & 1.2 & 2000 &  6.0 & 0.66 & 0 & 0 & Autumn & No Holiday & No & Monday   \\\\\n",
       "\t6793 & 2002-10-18 & 0 &  2 & 12.3 & 75 & 1.6 & 1840 &  7.9 & 0.00 & 0 & 0 & Autumn & No Holiday & No & Friday   \\\\\n",
       "\t6808 & 2018-09-18 & 0 & 10 & 22.7 & 54 & 1.0 & 1619 & 12.9 & 1.74 & 0 & 0 & Autumn & No Holiday & No & Tuesday  \\\\\n",
       "\t6827 & 2009-11-18 & 0 &  6 & 11.0 & 70 & 3.1 &  900 &  5.7 & 0.00 & 0 & 0 & Autumn & No Holiday & No & Wednesday\\\\\n",
       "\t6902 & 2019-09-18 & 0 &  3 & 19.7 & 70 & 0.5 & 2000 & 14.0 & 0.00 & 0 & 0 & Autumn & No Holiday & No & Wednesday\\\\\n",
       "\t6944 & 2028-09-18 & 0 &  4 & 14.7 & 62 & 1.5 & 2000 &  7.4 & 0.00 & 0 & 0 & Autumn & No Holiday & No & Monday   \\\\\n",
       "\\end{tabular}\n"
      ],
      "text/markdown": [
       "\n",
       "A data.frame: 239 × 15\n",
       "\n",
       "| <!--/--> | Date &lt;date&gt; | Rented.Bike.Count &lt;int&gt; | Hour &lt;int&gt; | Temperature &lt;dbl&gt; | Humidity &lt;int&gt; | Wind.speed &lt;dbl&gt; | Visibility &lt;int&gt; | Dew.point.temperature &lt;dbl&gt; | Solar.Radiation &lt;dbl&gt; | Rainfall &lt;dbl&gt; | Snowfall &lt;dbl&gt; | Seasons &lt;fct&gt; | Holiday &lt;fct&gt; | Functioning.Day &lt;fct&gt; | Day &lt;fct&gt; |\n",
       "|---|---|---|---|---|---|---|---|---|---|---|---|---|---|---|---|\n",
       "| 38 | 2004-10-18 | 0 | 22 | 19.8 | 60 | 1.6 | 2000 | 11.8 | 0.00 | 0.0 | 0 | Autumn | No Holiday | No | Monday    |\n",
       "| 40 | 2030-09-18 | 0 | 11 | 20.2 | 63 | 2.8 | 1195 | 12.9 | 1.25 | 0.0 | 0 | Autumn | No Holiday | No | Wednesday |\n",
       "| 69 | 2030-09-18 | 0 |  8 | 16.2 | 69 | 1.1 | 2000 | 10.4 | 0.54 | 0.0 | 0 | Autumn | No Holiday | No | Wednesday |\n",
       "| 73 | 2006-11-18 | 0 | 13 | 16.1 | 56 | 1.7 |  328 |  7.3 | 1.54 | 0.0 | 0 | Autumn | No Holiday | No | Saturday  |\n",
       "| 82 | 2006-11-18 | 0 | 11 | 13.0 | 55 | 1.0 |  488 |  4.1 | 0.84 | 0.0 | 0 | Autumn | No Holiday | No | Saturday  |\n",
       "| 154 | 2018-09-18 | 0 | 20 | 22.6 | 58 | 1.4 | 2000 | 13.9 | 0.00 | 0.0 | 0 | Autumn | No Holiday | No | Tuesday   |\n",
       "| 181 | 2010-05-18 | 0 | 12 | 19.8 | 49 | 2.3 | 1320 |  8.7 | 3.17 | 0.0 | 0 | Spring | No Holiday | No | Tuesday   |\n",
       "| 208 | 2004-10-18 | 0 |  8 | 13.9 | 68 | 0.9 | 1912 |  8.0 | 0.34 | 0.0 | 0 | Autumn | No Holiday | No | Monday    |\n",
       "| 211 | 2004-10-18 | 0 | 16 | 25.1 | 41 | 1.0 | 2000 | 10.9 | 1.22 | 0.0 | 0 | Autumn | No Holiday | No | Monday    |\n",
       "| 223 | 2006-11-18 | 0 | 15 | 16.3 | 54 | 1.6 |  374 |  6.9 | 0.76 | 0.0 | 0 | Autumn | No Holiday | No | Saturday  |\n",
       "| 321 | 2009-10-18 | 0 | 10 | 14.8 | 51 | 1.0 | 1998 |  4.7 | 1.07 | 0.0 | 0 | Autumn | Holiday    | No | Sunday    |\n",
       "| 334 | 2009-11-18 | 0 |  8 | 10.1 | 85 | 2.4 | 1809 |  7.6 | 0.05 | 0.0 | 0 | Autumn | No Holiday | No | Wednesday |\n",
       "| 337 | 2009-10-18 | 0 | 19 | 17.3 | 47 | 2.2 | 2000 |  5.8 | 0.00 | 0.0 | 0 | Autumn | Holiday    | No | Sunday    |\n",
       "| 379 | 2004-10-18 | 0 | 23 | 19.4 | 62 | 1.7 | 2000 | 11.9 | 0.00 | 0.0 | 0 | Autumn | No Holiday | No | Monday    |\n",
       "| 404 | 2010-05-18 | 0 |  1 | 13.9 | 66 | 1.0 | 1960 |  7.6 | 0.00 | 0.0 | 0 | Spring | No Holiday | No | Tuesday   |\n",
       "| 422 | 2006-10-18 | 0 |  6 | 16.5 | 96 | 2.3 |  417 | 15.8 | 0.00 | 8.5 | 0 | Autumn | No Holiday | No | Wednesday |\n",
       "| 438 | 2004-10-18 | 0 | 19 | 22.3 | 50 | 1.4 | 2000 | 11.3 | 0.00 | 0.0 | 0 | Autumn | No Holiday | No | Monday    |\n",
       "| 452 | 2011-04-18 | 0 |  3 | 11.6 | 81 | 3.1 |  687 |  8.4 | 0.00 | 0.0 | 0 | Spring | No Holiday | No | Monday    |\n",
       "| 455 | 2030-09-18 | 0 |  1 | 17.5 | 66 | 0.5 | 2000 | 11.0 | 0.00 | 0.0 | 0 | Autumn | No Holiday | No | Wednesday |\n",
       "| 457 | 2019-09-18 | 0 | 23 | 20.4 | 57 | 0.9 | 2000 | 11.5 | 0.00 | 0.0 | 0 | Autumn | No Holiday | No | Wednesday |\n",
       "| 486 | 2018-09-18 | 0 |  1 | 19.3 | 71 | 0.4 | 1912 | 13.9 | 0.00 | 0.0 | 0 | Autumn | No Holiday | No | Tuesday   |\n",
       "| 506 | 2011-04-18 | 0 | 20 | 11.9 | 33 | 2.0 | 2000 | -3.8 | 0.00 | 0.0 | 0 | Spring | No Holiday | No | Monday    |\n",
       "| 530 | 2009-11-18 | 0 | 14 | 15.0 | 49 | 2.8 |  518 |  4.3 | 1.53 | 0.0 | 0 | Autumn | No Holiday | No | Wednesday |\n",
       "| 532 | 2009-11-18 | 0 |  2 | 11.3 | 88 | 3.7 | 1680 |  9.3 | 0.00 | 0.0 | 0 | Autumn | No Holiday | No | Wednesday |\n",
       "| 544 | 2011-04-18 | 0 |  1 | 13.6 | 81 | 3.6 |  886 | 10.3 | 0.00 | 0.0 | 0 | Spring | No Holiday | No | Monday    |\n",
       "| 581 | 2006-11-18 | 0 |  2 |  9.7 | 78 | 0.0 |  619 |  6.0 | 0.00 | 0.0 | 0 | Autumn | No Holiday | No | Saturday  |\n",
       "| 686 | 2002-10-18 | 0 |  0 | 13.0 | 72 | 1.8 | 1987 |  8.0 | 0.00 | 0.0 | 0 | Autumn | No Holiday | No | Friday    |\n",
       "| 753 | 2004-10-18 | 0 | 14 | 24.3 | 39 | 1.7 | 2000 |  9.4 | 2.18 | 0.0 | 0 | Autumn | No Holiday | No | Monday    |\n",
       "| 758 | 2018-09-18 | 0 | 17 | 25.5 | 38 | 2.9 | 1997 | 10.1 | 0.92 | 0.0 | 0 | Autumn | No Holiday | No | Tuesday   |\n",
       "| 762 | 2028-09-18 | 0 | 21 | 17.8 | 66 | 1.1 | 2000 | 11.3 | 0.00 | 0.0 | 0 | Autumn | No Holiday | No | Monday    |\n",
       "| ... | ... | ... | ... | ... | ... | ... | ... | ... | ... | ... | ... | ... | ... | ... | ... |\n",
       "| 6042 | 2011-04-18 | 0 | 15 | 17.0 | 28 | 3.5 | 1804 | -1.6 | 2.90 | 0 | 0 | Spring | No Holiday | No | Monday    |\n",
       "| 6063 | 2009-10-18 | 0 | 18 | 17.7 | 43 | 1.5 | 2000 |  4.9 | 0.05 | 0 | 0 | Autumn | Holiday    | No | Sunday    |\n",
       "| 6100 | 2003-11-18 | 0 | 20 | 12.1 | 68 | 0.8 |  592 |  6.3 | 0.00 | 0 | 0 | Autumn | No Holiday | No | Tuesday   |\n",
       "| 6104 | 2028-09-18 | 0 | 14 | 19.4 | 53 | 1.4 | 2000 |  9.5 | 0.68 | 0 | 0 | Autumn | No Holiday | No | Monday    |\n",
       "| 6123 | 2010-05-18 | 0 |  8 | 13.5 | 63 | 2.2 | 1211 |  6.5 | 1.01 | 0 | 0 | Spring | No Holiday | No | Tuesday   |\n",
       "| 6144 | 2019-09-18 | 0 | 10 | 22.9 | 59 | 1.1 | 1819 | 14.4 | 1.49 | 0 | 0 | Autumn | No Holiday | No | Wednesday |\n",
       "| 6152 | 2002-10-18 | 0 | 15 | 21.8 | 38 | 2.6 | 1913 |  6.8 | 2.22 | 0 | 0 | Autumn | No Holiday | No | Friday    |\n",
       "| 6160 | 2009-10-18 | 0 |  9 | 12.8 | 57 | 1.2 | 1838 |  4.4 | 0.55 | 0 | 0 | Autumn | Holiday    | No | Sunday    |\n",
       "| 6194 | 2018-09-18 | 0 | 18 | 24.8 | 48 | 1.4 | 2000 | 13.0 | 0.51 | 0 | 0 | Autumn | No Holiday | No | Tuesday   |\n",
       "| 6232 | 2011-04-18 | 0 | 16 | 16.9 | 23 | 4.4 | 1938 | -4.4 | 2.39 | 0 | 0 | Spring | No Holiday | No | Monday    |\n",
       "| 6234 | 2009-10-18 | 0 |  8 | 11.4 | 66 | 0.8 | 1991 |  5.2 | 0.18 | 0 | 0 | Autumn | Holiday    | No | Sunday    |\n",
       "| 6259 | 2006-11-18 | 0 | 16 | 16.6 | 55 | 1.3 |  334 |  7.5 | 0.66 | 0 | 0 | Autumn | No Holiday | No | Saturday  |\n",
       "| 6353 | 2009-10-18 | 0 | 20 | 17.0 | 49 | 1.4 | 2000 |  6.1 | 0.00 | 0 | 0 | Autumn | Holiday    | No | Sunday    |\n",
       "| 6395 | 2018-09-18 | 0 |  3 | 18.7 | 76 | 0.5 | 1916 | 14.3 | 0.00 | 0 | 0 | Autumn | No Holiday | No | Tuesday   |\n",
       "| 6413 | 2019-09-18 | 0 | 20 | 22.6 | 67 | 0.3 | 1737 | 16.1 | 0.00 | 0 | 0 | Autumn | No Holiday | No | Wednesday |\n",
       "| 6416 | 2009-11-18 | 0 |  1 | 11.4 | 89 | 2.6 | 1376 |  9.6 | 0.00 | 0 | 0 | Autumn | No Holiday | No | Wednesday |\n",
       "| 6463 | 2004-10-18 | 0 | 13 | 23.4 | 39 | 1.4 | 2000 |  8.6 | 1.72 | 0 | 0 | Autumn | No Holiday | No | Monday    |\n",
       "| 6528 | 2002-10-18 | 0 | 19 | 17.6 | 57 | 1.7 | 2000 |  8.9 | 0.00 | 0 | 0 | Autumn | No Holiday | No | Friday    |\n",
       "| 6552 | 2003-11-18 | 0 | 18 | 14.2 | 51 | 1.5 |  990 |  4.1 | 0.02 | 0 | 0 | Autumn | No Holiday | No | Tuesday   |\n",
       "| 6554 | 2011-04-18 | 0 | 13 | 15.6 | 38 | 4.7 | 1558 |  1.3 | 3.32 | 0 | 0 | Spring | No Holiday | No | Monday    |\n",
       "| 6556 | 2010-05-18 | 0 |  7 | 12.1 | 71 | 1.6 |  876 |  6.9 | 0.34 | 0 | 0 | Spring | No Holiday | No | Tuesday   |\n",
       "| 6671 | 2011-04-18 | 0 |  6 |  9.0 | 86 | 2.0 |  442 |  6.7 | 0.00 | 0 | 0 | Spring | No Holiday | No | Monday    |\n",
       "| 6699 | 2003-11-18 | 0 |  4 |  6.3 | 72 | 1.0 | 1104 |  1.6 | 0.00 | 0 | 0 | Autumn | No Holiday | No | Tuesday   |\n",
       "| 6764 | 2010-05-18 | 0 | 15 | 20.4 | 51 | 4.0 |  946 |  9.9 | 2.87 | 0 | 0 | Spring | No Holiday | No | Tuesday   |\n",
       "| 6791 | 2028-09-18 | 0 |  9 | 16.5 | 50 | 1.2 | 2000 |  6.0 | 0.66 | 0 | 0 | Autumn | No Holiday | No | Monday    |\n",
       "| 6793 | 2002-10-18 | 0 |  2 | 12.3 | 75 | 1.6 | 1840 |  7.9 | 0.00 | 0 | 0 | Autumn | No Holiday | No | Friday    |\n",
       "| 6808 | 2018-09-18 | 0 | 10 | 22.7 | 54 | 1.0 | 1619 | 12.9 | 1.74 | 0 | 0 | Autumn | No Holiday | No | Tuesday   |\n",
       "| 6827 | 2009-11-18 | 0 |  6 | 11.0 | 70 | 3.1 |  900 |  5.7 | 0.00 | 0 | 0 | Autumn | No Holiday | No | Wednesday |\n",
       "| 6902 | 2019-09-18 | 0 |  3 | 19.7 | 70 | 0.5 | 2000 | 14.0 | 0.00 | 0 | 0 | Autumn | No Holiday | No | Wednesday |\n",
       "| 6944 | 2028-09-18 | 0 |  4 | 14.7 | 62 | 1.5 | 2000 |  7.4 | 0.00 | 0 | 0 | Autumn | No Holiday | No | Monday    |\n",
       "\n"
      ],
      "text/plain": [
       "     Date       Rented.Bike.Count Hour Temperature Humidity Wind.speed\n",
       "38   2004-10-18 0                 22   19.8        60       1.6       \n",
       "40   2030-09-18 0                 11   20.2        63       2.8       \n",
       "69   2030-09-18 0                  8   16.2        69       1.1       \n",
       "73   2006-11-18 0                 13   16.1        56       1.7       \n",
       "82   2006-11-18 0                 11   13.0        55       1.0       \n",
       "154  2018-09-18 0                 20   22.6        58       1.4       \n",
       "181  2010-05-18 0                 12   19.8        49       2.3       \n",
       "208  2004-10-18 0                  8   13.9        68       0.9       \n",
       "211  2004-10-18 0                 16   25.1        41       1.0       \n",
       "223  2006-11-18 0                 15   16.3        54       1.6       \n",
       "321  2009-10-18 0                 10   14.8        51       1.0       \n",
       "334  2009-11-18 0                  8   10.1        85       2.4       \n",
       "337  2009-10-18 0                 19   17.3        47       2.2       \n",
       "379  2004-10-18 0                 23   19.4        62       1.7       \n",
       "404  2010-05-18 0                  1   13.9        66       1.0       \n",
       "422  2006-10-18 0                  6   16.5        96       2.3       \n",
       "438  2004-10-18 0                 19   22.3        50       1.4       \n",
       "452  2011-04-18 0                  3   11.6        81       3.1       \n",
       "455  2030-09-18 0                  1   17.5        66       0.5       \n",
       "457  2019-09-18 0                 23   20.4        57       0.9       \n",
       "486  2018-09-18 0                  1   19.3        71       0.4       \n",
       "506  2011-04-18 0                 20   11.9        33       2.0       \n",
       "530  2009-11-18 0                 14   15.0        49       2.8       \n",
       "532  2009-11-18 0                  2   11.3        88       3.7       \n",
       "544  2011-04-18 0                  1   13.6        81       3.6       \n",
       "581  2006-11-18 0                  2    9.7        78       0.0       \n",
       "686  2002-10-18 0                  0   13.0        72       1.8       \n",
       "753  2004-10-18 0                 14   24.3        39       1.7       \n",
       "758  2018-09-18 0                 17   25.5        38       2.9       \n",
       "762  2028-09-18 0                 21   17.8        66       1.1       \n",
       "...  ...        ...               ...  ...         ...      ...       \n",
       "6042 2011-04-18 0                 15   17.0        28       3.5       \n",
       "6063 2009-10-18 0                 18   17.7        43       1.5       \n",
       "6100 2003-11-18 0                 20   12.1        68       0.8       \n",
       "6104 2028-09-18 0                 14   19.4        53       1.4       \n",
       "6123 2010-05-18 0                  8   13.5        63       2.2       \n",
       "6144 2019-09-18 0                 10   22.9        59       1.1       \n",
       "6152 2002-10-18 0                 15   21.8        38       2.6       \n",
       "6160 2009-10-18 0                  9   12.8        57       1.2       \n",
       "6194 2018-09-18 0                 18   24.8        48       1.4       \n",
       "6232 2011-04-18 0                 16   16.9        23       4.4       \n",
       "6234 2009-10-18 0                  8   11.4        66       0.8       \n",
       "6259 2006-11-18 0                 16   16.6        55       1.3       \n",
       "6353 2009-10-18 0                 20   17.0        49       1.4       \n",
       "6395 2018-09-18 0                  3   18.7        76       0.5       \n",
       "6413 2019-09-18 0                 20   22.6        67       0.3       \n",
       "6416 2009-11-18 0                  1   11.4        89       2.6       \n",
       "6463 2004-10-18 0                 13   23.4        39       1.4       \n",
       "6528 2002-10-18 0                 19   17.6        57       1.7       \n",
       "6552 2003-11-18 0                 18   14.2        51       1.5       \n",
       "6554 2011-04-18 0                 13   15.6        38       4.7       \n",
       "6556 2010-05-18 0                  7   12.1        71       1.6       \n",
       "6671 2011-04-18 0                  6    9.0        86       2.0       \n",
       "6699 2003-11-18 0                  4    6.3        72       1.0       \n",
       "6764 2010-05-18 0                 15   20.4        51       4.0       \n",
       "6791 2028-09-18 0                  9   16.5        50       1.2       \n",
       "6793 2002-10-18 0                  2   12.3        75       1.6       \n",
       "6808 2018-09-18 0                 10   22.7        54       1.0       \n",
       "6827 2009-11-18 0                  6   11.0        70       3.1       \n",
       "6902 2019-09-18 0                  3   19.7        70       0.5       \n",
       "6944 2028-09-18 0                  4   14.7        62       1.5       \n",
       "     Visibility Dew.point.temperature Solar.Radiation Rainfall Snowfall Seasons\n",
       "38   2000       11.8                  0.00            0.0      0        Autumn \n",
       "40   1195       12.9                  1.25            0.0      0        Autumn \n",
       "69   2000       10.4                  0.54            0.0      0        Autumn \n",
       "73    328        7.3                  1.54            0.0      0        Autumn \n",
       "82    488        4.1                  0.84            0.0      0        Autumn \n",
       "154  2000       13.9                  0.00            0.0      0        Autumn \n",
       "181  1320        8.7                  3.17            0.0      0        Spring \n",
       "208  1912        8.0                  0.34            0.0      0        Autumn \n",
       "211  2000       10.9                  1.22            0.0      0        Autumn \n",
       "223   374        6.9                  0.76            0.0      0        Autumn \n",
       "321  1998        4.7                  1.07            0.0      0        Autumn \n",
       "334  1809        7.6                  0.05            0.0      0        Autumn \n",
       "337  2000        5.8                  0.00            0.0      0        Autumn \n",
       "379  2000       11.9                  0.00            0.0      0        Autumn \n",
       "404  1960        7.6                  0.00            0.0      0        Spring \n",
       "422   417       15.8                  0.00            8.5      0        Autumn \n",
       "438  2000       11.3                  0.00            0.0      0        Autumn \n",
       "452   687        8.4                  0.00            0.0      0        Spring \n",
       "455  2000       11.0                  0.00            0.0      0        Autumn \n",
       "457  2000       11.5                  0.00            0.0      0        Autumn \n",
       "486  1912       13.9                  0.00            0.0      0        Autumn \n",
       "506  2000       -3.8                  0.00            0.0      0        Spring \n",
       "530   518        4.3                  1.53            0.0      0        Autumn \n",
       "532  1680        9.3                  0.00            0.0      0        Autumn \n",
       "544   886       10.3                  0.00            0.0      0        Spring \n",
       "581   619        6.0                  0.00            0.0      0        Autumn \n",
       "686  1987        8.0                  0.00            0.0      0        Autumn \n",
       "753  2000        9.4                  2.18            0.0      0        Autumn \n",
       "758  1997       10.1                  0.92            0.0      0        Autumn \n",
       "762  2000       11.3                  0.00            0.0      0        Autumn \n",
       "...  ...        ...                   ...             ...      ...      ...    \n",
       "6042 1804       -1.6                  2.90            0        0        Spring \n",
       "6063 2000        4.9                  0.05            0        0        Autumn \n",
       "6100  592        6.3                  0.00            0        0        Autumn \n",
       "6104 2000        9.5                  0.68            0        0        Autumn \n",
       "6123 1211        6.5                  1.01            0        0        Spring \n",
       "6144 1819       14.4                  1.49            0        0        Autumn \n",
       "6152 1913        6.8                  2.22            0        0        Autumn \n",
       "6160 1838        4.4                  0.55            0        0        Autumn \n",
       "6194 2000       13.0                  0.51            0        0        Autumn \n",
       "6232 1938       -4.4                  2.39            0        0        Spring \n",
       "6234 1991        5.2                  0.18            0        0        Autumn \n",
       "6259  334        7.5                  0.66            0        0        Autumn \n",
       "6353 2000        6.1                  0.00            0        0        Autumn \n",
       "6395 1916       14.3                  0.00            0        0        Autumn \n",
       "6413 1737       16.1                  0.00            0        0        Autumn \n",
       "6416 1376        9.6                  0.00            0        0        Autumn \n",
       "6463 2000        8.6                  1.72            0        0        Autumn \n",
       "6528 2000        8.9                  0.00            0        0        Autumn \n",
       "6552  990        4.1                  0.02            0        0        Autumn \n",
       "6554 1558        1.3                  3.32            0        0        Spring \n",
       "6556  876        6.9                  0.34            0        0        Spring \n",
       "6671  442        6.7                  0.00            0        0        Spring \n",
       "6699 1104        1.6                  0.00            0        0        Autumn \n",
       "6764  946        9.9                  2.87            0        0        Spring \n",
       "6791 2000        6.0                  0.66            0        0        Autumn \n",
       "6793 1840        7.9                  0.00            0        0        Autumn \n",
       "6808 1619       12.9                  1.74            0        0        Autumn \n",
       "6827  900        5.7                  0.00            0        0        Autumn \n",
       "6902 2000       14.0                  0.00            0        0        Autumn \n",
       "6944 2000        7.4                  0.00            0        0        Autumn \n",
       "     Holiday    Functioning.Day Day      \n",
       "38   No Holiday No              Monday   \n",
       "40   No Holiday No              Wednesday\n",
       "69   No Holiday No              Wednesday\n",
       "73   No Holiday No              Saturday \n",
       "82   No Holiday No              Saturday \n",
       "154  No Holiday No              Tuesday  \n",
       "181  No Holiday No              Tuesday  \n",
       "208  No Holiday No              Monday   \n",
       "211  No Holiday No              Monday   \n",
       "223  No Holiday No              Saturday \n",
       "321  Holiday    No              Sunday   \n",
       "334  No Holiday No              Wednesday\n",
       "337  Holiday    No              Sunday   \n",
       "379  No Holiday No              Monday   \n",
       "404  No Holiday No              Tuesday  \n",
       "422  No Holiday No              Wednesday\n",
       "438  No Holiday No              Monday   \n",
       "452  No Holiday No              Monday   \n",
       "455  No Holiday No              Wednesday\n",
       "457  No Holiday No              Wednesday\n",
       "486  No Holiday No              Tuesday  \n",
       "506  No Holiday No              Monday   \n",
       "530  No Holiday No              Wednesday\n",
       "532  No Holiday No              Wednesday\n",
       "544  No Holiday No              Monday   \n",
       "581  No Holiday No              Saturday \n",
       "686  No Holiday No              Friday   \n",
       "753  No Holiday No              Monday   \n",
       "758  No Holiday No              Tuesday  \n",
       "762  No Holiday No              Monday   \n",
       "...  ...        ...             ...      \n",
       "6042 No Holiday No              Monday   \n",
       "6063 Holiday    No              Sunday   \n",
       "6100 No Holiday No              Tuesday  \n",
       "6104 No Holiday No              Monday   \n",
       "6123 No Holiday No              Tuesday  \n",
       "6144 No Holiday No              Wednesday\n",
       "6152 No Holiday No              Friday   \n",
       "6160 Holiday    No              Sunday   \n",
       "6194 No Holiday No              Tuesday  \n",
       "6232 No Holiday No              Monday   \n",
       "6234 Holiday    No              Sunday   \n",
       "6259 No Holiday No              Saturday \n",
       "6353 Holiday    No              Sunday   \n",
       "6395 No Holiday No              Tuesday  \n",
       "6413 No Holiday No              Wednesday\n",
       "6416 No Holiday No              Wednesday\n",
       "6463 No Holiday No              Monday   \n",
       "6528 No Holiday No              Friday   \n",
       "6552 No Holiday No              Tuesday  \n",
       "6554 No Holiday No              Monday   \n",
       "6556 No Holiday No              Tuesday  \n",
       "6671 No Holiday No              Monday   \n",
       "6699 No Holiday No              Tuesday  \n",
       "6764 No Holiday No              Tuesday  \n",
       "6791 No Holiday No              Monday   \n",
       "6793 No Holiday No              Friday   \n",
       "6808 No Holiday No              Tuesday  \n",
       "6827 No Holiday No              Wednesday\n",
       "6902 No Holiday No              Wednesday\n",
       "6944 No Holiday No              Monday   "
      ]
     },
     "metadata": {},
     "output_type": "display_data"
    }
   ],
   "source": [
    "train[train$Functioning.Day==\"No\",]"
   ]
  },
  {
   "cell_type": "markdown",
   "metadata": {},
   "source": [
    "On no functioning day, all rented bike counts are 0. Therefore, only data with functioning day = yes will be filtered out, and the variable will be deleted as it is no longer needed."
   ]
  },
  {
   "cell_type": "code",
   "execution_count": 11,
   "metadata": {},
   "outputs": [],
   "source": [
    "train <- train[,-14]\n",
    "test <- test[,-14]"
   ]
  },
  {
   "cell_type": "markdown",
   "metadata": {},
   "source": [
    "### <li> Numerical Variables"
   ]
  },
  {
   "cell_type": "markdown",
   "metadata": {},
   "source": [
    "#### Investigate the distribution of each numerical attribute using box plots"
   ]
  },
  {
   "cell_type": "code",
   "execution_count": 12,
   "metadata": {},
   "outputs": [],
   "source": [
    "# Only get numerical variables for exploratory data analysis\n",
    "Numerical <- train[,!colnames(train) %in% c(\"Date\", \"Hour\", \"Seasons\", \"Holiday\",  \"Day\")]"
   ]
  },
  {
   "cell_type": "markdown",
   "metadata": {},
   "source": [
    "The boxplot will be generated for all numerical variables to check the scale of the variables."
   ]
  },
  {
   "cell_type": "code",
   "execution_count": 13,
   "metadata": {},
   "outputs": [
    {
     "data": {
      "image/png": "[encoded data removed]",
      "text/plain": [
       "Plot with title \"Boxplot of all numerical variables\""
      ]
     },
     "metadata": {
      "image/png": {
       "height": 420,
       "width": 420
      }
     },
     "output_type": "display_data"
    }
   ],
   "source": [
    "# Boxplot using the same scale\n",
    "boxplot(Numerical,las=2, cex.axis=0.7, main=\"Boxplot of all numerical variables\")"
   ]
  },
  {
   "cell_type": "markdown",
   "metadata": {},
   "source": [
    "\n",
    "As shown in the plot above, the \"Visibility\" attribute and \"Rented.Bike.Count\" have significantly larger scales than other variables. Since most attributes are overshadowed by these attributes, the scale of them should be adjusted. However, since the \"Rented.Bike.Count\" is our target variable, it should be considered carefully whether the transformation of it is necessary."
   ]
  },
  {
   "cell_type": "code",
   "execution_count": 14,
   "metadata": {},
   "outputs": [
    {
     "data": {
      "image/png": "[encoded data removed]",
      "text/plain": [
       "Plot with title \"Snowfall\""
      ]
     },
     "metadata": {
      "image/png": {
       "height": 420,
       "width": 420
      }
     },
     "output_type": "display_data"
    }
   ],
   "source": [
    "# Boxplot using different scales for each variable\n",
    "par(mfrow = c(2,5)) # 5 * 2 grid\n",
    "for (i in 1:(length(Numerical))) {\n",
    "        boxplot(Numerical[,i], main = names(Numerical[i]), type=\"l\", col = 'lightblue', cex.main=1) \n",
    "}"
   ]
  },
  {
   "cell_type": "markdown",
   "metadata": {},
   "source": [
    "From the boxplots, it can be inferred...\n",
    "* left skewed distribution: Visibility <br>\n",
    "* Right skewed distribution: Rented.Bike.Count, Wind.speed, Solar.Radiation, Rainfall, Snowfall. All of these attributes could have many outliers. In particular, Rainfall and Snowfall have very small value ranges(IQR) and a lot of extreme outliers. It means many values of them could be saturated on the smaller side as we mentioned when observing their basic statistics above."
   ]
  },
  {
   "cell_type": "markdown",
   "metadata": {},
   "source": [
    "#### Investigate the distribution of each numerical attribute using histograms"
   ]
  },
  {
   "cell_type": "code",
   "execution_count": 15,
   "metadata": {},
   "outputs": [
    {
     "name": "stderr",
     "output_type": "stream",
     "text": [
      "`stat_bin()` using `bins = 30`. Pick better value with `binwidth`.\n",
      "\n",
      "`stat_bin()` using `bins = 30`. Pick better value with `binwidth`.\n",
      "\n",
      "`stat_bin()` using `bins = 30`. Pick better value with `binwidth`.\n",
      "\n",
      "`stat_bin()` using `bins = 30`. Pick better value with `binwidth`.\n",
      "\n",
      "`stat_bin()` using `bins = 30`. Pick better value with `binwidth`.\n",
      "\n",
      "`stat_bin()` using `bins = 30`. Pick better value with `binwidth`.\n",
      "\n",
      "`stat_bin()` using `bins = 30`. Pick better value with `binwidth`.\n",
      "\n",
      "`stat_bin()` using `bins = 30`. Pick better value with `binwidth`.\n",
      "\n",
      "`stat_bin()` using `bins = 30`. Pick better value with `binwidth`.\n",
      "\n"
     ]
    },
    {
     "data": {
      "image/png": "[encoded data removed]",
      "text/plain": [
       "plot without title"
      ]
     },
     "metadata": {
      "image/png": {
       "height": 420,
       "width": 420
      }
     },
     "output_type": "display_data"
    }
   ],
   "source": [
    "# Draw a histogram to check the distribution of each variable\n",
    "\n",
    "# Rented.Bike.Count\n",
    "his_Rented.Bike.Count <- ggplot(data = Numerical, aes(x=Rented.Bike.Count)) +\n",
    "                            geom_histogram(color = I('black'), fill = \"red\") + \n",
    "                            theme_minimal() +\n",
    "                            ggtitle('Rented.Bike.Count distribution')\n",
    "\n",
    "# Temperature\n",
    "his_Temperature <- ggplot(data = Numerical, aes(x=Temperature)) +\n",
    "                    geom_histogram(color = I('black'), fill = \"red\") + \n",
    "                    theme_minimal() +\n",
    "                    ggtitle('Temperature distribution') +\n",
    "                    theme(axis.text=element_text(size=8)) +\n",
    "                    theme(axis.title=element_text(size=8)) +\n",
    "                    theme(plot.title = element_text(size=10))  \n",
    "\n",
    "# Humidity\n",
    "his_Humidity <- ggplot(data = Numerical, aes(x=Humidity)) +\n",
    "                    geom_histogram(color = I('black'), fill = \"red\") + \n",
    "                    theme_minimal() +\n",
    "                    ggtitle('Humidity distribution') +\n",
    "                    theme(axis.text=element_text(size=8)) +\n",
    "                    theme(axis.title=element_text(size=8)) +\n",
    "                    theme(plot.title = element_text(size=10)) \n",
    "\n",
    "# Wind.speed\n",
    "his_Wind.speed <- ggplot(data = Numerical, aes(x=Wind.speed)) +\n",
    "                    geom_histogram(color = I('black'), fill = \"red\") + \n",
    "                    theme_minimal() +\n",
    "                    ggtitle('Wind.speed distribution') +\n",
    "                    theme(axis.text=element_text(size=8)) +\n",
    "                    theme(axis.title=element_text(size=8)) +\n",
    "                    theme(plot.title = element_text(size=10)) \n",
    "\n",
    "# Visibility\n",
    "his_Visibility <- ggplot(data = Numerical, aes(x=Visibility)) +\n",
    "                    geom_histogram(color = I('black'), fill = \"red\") + \n",
    "                    theme_minimal() +\n",
    "                    ggtitle('Visibility distribution') +\n",
    "                    theme(axis.text=element_text(size=8)) +\n",
    "                    theme(axis.title=element_text(size=8)) +\n",
    "                    theme(plot.title = element_text(size=10)) \n",
    "\n",
    "# Dew.point.temperature\n",
    "his_Dew.point.temperature <- ggplot(data = Numerical, aes(x=Dew.point.temperature)) +\n",
    "                                geom_histogram(color = I('black'), fill = \"red\") + \n",
    "                                theme_minimal() +\n",
    "                                ggtitle('Dew.point.temperature distribution') +\n",
    "                                theme(axis.text=element_text(size=8)) +\n",
    "                                theme(axis.title=element_text(size=8)) +\n",
    "                                theme(plot.title = element_text(size=10)) \n",
    "\n",
    "# Solar.Radiation\n",
    "his_Solar.Radiation <- ggplot(data = Numerical, aes(x=Solar.Radiation)) +\n",
    "                        geom_histogram(color = I('black'), fill = \"red\") + \n",
    "                        theme_minimal() +\n",
    "                        ggtitle('Solar.Radiation distribution') +\n",
    "                        theme(axis.text=element_text(size=8)) +\n",
    "                        theme(axis.title=element_text(size=8)) +\n",
    "                        theme(plot.title = element_text(size=10)) \n",
    "\n",
    "# Rainfall\n",
    "his_Rainfall <- ggplot(data = Numerical, aes(x=Rainfall)) +\n",
    "                    geom_histogram(color = I('black'), fill = \"red\") + \n",
    "                    theme_minimal() +\n",
    "                    ggtitle('Rainfall distribution') +\n",
    "                    theme(axis.text=element_text(size=8)) +\n",
    "                    theme(axis.title=element_text(size=8)) +\n",
    "                    theme(plot.title = element_text(size=10)) \n",
    "\n",
    "# Snowfall\n",
    "his_Snowfall <- ggplot(data = Numerical, aes(x=Snowfall)) +\n",
    "                    geom_histogram(color = I('black'), fill = \"red\") + \n",
    "                    theme_minimal() +\n",
    "                    ggtitle('Snowfall distribution') +\n",
    "                    theme(axis.text=element_text(size=8)) +\n",
    "                    theme(axis.title=element_text(size=8)) +\n",
    "                    theme(plot.title = element_text(size=10)) \n",
    "\n",
    "grid.arrange(his_Rented.Bike.Count, his_Temperature, his_Humidity, his_Wind.speed, his_Visibility, \n",
    "                 his_Dew.point.temperature,his_Solar.Radiation, his_Rainfall,his_Snowfall , ncol = 2)"
   ]
  },
  {
   "cell_type": "markdown",
   "metadata": {},
   "source": [
    "It seems there is no attribute which is normally distributed.<br>\n",
    "From the plots, we can derive similar characteristics of each variable observed from the previous statistics and boxplots.<br>\n",
    "- Left skewed: Visibility. It has a lot of values around 2000 which means that there are many sunny days with good visibility. <br>\n",
    "- Right skewed: Rented.Bike.Count, Wind.speed, Solar.Radiation, Rainfall, Snowfall<br>\n",
    "- Wind.speed looks close to the Gaussian distribution, if the influence of the outliers on the right side are removed . <br>\n",
    "- Solar.Radiation, Rainfall, Snowfall: Distributions of them look similar to each other. The value is mostly concentrated at 0, meaning there are more sunny days with sunlight than rainy and snowy days. <br>\n",
    "- The distributions of Temperature and Dew.point.temperature also look close to each other."
   ]
  },
  {
   "cell_type": "markdown",
   "metadata": {},
   "source": [
    "### <li> Data transformation"
   ]
  },
  {
   "cell_type": "markdown",
   "metadata": {},
   "source": [
    "The variables that seemed to be skewed or have much larger scales than other attributes will be preprocessed.Firstly, the skewness of each numerical variable will be measured with a skewness coefficient that shows a skewness of data, as shown in the picture below."
   ]
  },
  {
   "cell_type": "markdown",
   "metadata": {},
   "source": [
    "![](https://fahimahmad.netlify.app/posts/2020-07-17-skewness-denifination-and-its-importance-in-data-science_files/figure-html/unnamed-chunk-2-1.png)"
   ]
  },
  {
   "cell_type": "code",
   "execution_count": 16,
   "metadata": {},
   "outputs": [
    {
     "data": {
      "text/html": [
       "<style>\n",
       ".dl-inline {width: auto; margin:0; padding: 0}\n",
       ".dl-inline>dt, .dl-inline>dd {float: none; width: auto; display: inline-block}\n",
       ".dl-inline>dt::after {content: \":\\0020\"; padding-right: .5ex}\n",
       ".dl-inline>dt:not(:first-of-type) {padding-left: .5ex}\n",
       "</style><dl class=dl-inline><dt>Rented.Bike.Count</dt><dd>1.13774351921763</dd><dt>Temperature</dt><dd>-0.192114315796469</dd><dt>Humidity</dt><dd>0.0517204030457918</dd><dt>Wind.speed</dt><dd>0.892723011845787</dd><dt>Visibility</dt><dd>-0.704075179929604</dd><dt>Dew.point.temperature</dt><dd>-0.363009679390409</dd><dt>Solar.Radiation</dt><dd>1.49937836762323</dd><dt>Rainfall</dt><dd>14.7917786800988</dd><dt>Snowfall</dt><dd>8.14421712874737</dd></dl>\n"
      ],
      "text/latex": [
       "\\begin{description*}\n",
       "\\item[Rented.Bike.Count] 1.13774351921763\n",
       "\\item[Temperature] -0.192114315796469\n",
       "\\item[Humidity] 0.0517204030457918\n",
       "\\item[Wind.speed] 0.892723011845787\n",
       "\\item[Visibility] -0.704075179929604\n",
       "\\item[Dew.point.temperature] -0.363009679390409\n",
       "\\item[Solar.Radiation] 1.49937836762323\n",
       "\\item[Rainfall] 14.7917786800988\n",
       "\\item[Snowfall] 8.14421712874737\n",
       "\\end{description*}\n"
      ],
      "text/markdown": [
       "Rented.Bike.Count\n",
       ":   1.13774351921763Temperature\n",
       ":   -0.192114315796469Humidity\n",
       ":   0.0517204030457918Wind.speed\n",
       ":   0.892723011845787Visibility\n",
       ":   -0.704075179929604Dew.point.temperature\n",
       ":   -0.363009679390409Solar.Radiation\n",
       ":   1.49937836762323Rainfall\n",
       ":   14.7917786800988Snowfall\n",
       ":   8.14421712874737\n",
       "\n"
      ],
      "text/plain": [
       "    Rented.Bike.Count           Temperature              Humidity \n",
       "            1.1377435            -0.1921143             0.0517204 \n",
       "           Wind.speed            Visibility Dew.point.temperature \n",
       "            0.8927230            -0.7040752            -0.3630097 \n",
       "      Solar.Radiation              Rainfall              Snowfall \n",
       "            1.4993784            14.7917787             8.1442171 "
      ]
     },
     "metadata": {},
     "output_type": "display_data"
    }
   ],
   "source": [
    "# skewness coefficient\n",
    "apply(Numerical,2,skewness)"
   ]
  },
  {
   "cell_type": "markdown",
   "metadata": {},
   "source": [
    "From the skewness coefficiens of each variable, there are some attributes which need transformation.\n",
    "- Highly skewed: Rented.Bike.Count(target variable), Solar.Radiation, Rainfall, Snowfall.\n",
    "- Moderately skewed: Wind.speed, Visibility <br>"
   ]
  },
  {
   "cell_type": "markdown",
   "metadata": {},
   "source": [
    "Usually, the square root or log is often used for transforming variables. Although log shows more powerful performance, log can only be used for positive numbers. Also, since the square root can only be used for 0 and positive numbers, we will look at the records of those variables to see whether they meet the condition of each transformation. "
   ]
  },
  {
   "cell_type": "code",
   "execution_count": 17,
   "metadata": {},
   "outputs": [
    {
     "name": "stdout",
     "output_type": "stream",
     "text": [
      "##### Rented.Bike.Count ##### \n",
      "no. of negative values:  0 \n",
      "no. of zero values:  239 \n",
      "no. of positive values:  6769 \n",
      "\n",
      "#####Solar.Radiation ##### \n",
      "no. of negative values:  0 \n",
      "no. of zero values:  3440 \n",
      "no. of positive values:  3568 \n",
      "\n",
      "##### Rainfall ##### \n",
      "no. of negative values:  0 \n",
      "no. of zero values:  6581 \n",
      "no. of positive values:  427 \n",
      "\n",
      "##### Snowfall ##### \n",
      "no. of negative values:  0 \n",
      "no. of zero values:  6664 \n",
      "no. of positive values:  344 \n",
      "\n",
      "##### Wind.speed ##### \n",
      "no. of negative values:  0 \n",
      "no. of zero values:  56 \n",
      "no. of positive values:  6952 \n",
      "\n",
      "##### Visibility ##### \n",
      "no. of negative values:  0 \n",
      "no. of zero values:  0 \n",
      "no. of positive values:  7008 \n",
      "\n"
     ]
    }
   ],
   "source": [
    "# find the number of values which have positive, zero and negative numbers\n",
    "cat(\"##### Rented.Bike.Count ##### \\n\")\n",
    "cat(\"no. of negative values: \", nrow(Numerical[Numerical$Rented.Bike.Count<0,]), \"\\n\")\n",
    "cat(\"no. of zero values: \",nrow(Numerical[Numerical$Rented.Bike.Count==0,]), \"\\n\")\n",
    "cat(\"no. of positive values: \",nrow(Numerical[Numerical$Rented.Bike.Count>0,]), \"\\n\\n\")\n",
    "\n",
    "cat(\"#####Solar.Radiation ##### \\n\")\n",
    "cat(\"no. of negative values: \",nrow(Numerical[Numerical$Solar.Radiation<0,]), \"\\n\")\n",
    "cat(\"no. of zero values: \",nrow(Numerical[Numerical$Solar.Radiation==0,]), \"\\n\")\n",
    "cat(\"no. of positive values: \",nrow(Numerical[Numerical$Solar.Radiation>0,]), \"\\n\\n\")\n",
    "\n",
    "cat(\"##### Rainfall ##### \\n\")\n",
    "cat(\"no. of negative values: \",nrow(Numerical[Numerical$Rainfall<0,]), \"\\n\")\n",
    "cat(\"no. of zero values: \",nrow(Numerical[Numerical$Rainfall==0,]), \"\\n\")\n",
    "cat(\"no. of positive values: \",nrow(Numerical[Numerical$Rainfall>0,]), \"\\n\\n\")\n",
    "\n",
    "cat(\"##### Snowfall ##### \\n\")\n",
    "cat(\"no. of negative values: \",nrow(Numerical[Numerical$Snowfall<0,]), \"\\n\")\n",
    "cat(\"no. of zero values: \",nrow(Numerical[Numerical$Snowfall==0,]), \"\\n\")\n",
    "cat(\"no. of positive values: \",nrow(Numerical[Numerical$Snowfall>0,]), \"\\n\\n\")\n",
    "\n",
    "cat(\"##### Wind.speed ##### \\n\")\n",
    "cat(\"no. of negative values: \", nrow(Numerical[Numerical$Wind.speed<0,]), \"\\n\")\n",
    "cat(\"no. of zero values: \",nrow(Numerical[Numerical$Wind.speed==0,]), \"\\n\")\n",
    "cat(\"no. of positive values: \",nrow(Numerical[Numerical$Wind.speed>0,]), \"\\n\\n\")\n",
    "\n",
    "cat(\"##### Visibility ##### \\n\")\n",
    "cat(\"no. of negative values: \",nrow(Numerical[Numerical$Visibility<0,]), \"\\n\")\n",
    "cat(\"no. of zero values: \",nrow(Numerical[Numerical$Visibility==0,]), \"\\n\")\n",
    "cat(\"no. of positive values: \",nrow(Numerical[Numerical$Visibility>0,]), \"\\n\\n\")"
   ]
  },
  {
   "cell_type": "markdown",
   "metadata": {},
   "source": [
    "No variable has a negative number as a record. So it seems that square roots can be used for all skewed attributes. Also, in the case of visibility, it seems that log transformation is also possible because there is no zero value. Rented.Bike.Count, Solar.Radiation, Rainfall, Snowfall and Wind.speed will use a square root, and Visibility will try to use both square root and log for transformation. The distribution of each variable after transformation will be plotted to check if the problem of skewness has been resolved."
   ]
  },
  {
   "cell_type": "code",
   "execution_count": 18,
   "metadata": {},
   "outputs": [
    {
     "name": "stderr",
     "output_type": "stream",
     "text": [
      "`stat_bin()` using `bins = 30`. Pick better value with `binwidth`.\n",
      "\n",
      "`stat_bin()` using `bins = 30`. Pick better value with `binwidth`.\n",
      "\n",
      "`stat_bin()` using `bins = 30`. Pick better value with `binwidth`.\n",
      "\n",
      "`stat_bin()` using `bins = 30`. Pick better value with `binwidth`.\n",
      "\n",
      "`stat_bin()` using `bins = 30`. Pick better value with `binwidth`.\n",
      "\n",
      "`stat_bin()` using `bins = 30`. Pick better value with `binwidth`.\n",
      "\n",
      "`stat_bin()` using `bins = 30`. Pick better value with `binwidth`.\n",
      "\n"
     ]
    },
    {
     "data": {
      "image/png": "[encoded data removed]",
      "text/plain": [
       "plot without title"
      ]
     },
     "metadata": {
      "image/png": {
       "height": 420,
       "width": 420
      }
     },
     "output_type": "display_data"
    }
   ],
   "source": [
    "# Rented.Bike.Count\n",
    "his_Rented.Bike.Count_1 <- ggplot(data = Numerical, aes(x=sqrt(Rented.Bike.Count))) +\n",
    "                        geom_histogram(color = I('black'), fill = \"green\") + \n",
    "                        theme_minimal() +\n",
    "                        ggtitle('Rented.Bike.Count distribution after square root transformation') +\n",
    "                        theme(axis.text=element_text(size=8)) +\n",
    "                        theme(axis.title=element_text(size=8)) +\n",
    "                        theme(plot.title = element_text(size=8)) \n",
    "\n",
    "# Solar.Radiation\n",
    "his_Solar.Radiation_1 <- ggplot(data = Numerical, aes(x=sqrt(Solar.Radiation))) +\n",
    "                        geom_histogram(color = I('black'), fill = \"green\") + \n",
    "                        theme_minimal() +\n",
    "                        ggtitle('Solar.Radiation distribution after square root transformation') +\n",
    "                        theme(axis.text=element_text(size=8)) +\n",
    "                        theme(axis.title=element_text(size=8)) +\n",
    "                        theme(plot.title = element_text(size=8)) \n",
    "\n",
    "\n",
    "# Rainfall\n",
    "his_Rainfall_1 <- ggplot(data = Numerical, aes(x=sqrt(Rainfall))) +\n",
    "                    geom_histogram(color = I('black'), fill = \"green\") + \n",
    "                    theme_minimal() +\n",
    "                    ggtitle('Rainfall distribution after square root transformation') +\n",
    "                    theme(axis.text=element_text(size=8)) +\n",
    "                    theme(axis.title=element_text(size=8)) +\n",
    "                    theme(plot.title = element_text(size=8)) \n",
    "\n",
    "# Snowfall\n",
    "his_Snowfall_1 <- ggplot(data = Numerical, aes(x=sqrt(Snowfall))) +\n",
    "                    geom_histogram(color = I('black'), fill = \"green\") + \n",
    "                    theme_minimal() +\n",
    "                    ggtitle('Snowfall distribution after square root transformation') +\n",
    "                    theme(axis.text=element_text(size=8)) +\n",
    "                    theme(axis.title=element_text(size=8)) +\n",
    "                    theme(plot.title = element_text(size=8)) \n",
    "\n",
    "# Wind.speed\n",
    "his_Wind.speed_1 <- ggplot(data = Numerical, aes(x=sqrt(Wind.speed))) +\n",
    "                    geom_histogram(color = I('black'), fill = \"green\") + \n",
    "                    theme_minimal() +\n",
    "                    ggtitle('Wind.speed distribution after square root transformation') +\n",
    "                    theme(axis.text=element_text(size=8)) +\n",
    "                    theme(axis.title=element_text(size=8)) +\n",
    "                    theme(plot.title = element_text(size=8)) \n",
    "\n",
    "# Visibility\n",
    "his_Visibility_sqrt <- ggplot(data = Numerical, aes(x=sqrt(Visibility))) +\n",
    "                    geom_histogram(color = I('black'), fill = \"green\") + \n",
    "                    theme_minimal() +\n",
    "                    ggtitle('Visibility distribution after square root transformation') +\n",
    "                    theme(axis.text=element_text(size=8)) +\n",
    "                    theme(axis.title=element_text(size=8)) +\n",
    "                    theme(plot.title = element_text(size=8)) \n",
    "\n",
    "his_Visibility_log <- ggplot(data = Numerical, aes(x=log(Visibility))) +\n",
    "                    geom_histogram(color = I('black'), fill = \"green\") + \n",
    "                    theme_minimal() +\n",
    "                    ggtitle('Visibility distribution after log transformation') +\n",
    "                    theme(axis.text=element_text(size=8)) +\n",
    "                    theme(axis.title=element_text(size=8)) +\n",
    "                    theme(plot.title = element_text(size=8)) \n",
    "\n",
    "grid.arrange(his_Rented.Bike.Count_1, his_Solar.Radiation_1, his_Rainfall_1, his_Snowfall_1, his_Wind.speed_1, \n",
    "             his_Visibility_sqrt, his_Visibility_log, ncol = 2)"
   ]
  },
  {
   "cell_type": "code",
   "execution_count": 19,
   "metadata": {
    "scrolled": true
   },
   "outputs": [
    {
     "name": "stdout",
     "output_type": "stream",
     "text": [
      "The skewness of Rented.Bike.Count after applying square root transformation:  0.2376234 \n",
      "The skewness of Solar.Radiation after applying square root transformation:  0.807858 \n",
      "The skewness of Rainfall after applying square root transformation:  6.709617 \n",
      "The skewness of Snowfall after applying square root transformation:  5.349563 \n",
      "The skewness of Wind.speed after applying square root transformation:  0.008721479 \n",
      "The skewness of Visibility after applying sqrt transformation:  -1.019749 \n",
      "The skewness of Visibility after applying log transformation:  -1.581136"
     ]
    }
   ],
   "source": [
    "cat(\"The skewness of Rented.Bike.Count after applying square root transformation: \", skewness(sqrt(Numerical$Rented.Bike.Count)),\"\\n\")\n",
    "cat(\"The skewness of Solar.Radiation after applying square root transformation: \", skewness(sqrt(Numerical$Solar.Radiation)),\"\\n\")\n",
    "cat(\"The skewness of Rainfall after applying square root transformation: \", skewness(sqrt(Numerical$Rainfall)),\"\\n\")\n",
    "cat(\"The skewness of Snowfall after applying square root transformation: \", skewness(sqrt(Numerical$Snowfall)),\"\\n\")\n",
    "cat(\"The skewness of Wind.speed after applying square root transformation: \", skewness(sqrt(Numerical$Wind.speed)),\"\\n\")\n",
    "cat(\"The skewness of Visibility after applying sqrt transformation: \", skewness(sqrt(Numerical$Visibility)),\"\\n\")\n",
    "cat(\"The skewness of Visibility after applying log transformation: \", skewness(log(Numerical$Visibility)))"
   ]
  },
  {
   "cell_type": "markdown",
   "metadata": {},
   "source": [
    "The distributions of Rented.Bike.Count and Wind.speed are fairly symmertrical after transformation.In particular, Wind.speed seems to be square root normal distributed. "
   ]
  },
  {
   "cell_type": "markdown",
   "metadata": {},
   "source": [
    "However, Solar.Radiation, Rainfall, Snowfall and Visibility are still skewed. As we saw earlier, this may be a phenomenon that occurs because the values of the variable are concentrated and saturated in a narrow range. In particular, the zero values of Solar.Radiation, Rainfall, and Snowfall account for almost 50% of their records. By running the code below, it can be checked that the variance of those variables is close to 0. Therefore, when interpreting the values of these variables, it seems better to think whether there is Solar.Radiation, Rainfall or Snowfall, like categorical variables, for example, holiday. Furthermore, it is possible that these variables are not important variables in modeling. However, we will not prematurely remove the variables in this process. Later, in the process of building the model, if each variable is determined to be meaningless according to the p-value or any other statistics judging the significance of variables, it will be removed."
   ]
  },
  {
   "cell_type": "code",
   "execution_count": 20,
   "metadata": {},
   "outputs": [
    {
     "data": {
      "text/html": [
       "<style>\n",
       ".list-inline {list-style: none; margin:0; padding: 0}\n",
       ".list-inline>li {display: inline-block}\n",
       ".list-inline>li:not(:last-child)::after {content: \"\\00b7\"; padding: 0 .5ex}\n",
       "</style>\n",
       "<ol class=list-inline><li>9</li><li>10</li><li>11</li><li>13</li></ol>\n"
      ],
      "text/latex": [
       "\\begin{enumerate*}\n",
       "\\item 9\n",
       "\\item 10\n",
       "\\item 11\n",
       "\\item 13\n",
       "\\end{enumerate*}\n"
      ],
      "text/markdown": [
       "1. 9\n",
       "2. 10\n",
       "3. 11\n",
       "4. 13\n",
       "\n",
       "\n"
      ],
      "text/plain": [
       "[1]  9 10 11 13"
      ]
     },
     "metadata": {},
     "output_type": "display_data"
    },
    {
     "data": {
      "text/html": [
       "<style>\n",
       ".list-inline {list-style: none; margin:0; padding: 0}\n",
       ".list-inline>li {display: inline-block}\n",
       ".list-inline>li:not(:last-child)::after {content: \"\\00b7\"; padding: 0 .5ex}\n",
       "</style>\n",
       "<ol class=list-inline><li>'Solar.Radiation'</li><li>'Rainfall'</li><li>'Snowfall'</li><li>'Holiday'</li></ol>\n"
      ],
      "text/latex": [
       "\\begin{enumerate*}\n",
       "\\item 'Solar.Radiation'\n",
       "\\item 'Rainfall'\n",
       "\\item 'Snowfall'\n",
       "\\item 'Holiday'\n",
       "\\end{enumerate*}\n"
      ],
      "text/markdown": [
       "1. 'Solar.Radiation'\n",
       "2. 'Rainfall'\n",
       "3. 'Snowfall'\n",
       "4. 'Holiday'\n",
       "\n",
       "\n"
      ],
      "text/plain": [
       "[1] \"Solar.Radiation\" \"Rainfall\"        \"Snowfall\"        \"Holiday\"        "
      ]
     },
     "metadata": {},
     "output_type": "display_data"
    }
   ],
   "source": [
    "nearZeroVar(train)\n",
    "colnames(train[c(9,10,11,13)])"
   ]
  },
  {
   "cell_type": "markdown",
   "metadata": {},
   "source": [
    "The columns after variable transformation will be added and saved in a new data frame. Visibility also worked better with square root transformation than log, so we will use square root transformation for this variable as well.\n"
   ]
  },
  {
   "cell_type": "code",
   "execution_count": 21,
   "metadata": {},
   "outputs": [],
   "source": [
    "# transform and save the data\n",
    "\n",
    "## Train dataset\n",
    "train_new <- train\n",
    "train_new$Wind.speed.sqrt <- sqrt(train$Wind.speed) \n",
    "train_new$Rented.Bike.Count.sqrt <- sqrt(train$Rented.Bike.Count)\n",
    "train_new$Visibility.sqrt <- sqrt(train$Visibility)\n",
    "train_new$Solar.Radiation.sqrt <- sqrt(train$Solar.Radiation)\n",
    "train_new$Rainfall.sqrt  <- sqrt(train$Rainfall)\n",
    "train_new$Snowfall.sqrt  <- sqrt(train$Snowfall)\n",
    "\n",
    "\n",
    "## Test dataset\n",
    "test_new <- test\n",
    "test_new$Wind.speed.sqrt <- sqrt(test$Wind.speed) \n",
    "test_new$Rented.Bike.Count.sqrt <- sqrt(test$Rented.Bike.Count)\n",
    "test_new$Visibility.sqrt <- sqrt(test$Visibility)\n",
    "test_new$Solar.Radiation.sqrt <- sqrt(test$Solar.Radiation)\n",
    "test_new$Rainfall.sqrt  <- sqrt(test$Rainfall)\n",
    "test_new$Snowfall.sqrt  <- sqrt(test$Snowfall)"
   ]
  },
  {
   "cell_type": "markdown",
   "metadata": {},
   "source": [
    "\n",
    "### plot correlation between variables using a scattterplot matrix    "
   ]
  },
  {
   "cell_type": "code",
   "execution_count": 22,
   "metadata": {},
   "outputs": [],
   "source": [
    "# DIY correlation plot\n",
    "# http://stackoverflow.com/questions/31709982/how-to-plot-in-r-a-correlogram-on-top-of-a-correlation-matrix\n",
    "# there's some truth to the quote that modern programming is often stitching together pieces from SO \n",
    "\n",
    "colorRange <- c('#69091e', '#e37f65', 'white', '#aed2e6', '#042f60')\n",
    "## colorRamp() returns a function which takes as an argument a number\n",
    "## on [0,1] and returns a color in the gradient in colorRange\n",
    "myColorRampFunc <- colorRamp(colorRange)\n",
    "\n",
    "panel.cor <- function(w, z, ...) {\n",
    "    correlation <- cor(w, z)\n",
    "\n",
    "    ## because the func needs [0,1] and cor gives [-1,1], we need to shift and scale it\n",
    "    col <- rgb(myColorRampFunc((1 + correlation) / 2 ) / 255 )\n",
    "\n",
    "    ## square it to avoid visual bias due to \"area vs diameter\"\n",
    "    radius <- sqrt(abs(correlation))\n",
    "    radians <- seq(0, 2*pi, len = 50) # 50 is arbitrary\n",
    "    x <- radius * cos(radians)\n",
    "    y <- radius * sin(radians)\n",
    "    ## make them full loops\n",
    "    x <- c(x, tail(x,n=1))\n",
    "    y <- c(y, tail(y,n=1))\n",
    "\n",
    "    ## trick: \"don't create a new plot\" thing by following the\n",
    "    ## advice here: http://www.r-bloggers.com/multiple-y-axis-in-a-r-plot/\n",
    "    ## This allows\n",
    "    par(new=TRUE)\n",
    "    plot(0, type='n', xlim=c(-1,1), ylim=c(-1,1), axes=FALSE, asp=1)\n",
    "    polygon(x, y, border=col, col=col)\n",
    "}\n",
    "\n",
    "# usage e.g.:\n",
    "# pairs(mtcars, upper.panel = panel.cor)"
   ]
  },
  {
   "cell_type": "code",
   "execution_count": 23,
   "metadata": {},
   "outputs": [
    {
     "data": {
      "image/png": "[encoded data removed]",
      "text/plain": [
       "plot without title"
      ]
     },
     "metadata": {
      "image/png": {
       "height": 420,
       "width": 420
      }
     },
     "output_type": "display_data"
    }
   ],
   "source": [
    "pairs(train[sample.int(nrow(train),1000),], upper.panel=panel.cor)"
   ]
  },
  {
   "cell_type": "markdown",
   "metadata": {},
   "source": [
    "- Target & Feature <br><br>\n",
    "    - Rented.Bike.Count (target variable): The response variable seems to have some correlation with most features. The feature which has the strongest correlation with the target is seen as Temperature. Also, the target attribute seems to be correlated to Hour, Dew.point.temperature, Solar.radiation, and Seaseons, to some extent. <br><br>\n",
    "- Feature & Feature<br><br>\n",
    "     - The strong correlation between Dew.point.temperature and Temperature is noticeable. Besides, several weather indicators, seasons, and visibility seem to influence each other.\n",
    "\n"
   ]
  },
  {
   "cell_type": "markdown",
   "metadata": {},
   "source": [
    "#### Correlation coefficient"
   ]
  },
  {
   "cell_type": "code",
   "execution_count": 24,
   "metadata": {},
   "outputs": [
    {
     "data": {
      "text/html": [
       "<table>\n",
       "<caption>A matrix: 10 × 10 of type dbl</caption>\n",
       "<thead>\n",
       "\t<tr><th></th><th scope=col>Rented.Bike.Count</th><th scope=col>Temperature</th><th scope=col>Humidity</th><th scope=col>Wind.speed</th><th scope=col>Visibility</th><th scope=col>Dew.point.temperature</th><th scope=col>Solar.Radiation</th><th scope=col>Rainfall</th><th scope=col>Snowfall</th><th scope=col>Hour</th></tr>\n",
       "</thead>\n",
       "<tbody>\n",
       "\t<tr><th scope=row>Rented.Bike.Count</th><td> 1.000</td><td> 0.541</td><td>-0.196</td><td> 0.126</td><td> 0.201</td><td> 0.383</td><td> 0.263</td><td>-0.121</td><td>-0.143</td><td> 0.413</td></tr>\n",
       "\t<tr><th scope=row>Temperature</th><td> 0.541</td><td> 1.000</td><td> 0.156</td><td>-0.033</td><td> 0.041</td><td> 0.912</td><td> 0.353</td><td> 0.049</td><td>-0.217</td><td> 0.133</td></tr>\n",
       "\t<tr><th scope=row>Humidity</th><td>-0.196</td><td> 0.156</td><td> 1.000</td><td>-0.343</td><td>-0.538</td><td> 0.535</td><td>-0.467</td><td> 0.233</td><td> 0.116</td><td>-0.239</td></tr>\n",
       "\t<tr><th scope=row>Wind.speed</th><td> 0.126</td><td>-0.033</td><td>-0.343</td><td> 1.000</td><td> 0.182</td><td>-0.177</td><td> 0.333</td><td>-0.012</td><td>-0.015</td><td> 0.290</td></tr>\n",
       "\t<tr><th scope=row>Visibility</th><td> 0.201</td><td> 0.041</td><td>-0.538</td><td> 0.182</td><td> 1.000</td><td>-0.170</td><td> 0.147</td><td>-0.160</td><td>-0.130</td><td> 0.106</td></tr>\n",
       "\t<tr><th scope=row>Dew.point.temperature</th><td> 0.383</td><td> 0.912</td><td> 0.535</td><td>-0.177</td><td>-0.170</td><td> 1.000</td><td> 0.091</td><td> 0.123</td><td>-0.147</td><td> 0.011</td></tr>\n",
       "\t<tr><th scope=row>Solar.Radiation</th><td> 0.263</td><td> 0.353</td><td>-0.467</td><td> 0.333</td><td> 0.147</td><td> 0.091</td><td> 1.000</td><td>-0.074</td><td>-0.073</td><td> 0.148</td></tr>\n",
       "\t<tr><th scope=row>Rainfall</th><td>-0.121</td><td> 0.049</td><td> 0.233</td><td>-0.012</td><td>-0.160</td><td> 0.123</td><td>-0.074</td><td> 1.000</td><td> 0.015</td><td> 0.010</td></tr>\n",
       "\t<tr><th scope=row>Snowfall</th><td>-0.143</td><td>-0.217</td><td> 0.116</td><td>-0.015</td><td>-0.130</td><td>-0.147</td><td>-0.073</td><td> 0.015</td><td> 1.000</td><td>-0.034</td></tr>\n",
       "\t<tr><th scope=row>Hour</th><td> 0.413</td><td> 0.133</td><td>-0.239</td><td> 0.290</td><td> 0.106</td><td> 0.011</td><td> 0.148</td><td> 0.010</td><td>-0.034</td><td> 1.000</td></tr>\n",
       "</tbody>\n",
       "</table>\n"
      ],
      "text/latex": [
       "A matrix: 10 × 10 of type dbl\n",
       "\\begin{tabular}{r|llllllllll}\n",
       "  & Rented.Bike.Count & Temperature & Humidity & Wind.speed & Visibility & Dew.point.temperature & Solar.Radiation & Rainfall & Snowfall & Hour\\\\\n",
       "\\hline\n",
       "\tRented.Bike.Count &  1.000 &  0.541 & -0.196 &  0.126 &  0.201 &  0.383 &  0.263 & -0.121 & -0.143 &  0.413\\\\\n",
       "\tTemperature &  0.541 &  1.000 &  0.156 & -0.033 &  0.041 &  0.912 &  0.353 &  0.049 & -0.217 &  0.133\\\\\n",
       "\tHumidity & -0.196 &  0.156 &  1.000 & -0.343 & -0.538 &  0.535 & -0.467 &  0.233 &  0.116 & -0.239\\\\\n",
       "\tWind.speed &  0.126 & -0.033 & -0.343 &  1.000 &  0.182 & -0.177 &  0.333 & -0.012 & -0.015 &  0.290\\\\\n",
       "\tVisibility &  0.201 &  0.041 & -0.538 &  0.182 &  1.000 & -0.170 &  0.147 & -0.160 & -0.130 &  0.106\\\\\n",
       "\tDew.point.temperature &  0.383 &  0.912 &  0.535 & -0.177 & -0.170 &  1.000 &  0.091 &  0.123 & -0.147 &  0.011\\\\\n",
       "\tSolar.Radiation &  0.263 &  0.353 & -0.467 &  0.333 &  0.147 &  0.091 &  1.000 & -0.074 & -0.073 &  0.148\\\\\n",
       "\tRainfall & -0.121 &  0.049 &  0.233 & -0.012 & -0.160 &  0.123 & -0.074 &  1.000 &  0.015 &  0.010\\\\\n",
       "\tSnowfall & -0.143 & -0.217 &  0.116 & -0.015 & -0.130 & -0.147 & -0.073 &  0.015 &  1.000 & -0.034\\\\\n",
       "\tHour &  0.413 &  0.133 & -0.239 &  0.290 &  0.106 &  0.011 &  0.148 &  0.010 & -0.034 &  1.000\\\\\n",
       "\\end{tabular}\n"
      ],
      "text/markdown": [
       "\n",
       "A matrix: 10 × 10 of type dbl\n",
       "\n",
       "| <!--/--> | Rented.Bike.Count | Temperature | Humidity | Wind.speed | Visibility | Dew.point.temperature | Solar.Radiation | Rainfall | Snowfall | Hour |\n",
       "|---|---|---|---|---|---|---|---|---|---|---|\n",
       "| Rented.Bike.Count |  1.000 |  0.541 | -0.196 |  0.126 |  0.201 |  0.383 |  0.263 | -0.121 | -0.143 |  0.413 |\n",
       "| Temperature |  0.541 |  1.000 |  0.156 | -0.033 |  0.041 |  0.912 |  0.353 |  0.049 | -0.217 |  0.133 |\n",
       "| Humidity | -0.196 |  0.156 |  1.000 | -0.343 | -0.538 |  0.535 | -0.467 |  0.233 |  0.116 | -0.239 |\n",
       "| Wind.speed |  0.126 | -0.033 | -0.343 |  1.000 |  0.182 | -0.177 |  0.333 | -0.012 | -0.015 |  0.290 |\n",
       "| Visibility |  0.201 |  0.041 | -0.538 |  0.182 |  1.000 | -0.170 |  0.147 | -0.160 | -0.130 |  0.106 |\n",
       "| Dew.point.temperature |  0.383 |  0.912 |  0.535 | -0.177 | -0.170 |  1.000 |  0.091 |  0.123 | -0.147 |  0.011 |\n",
       "| Solar.Radiation |  0.263 |  0.353 | -0.467 |  0.333 |  0.147 |  0.091 |  1.000 | -0.074 | -0.073 |  0.148 |\n",
       "| Rainfall | -0.121 |  0.049 |  0.233 | -0.012 | -0.160 |  0.123 | -0.074 |  1.000 |  0.015 |  0.010 |\n",
       "| Snowfall | -0.143 | -0.217 |  0.116 | -0.015 | -0.130 | -0.147 | -0.073 |  0.015 |  1.000 | -0.034 |\n",
       "| Hour |  0.413 |  0.133 | -0.239 |  0.290 |  0.106 |  0.011 |  0.148 |  0.010 | -0.034 |  1.000 |\n",
       "\n"
      ],
      "text/plain": [
       "                      Rented.Bike.Count Temperature Humidity Wind.speed\n",
       "Rented.Bike.Count      1.000             0.541      -0.196    0.126    \n",
       "Temperature            0.541             1.000       0.156   -0.033    \n",
       "Humidity              -0.196             0.156       1.000   -0.343    \n",
       "Wind.speed             0.126            -0.033      -0.343    1.000    \n",
       "Visibility             0.201             0.041      -0.538    0.182    \n",
       "Dew.point.temperature  0.383             0.912       0.535   -0.177    \n",
       "Solar.Radiation        0.263             0.353      -0.467    0.333    \n",
       "Rainfall              -0.121             0.049       0.233   -0.012    \n",
       "Snowfall              -0.143            -0.217       0.116   -0.015    \n",
       "Hour                   0.413             0.133      -0.239    0.290    \n",
       "                      Visibility Dew.point.temperature Solar.Radiation Rainfall\n",
       "Rented.Bike.Count      0.201      0.383                 0.263          -0.121  \n",
       "Temperature            0.041      0.912                 0.353           0.049  \n",
       "Humidity              -0.538      0.535                -0.467           0.233  \n",
       "Wind.speed             0.182     -0.177                 0.333          -0.012  \n",
       "Visibility             1.000     -0.170                 0.147          -0.160  \n",
       "Dew.point.temperature -0.170      1.000                 0.091           0.123  \n",
       "Solar.Radiation        0.147      0.091                 1.000          -0.074  \n",
       "Rainfall              -0.160      0.123                -0.074           1.000  \n",
       "Snowfall              -0.130     -0.147                -0.073           0.015  \n",
       "Hour                   0.106      0.011                 0.148           0.010  \n",
       "                      Snowfall Hour  \n",
       "Rented.Bike.Count     -0.143    0.413\n",
       "Temperature           -0.217    0.133\n",
       "Humidity               0.116   -0.239\n",
       "Wind.speed            -0.015    0.290\n",
       "Visibility            -0.130    0.106\n",
       "Dew.point.temperature -0.147    0.011\n",
       "Solar.Radiation       -0.073    0.148\n",
       "Rainfall               0.015    0.010\n",
       "Snowfall               1.000   -0.034\n",
       "Hour                  -0.034    1.000"
      ]
     },
     "metadata": {},
     "output_type": "display_data"
    }
   ],
   "source": [
    "# Check the correlation coefficients between numerical variables\n",
    "Numerical$Hour <- train$Hour\n",
    "round(cor(Numerical),3)"
   ]
  },
  {
   "cell_type": "markdown",
   "metadata": {},
   "source": [
    "According to the figure below, the variables showing moderate or strong correlations are as follows.\n",
    "\n",
    "![](http://www.uow.edu.au/content/groups/public/@web/@stsv/documents/mm/uow153493.gif)\n",
    "\n",
    "- Target & Feature <br>\n",
    "    - Temperature & Rented.Bike.Count(Moderate positive correlation)<br>\n",
    "- Feature & Feature<br>\n",
    "    - Dew.point.temperature & Humidity(Moderate positive correlation)<br>\n",
    "    - Dew.point.temperature & Temperature(Strong positive correlation)<br>\n",
    "    - Humidity & Visibility (Moderate negative correlation)<br>"
   ]
  },
  {
   "cell_type": "markdown",
   "metadata": {},
   "source": [
    "It should be noted here that if there is a high correlation between the feautre-feaure, a multicollinearity problem may occur, therefore a feautre selection may be required in the modeling process."
   ]
  },
  {
   "cell_type": "markdown",
   "metadata": {},
   "source": [
    "## 4. Methodology<a class=\"anchor\" id=\"sec_4\"></a>"
   ]
  },
  {
   "cell_type": "markdown",
   "metadata": {},
   "source": [
    "- Purpose of statistical models: Predict the bike rental demands <br>\n",
    "- Target variable: Continuous variable <br>\n",
    "   \n",
    "Considering these characteristics, we can build <br>\n",
    "\n",
    "- 1. Linear regression model <br>\n",
    "- 2. Random forest model <br>\n",
    "\n",
    "Points to consider based on the information from EDA when building those models, <br>\n",
    "- Categorical variable\n",
    "    - In the case of Holiday, many values fall into one category. The possibility of overfitting cannot be ruled out.<br><br>\n",
    "- Numerical variable: <br>\n",
    "    - Correlation between variables: Among the features which are not the target attribute, there were some variables having correlation with other attributes, which can lead to an issue of multicollinearity. <br>\n",
    "    \n",
    "\n",
    "Thus, the issues, that need to be considered and addressed when building models based on the given data set, are overfitting and multicollinearity. Here we will build the models reflecting those points in the following way. <br>\n",
    "\n",
    "- Ordinary least squares (OLS) regression with a stepwise function for feature selection and VIF(variation inflation factor) calculating function to check the multicollinearity \n",
    "- Lasso regression, which applies shrinkage to the basic linear regression model.\n",
    "- One of the ensemble models which is a random forest regression which is good at dealing with these issues"
   ]
  },
  {
   "cell_type": "markdown",
   "metadata": {},
   "source": [
    "## 5. Model Development <a class=\"anchor\" id=\"sec_5\"></a>"
   ]
  },
  {
   "cell_type": "markdown",
   "metadata": {},
   "source": [
    "### <li> Ordinary least squares (OLS) regression "
   ]
  },
  {
   "cell_type": "markdown",
   "metadata": {},
   "source": [
    "First, we need to check if transformation is really necessary for each feature and Rented.Bike.Count which is our response  variable. To do this, we will compare the model using the original variables and the model using the variables after transformation to see which one satisfies the assumption of linear regression better."
   ]
  },
  {
   "cell_type": "markdown",
   "metadata": {},
   "source": [
    "### Model using original variables"
   ]
  },
  {
   "cell_type": "code",
   "execution_count": 25,
   "metadata": {},
   "outputs": [
    {
     "data": {
      "text/plain": [
       "\n",
       "Call:\n",
       "lm(formula = Rented.Bike.Count ~ ., data = train)\n",
       "\n",
       "Residuals:\n",
       "     Min       1Q   Median       3Q      Max \n",
       "-1395.96  -277.05   -41.63   220.57  2293.90 \n",
       "\n",
       "Coefficients:\n",
       "                        Estimate Std. Error t value Pr(>|t|)    \n",
       "(Intercept)            6.777e+02  1.203e+02   5.634 1.83e-08 ***\n",
       "Date                   3.470e-06  1.773e-03   0.002 0.998438    \n",
       "Hour                   2.818e+01  8.806e-01  31.995  < 2e-16 ***\n",
       "Temperature            1.826e+01  4.334e+00   4.213 2.56e-05 ***\n",
       "Humidity              -9.800e+00  1.219e+00  -8.042 1.03e-15 ***\n",
       "Wind.speed             1.630e+01  6.144e+00   2.653 0.008008 ** \n",
       "Visibility             3.845e-03  1.195e-02   0.322 0.747691    \n",
       "Dew.point.temperature  6.423e+00  4.532e+00   1.417 0.156429    \n",
       "Solar.Radiation       -7.635e+01  9.129e+00  -8.364  < 2e-16 ***\n",
       "Rainfall              -5.635e+01  4.940e+00 -11.409  < 2e-16 ***\n",
       "Snowfall               4.208e+01  1.336e+01   3.150 0.001642 ** \n",
       "SeasonsSpring         -4.954e+01  1.634e+01  -3.032 0.002441 ** \n",
       "SeasonsSummer         -6.563e+00  2.016e+01  -0.325 0.744815    \n",
       "SeasonsWinter         -2.895e+02  2.346e+01 -12.338  < 2e-16 ***\n",
       "HolidayNo Holiday      1.410e+02  2.597e+01   5.428 5.89e-08 ***\n",
       "DayMonday             -2.746e+01  2.055e+01  -1.336 0.181502    \n",
       "DaySaturday            1.691e+01  2.082e+01   0.812 0.416652    \n",
       "DaySunday             -1.026e+00  2.086e+01  -0.049 0.960795    \n",
       "DayThursday           -7.972e+00  2.069e+01  -0.385 0.700083    \n",
       "DayTuesday            -4.447e+01  2.090e+01  -2.128 0.033358 *  \n",
       "DayWednesday          -7.412e+01  2.089e+01  -3.548 0.000391 ***\n",
       "---\n",
       "Signif. codes:  0 '***' 0.001 '**' 0.01 '*' 0.05 '.' 0.1 ' ' 1\n",
       "\n",
       "Residual standard error: 462.8 on 6987 degrees of freedom\n",
       "Multiple R-squared:  0.488,\tAdjusted R-squared:  0.4865 \n",
       "F-statistic: 332.9 on 20 and 6987 DF,  p-value: < 2.2e-16\n"
      ]
     },
     "metadata": {},
     "output_type": "display_data"
    },
    {
     "data": {
      "image/png": "[encoded data removed]",
      "text/plain": [
       "Plot with title \"\""
      ]
     },
     "metadata": {
      "image/png": {
       "height": 420,
       "width": 420
      }
     },
     "output_type": "display_data"
    }
   ],
   "source": [
    "# build a model using original variables\n",
    "model_original <- lm(Rented.Bike.Count~., data=train)\n",
    "summary(model_original)\n",
    "par(mfcol=c(2,2))\n",
    "plot(model_original)"
   ]
  },
  {
   "cell_type": "markdown",
   "metadata": {},
   "source": [
    "\n",
    "- Residuals vs. Fitted (Linearity between features and target variable): The residuals are slightly skewed to the right.<br>\n",
    "- Scale-Location (Homoscedasticity of residuals): also a bit skewed <br>\n",
    "- Normal Q-Q (Normality of residuals): insufficient to satisfy normality <br>\n",
    "- Residuals vs. Leverage (outlier, high leverage point, influential obsevation): some observations to be paid attention to.<br><br>\n",
    "From observing the plots above, it is not enough to say that the statistical assumptions for linear regression are well satisfied. Therefore, we will make another model using the transformed variables created in the EDA process."
   ]
  },
  {
   "cell_type": "markdown",
   "metadata": {},
   "source": [
    "### Model using square root transformed variables"
   ]
  },
  {
   "cell_type": "code",
   "execution_count": 26,
   "metadata": {},
   "outputs": [
    {
     "data": {
      "text/plain": [
       "\n",
       "Call:\n",
       "lm(formula = Rented.Bike.Count.sqrt ~ ., data = train_new[, c(-2, \n",
       "    -6, -7, -9, -10, -11)])\n",
       "\n",
       "Residuals:\n",
       "    Min      1Q  Median      3Q     Max \n",
       "-34.788  -4.462   0.122   4.909  30.678 \n",
       "\n",
       "Coefficients:\n",
       "                        Estimate Std. Error t value Pr(>|t|)    \n",
       "(Intercept)            1.975e+01  2.410e+00   8.198 2.88e-16 ***\n",
       "Date                   8.867e-05  3.334e-05   2.659 0.007847 ** \n",
       "Hour                   5.352e-01  1.645e-02  32.524  < 2e-16 ***\n",
       "Temperature            1.896e-01  8.117e-02   2.336 0.019512 *  \n",
       "Humidity              -1.555e-01  2.349e-02  -6.617 3.93e-11 ***\n",
       "Dew.point.temperature  1.845e-01  8.524e-02   2.164 0.030470 *  \n",
       "SeasonsSpring         -4.183e-01  3.067e-01  -1.364 0.172632    \n",
       "SeasonsSummer          1.467e+00  3.789e-01   3.871 0.000109 ***\n",
       "SeasonsWinter         -6.079e+00  4.422e-01 -13.749  < 2e-16 ***\n",
       "HolidayNo Holiday      3.387e+00  4.873e-01   6.951 3.96e-12 ***\n",
       "DayMonday             -9.704e-01  3.855e-01  -2.517 0.011841 *  \n",
       "DaySaturday            1.783e-01  3.907e-01   0.456 0.648215    \n",
       "DaySunday              1.501e-01  3.914e-01   0.383 0.701463    \n",
       "DayThursday            1.573e-01  3.884e-01   0.405 0.685527    \n",
       "DayTuesday            -1.381e+00  3.921e-01  -3.521 0.000432 ***\n",
       "DayWednesday          -1.621e+00  3.919e-01  -4.137 3.56e-05 ***\n",
       "Wind.speed.sqrt        2.232e-01  2.985e-01   0.748 0.454526    \n",
       "Visibility.sqrt        1.156e-02  1.466e-02   0.788 0.430709    \n",
       "Solar.Radiation.sqrt   4.794e-01  2.528e-01   1.896 0.057997 .  \n",
       "Rainfall.sqrt         -7.045e+00  2.988e-01 -23.576  < 2e-16 ***\n",
       "Snowfall.sqrt          4.378e-01  4.214e-01   1.039 0.298813    \n",
       "---\n",
       "Signif. codes:  0 '***' 0.001 '**' 0.01 '*' 0.05 '.' 0.1 ' ' 1\n",
       "\n",
       "Residual standard error: 8.685 on 6987 degrees of freedom\n",
       "Multiple R-squared:  0.5182,\tAdjusted R-squared:  0.5169 \n",
       "F-statistic: 375.8 on 20 and 6987 DF,  p-value: < 2.2e-16\n"
      ]
     },
     "metadata": {},
     "output_type": "display_data"
    },
    {
     "data": {
      "image/png": "[encoded data removed]",
      "text/plain": [
       "Plot with title \"\""
      ]
     },
     "metadata": {
      "image/png": {
       "height": 420,
       "width": 420
      }
     },
     "output_type": "display_data"
    }
   ],
   "source": [
    "# build a model using square root transformed variables\n",
    "model_sqrt <- lm(Rented.Bike.Count.sqrt~., data=train_new[,c(-2,-6,-7,-9,-10,-11)])\n",
    "summary(model_sqrt)\n",
    "par(mfcol=c(2,2))\n",
    "plot(model_sqrt)"
   ]
  },
  {
   "cell_type": "markdown",
   "metadata": {},
   "source": [
    "It seems to be better than the previous model since it has higher adjusted R-squared score which mesures the proportion of the variation in the target variable explained by features based on the number of independent variables for a linear regression model. Also this model has better F-statistic score which is the ratio of the mean regression sum of squares divided by the mean error sum of squares. However, it is still not enough to satisfy the linear regression assumption. In some cases, it may be possible to satisfy the normality assumption by removing influential observations that disproportionately affect the parameters of the model. Thus, We will try to use Cook's distance to find and eliminate those observations."
   ]
  },
  {
   "cell_type": "code",
   "execution_count": 27,
   "metadata": {},
   "outputs": [
    {
     "name": "stderr",
     "output_type": "stream",
     "text": [
      "Warning message in mean.default(outlier, na.rm = T):\n",
      "\"argument is not numeric or logical: returning NA\"\n"
     ]
    },
    {
     "data": {
      "image/png": "[encoded data removed]",
      "text/plain": [
       "Plot with title \"Outliers detected by Cook's distance\""
      ]
     },
     "metadata": {
      "image/png": {
       "height": 420,
       "width": 420
      }
     },
     "output_type": "display_data"
    }
   ],
   "source": [
    "# Detect influential outliers by using Cook's distance\n",
    "model_outlier <- lm(Rented.Bike.Count.sqrt ~., data=train_new[,c(-2,-6,-7,-9,-10,-11)])\n",
    "Cooks_distance <- cooks.distance(model_outlier)\n",
    "plot(Cooks_distance, col=\"red\",main =\"Outliers detected by Cook's distance\")\n",
    "abline(h = 4*mean(outlier, na.rm=T), col=\"red\") "
   ]
  },
  {
   "cell_type": "code",
   "execution_count": 28,
   "metadata": {},
   "outputs": [
    {
     "name": "stdout",
     "output_type": "stream",
     "text": [
      "Dimension of the dataframe before removing influential observations: 7008 20\n",
      "Dimension of the dataframe after removing influential observations: 6652 20"
     ]
    }
   ],
   "source": [
    "# influential observations indices\n",
    "outlier_index <- which(Cooks_distance>4*mean(Cooks_distance, na.rm=T))\n",
    "\n",
    "# Remove influential influential observations\n",
    "train_cleaned <- train_new[-outlier_index,]\n",
    "\n",
    "# Check the dimension of dataframe\n",
    "cat(\"Dimension of the dataframe before removing influential observations:\", dim(train_new))\n",
    "cat(\"\\nDimension of the dataframe after removing influential observations:\", dim(train_cleaned))"
   ]
  },
  {
   "cell_type": "code",
   "execution_count": 29,
   "metadata": {},
   "outputs": [
    {
     "data": {
      "text/plain": [
       "\n",
       "Call:\n",
       "lm(formula = Rented.Bike.Count.sqrt ~ ., data = train_cleaned[, \n",
       "    c(-2, -6, -7, -9, -10, -11)])\n",
       "\n",
       "Residuals:\n",
       "     Min       1Q   Median       3Q      Max \n",
       "-23.6600  -4.2355  -0.3534   4.2248  21.3476 \n",
       "\n",
       "Coefficients:\n",
       "                        Estimate Std. Error t value Pr(>|t|)    \n",
       "(Intercept)            3.445e+01  2.312e+00  14.902  < 2e-16 ***\n",
       "Date                   3.759e-05  2.675e-05   1.405  0.15998    \n",
       "Hour                   5.697e-01  1.308e-02  43.551  < 2e-16 ***\n",
       "Temperature           -2.179e-01  7.677e-02  -2.839  0.00454 ** \n",
       "Humidity              -3.126e-01  2.309e-02 -13.534  < 2e-16 ***\n",
       "Dew.point.temperature  7.362e-01  8.199e-02   8.978  < 2e-16 ***\n",
       "SeasonsSpring         -2.295e+00  2.491e-01  -9.212  < 2e-16 ***\n",
       "SeasonsSummer         -2.405e+00  3.081e-01  -7.805 6.88e-15 ***\n",
       "SeasonsWinter         -7.141e+00  3.521e-01 -20.279  < 2e-16 ***\n",
       "HolidayNo Holiday      3.619e+00  4.140e-01   8.742  < 2e-16 ***\n",
       "DayMonday             -5.410e-02  3.071e-01  -0.176  0.86016    \n",
       "DaySaturday            2.520e-01  3.091e-01   0.815  0.41492    \n",
       "DaySunday              2.621e-01  3.102e-01   0.845  0.39812    \n",
       "DayThursday           -8.743e-02  3.064e-01  -0.285  0.77538    \n",
       "DayTuesday            -3.168e-01  3.131e-01  -1.012  0.31178    \n",
       "DayWednesday          -3.678e-01  3.140e-01  -1.171  0.24150    \n",
       "Wind.speed.sqrt        4.015e-01  2.381e-01   1.687  0.09174 .  \n",
       "Visibility.sqrt       -2.139e-03  1.195e-02  -0.179  0.85792    \n",
       "Solar.Radiation.sqrt   2.028e-01  2.013e-01   1.007  0.31376    \n",
       "Rainfall.sqrt         -8.382e+00  2.793e-01 -30.010  < 2e-16 ***\n",
       "Snowfall.sqrt          8.136e-01  3.396e-01   2.396  0.01660 *  \n",
       "---\n",
       "Signif. codes:  0 '***' 0.001 '**' 0.01 '*' 0.05 '.' 0.1 ' ' 1\n",
       "\n",
       "Residual standard error: 6.738 on 6631 degrees of freedom\n",
       "Multiple R-squared:  0.6734,\tAdjusted R-squared:  0.6724 \n",
       "F-statistic: 683.5 on 20 and 6631 DF,  p-value: < 2.2e-16\n"
      ]
     },
     "metadata": {},
     "output_type": "display_data"
    },
    {
     "data": {
      "image/png": "[encoded data removed]",
      "text/plain": [
       "Plot with title \"\""
      ]
     },
     "metadata": {
      "image/png": {
       "height": 420,
       "width": 420
      }
     },
     "output_type": "display_data"
    }
   ],
   "source": [
    "# build a model without influential observations\n",
    "model_all <- lm(Rented.Bike.Count.sqrt ~ ., data=train_cleaned[,c(-2,-6,-7,-9,-10,-11)])\n",
    "summary(model_all)\n",
    "\n",
    "par(mfcol=c(2,2))\n",
    "plot(model_all)"
   ]
  },
  {
   "cell_type": "markdown",
   "metadata": {},
   "source": [
    "By removing influential observations, it can be seen that the normality is greatly improved. Moreover, this model has better adjusted R-squared and F-statistic scores than the previous models. Now, considering that the model follows the assumption of linear regression, let's see which variable we should choose to improve the model's performance."
   ]
  },
  {
   "cell_type": "markdown",
   "metadata": {},
   "source": [
    "For this, we will use a stepwise function which uses AIC for feature selection."
   ]
  },
  {
   "cell_type": "code",
   "execution_count": 30,
   "metadata": {
    "scrolled": false
   },
   "outputs": [
    {
     "name": "stdout",
     "output_type": "stream",
     "text": [
      "Start:  AIC=25401.41\n",
      "Rented.Bike.Count.sqrt ~ Date + Hour + Temperature + Humidity + \n",
      "    Dew.point.temperature + Seasons + Holiday + Day + Wind.speed.sqrt + \n",
      "    Visibility.sqrt + Solar.Radiation.sqrt + Rainfall.sqrt + \n",
      "    Snowfall.sqrt\n",
      "\n",
      "                        Df Sum of Sq    RSS   AIC\n",
      "- Day                    6       337 301369 25397\n",
      "- Visibility.sqrt        1         1 301033 25399\n",
      "- Solar.Radiation.sqrt   1        46 301078 25400\n",
      "- Date                   1        90 301121 25401\n",
      "<none>                               301032 25401\n",
      "- Wind.speed.sqrt        1       129 301161 25402\n",
      "- Snowfall.sqrt          1       261 301292 25405\n",
      "- Temperature            1       366 301398 25408\n",
      "- Holiday                1      3470 304501 25476\n",
      "- Dew.point.temperature  1      3660 304691 25480\n",
      "- Humidity               1      8316 309347 25581\n",
      "- Seasons                3     25878 326910 25944\n",
      "- Rainfall.sqrt          1     40886 341917 26247\n",
      "- Hour                   1     86106 387138 27073\n",
      "\n",
      "Step:  AIC=25396.85\n",
      "Rented.Bike.Count.sqrt ~ Date + Hour + Temperature + Humidity + \n",
      "    Dew.point.temperature + Seasons + Holiday + Wind.speed.sqrt + \n",
      "    Visibility.sqrt + Solar.Radiation.sqrt + Rainfall.sqrt + \n",
      "    Snowfall.sqrt\n",
      "\n",
      "                        Df Sum of Sq    RSS   AIC\n",
      "- Visibility.sqrt        1         1 301370 25395\n",
      "- Solar.Radiation.sqrt   1        54 301422 25396\n",
      "<none>                               301369 25397\n",
      "- Date                   1        95 301464 25397\n",
      "- Wind.speed.sqrt        1       109 301478 25397\n",
      "- Snowfall.sqrt          1       275 301644 25401\n",
      "+ Day                    6       337 301032 25401\n",
      "- Temperature            1       382 301751 25403\n",
      "- Holiday                1      3609 304978 25474\n",
      "- Dew.point.temperature  1      3714 305082 25476\n",
      "- Humidity               1      8411 309780 25578\n",
      "- Seasons                3     26049 327418 25942\n",
      "- Rainfall.sqrt          1     41210 342579 26247\n",
      "- Hour                   1     86150 387519 27067\n",
      "\n",
      "Step:  AIC=25394.87\n",
      "Rented.Bike.Count.sqrt ~ Date + Hour + Temperature + Humidity + \n",
      "    Dew.point.temperature + Seasons + Holiday + Wind.speed.sqrt + \n",
      "    Solar.Radiation.sqrt + Rainfall.sqrt + Snowfall.sqrt\n",
      "\n",
      "                        Df Sum of Sq    RSS   AIC\n",
      "- Solar.Radiation.sqrt   1        60 301429 25394\n",
      "<none>                               301370 25395\n",
      "- Date                   1       101 301471 25395\n",
      "- Wind.speed.sqrt        1       108 301478 25395\n",
      "+ Visibility.sqrt        1         1 301369 25397\n",
      "- Snowfall.sqrt          1       275 301644 25399\n",
      "+ Day                    6       336 301033 25399\n",
      "- Temperature            1       385 301755 25401\n",
      "- Holiday                1      3615 304984 25472\n",
      "- Dew.point.temperature  1      3786 305156 25476\n",
      "- Humidity               1      9283 310653 25595\n",
      "- Seasons                3     26447 327817 25948\n",
      "- Rainfall.sqrt          1     41230 342599 26246\n",
      "- Hour                   1     86462 387832 27071\n",
      "\n",
      "Step:  AIC=25394.18\n",
      "Rented.Bike.Count.sqrt ~ Date + Hour + Temperature + Humidity + \n",
      "    Dew.point.temperature + Seasons + Holiday + Wind.speed.sqrt + \n",
      "    Rainfall.sqrt + Snowfall.sqrt\n",
      "\n",
      "                        Df Sum of Sq    RSS   AIC\n",
      "<none>                               301429 25394\n",
      "- Date                   1        94 301523 25394\n",
      "+ Solar.Radiation.sqrt   1        60 301370 25395\n",
      "- Wind.speed.sqrt        1       155 301584 25396\n",
      "+ Visibility.sqrt        1         7 301422 25396\n",
      "+ Day                    6       344 301085 25399\n",
      "- Snowfall.sqrt          1       309 301738 25399\n",
      "- Temperature            1       335 301764 25400\n",
      "- Holiday                1      3640 305069 25472\n",
      "- Dew.point.temperature  1      3733 305162 25474\n",
      "- Humidity               1      9245 310674 25593\n",
      "- Seasons                3     26397 327826 25947\n",
      "- Rainfall.sqrt          1     41172 342601 26244\n",
      "- Hour                   1     86672 388101 27073\n"
     ]
    },
    {
     "data": {
      "text/plain": [
       "\n",
       "Call:\n",
       "lm(formula = Rented.Bike.Count.sqrt ~ Date + Hour + Temperature + \n",
       "    Humidity + Dew.point.temperature + Seasons + Holiday + Wind.speed.sqrt + \n",
       "    Rainfall.sqrt + Snowfall.sqrt, data = train_cleaned[, c(-2, \n",
       "    -6, -7, -9, -10, -11)])\n",
       "\n",
       "Residuals:\n",
       "     Min       1Q   Median       3Q      Max \n",
       "-24.0099  -4.2200  -0.3096   4.1823  21.5384 \n",
       "\n",
       "Coefficients:\n",
       "                        Estimate Std. Error t value Pr(>|t|)    \n",
       "(Intercept)            3.413e+01  2.012e+00  16.964  < 2e-16 ***\n",
       "Date                   3.785e-05  2.625e-05   1.442  0.14942    \n",
       "Hour                   5.687e-01  1.302e-02  43.692  < 2e-16 ***\n",
       "Temperature           -1.998e-01  7.356e-02  -2.717  0.00661 ** \n",
       "Humidity              -3.121e-01  2.187e-02 -14.270  < 2e-16 ***\n",
       "Dew.point.temperature  7.236e-01  7.980e-02   9.068  < 2e-16 ***\n",
       "SeasonsSpring         -2.270e+00  2.427e-01  -9.353  < 2e-16 ***\n",
       "SeasonsSummer         -2.447e+00  3.059e-01  -8.000 1.46e-15 ***\n",
       "SeasonsWinter         -7.111e+00  3.427e-01 -20.748  < 2e-16 ***\n",
       "HolidayNo Holiday      3.677e+00  4.107e-01   8.954  < 2e-16 ***\n",
       "Wind.speed.sqrt        4.259e-01  2.305e-01   1.848  0.06463 .  \n",
       "Rainfall.sqrt         -8.392e+00  2.787e-01 -30.113  < 2e-16 ***\n",
       "Snowfall.sqrt          8.781e-01  3.368e-01   2.607  0.00915 ** \n",
       "---\n",
       "Signif. codes:  0 '***' 0.001 '**' 0.01 '*' 0.05 '.' 0.1 ' ' 1\n",
       "\n",
       "Residual standard error: 6.738 on 6639 degrees of freedom\n",
       "Multiple R-squared:  0.6729,\tAdjusted R-squared:  0.6724 \n",
       "F-statistic:  1138 on 12 and 6639 DF,  p-value: < 2.2e-16\n"
      ]
     },
     "metadata": {},
     "output_type": "display_data"
    }
   ],
   "source": [
    "# Selecting feature by a step() function\n",
    "summary(step(model_all,direction=\"both\"))"
   ]
  },
  {
   "cell_type": "markdown",
   "metadata": {},
   "source": [
    "Through stepwise feature selection, we can check that the followings are important variables: Date+ Hour + Temperature + Humidity + Dew.point.temperature + Seasons + Holiday + Wind.speed.sqrt + Rainfall.sqrt + Snowfall.sqrt"
   ]
  },
  {
   "cell_type": "markdown",
   "metadata": {},
   "source": [
    "One more thing to consider here is the multicollinearity between variables that are important when interpreting multiple regression results. This multicollinearity can be calculated using a statistic called a variation inflation factor (VIF). If $\\sqrt{VIF}$ is 2 or more, it means that there is a multicollinearity problem."
   ]
  },
  {
   "cell_type": "code",
   "execution_count": 31,
   "metadata": {
    "scrolled": false
   },
   "outputs": [
    {
     "data": {
      "text/html": [
       "<table>\n",
       "<caption>A matrix: 13 × 3 of type lgl</caption>\n",
       "<thead>\n",
       "\t<tr><th></th><th scope=col>GVIF</th><th scope=col>Df</th><th scope=col>GVIF^(1/(2*Df))</th></tr>\n",
       "</thead>\n",
       "<tbody>\n",
       "\t<tr><th scope=row>Date</th><td>FALSE</td><td>FALSE</td><td>FALSE</td></tr>\n",
       "\t<tr><th scope=row>Hour</th><td>FALSE</td><td>FALSE</td><td>FALSE</td></tr>\n",
       "\t<tr><th scope=row>Temperature</th><td> TRUE</td><td>FALSE</td><td> TRUE</td></tr>\n",
       "\t<tr><th scope=row>Humidity</th><td> TRUE</td><td>FALSE</td><td> TRUE</td></tr>\n",
       "\t<tr><th scope=row>Dew.point.temperature</th><td> TRUE</td><td>FALSE</td><td> TRUE</td></tr>\n",
       "\t<tr><th scope=row>Seasons</th><td> TRUE</td><td>FALSE</td><td>FALSE</td></tr>\n",
       "\t<tr><th scope=row>Holiday</th><td>FALSE</td><td>FALSE</td><td>FALSE</td></tr>\n",
       "\t<tr><th scope=row>Day</th><td>FALSE</td><td> TRUE</td><td>FALSE</td></tr>\n",
       "\t<tr><th scope=row>Wind.speed.sqrt</th><td>FALSE</td><td>FALSE</td><td>FALSE</td></tr>\n",
       "\t<tr><th scope=row>Visibility.sqrt</th><td>FALSE</td><td>FALSE</td><td>FALSE</td></tr>\n",
       "\t<tr><th scope=row>Solar.Radiation.sqrt</th><td>FALSE</td><td>FALSE</td><td>FALSE</td></tr>\n",
       "\t<tr><th scope=row>Rainfall.sqrt</th><td>FALSE</td><td>FALSE</td><td>FALSE</td></tr>\n",
       "\t<tr><th scope=row>Snowfall.sqrt</th><td>FALSE</td><td>FALSE</td><td>FALSE</td></tr>\n",
       "</tbody>\n",
       "</table>\n"
      ],
      "text/latex": [
       "A matrix: 13 × 3 of type lgl\n",
       "\\begin{tabular}{r|lll}\n",
       "  & GVIF & Df & GVIF\\textasciicircum{}(1/(2*Df))\\\\\n",
       "\\hline\n",
       "\tDate & FALSE & FALSE & FALSE\\\\\n",
       "\tHour & FALSE & FALSE & FALSE\\\\\n",
       "\tTemperature &  TRUE & FALSE &  TRUE\\\\\n",
       "\tHumidity &  TRUE & FALSE &  TRUE\\\\\n",
       "\tDew.point.temperature &  TRUE & FALSE &  TRUE\\\\\n",
       "\tSeasons &  TRUE & FALSE & FALSE\\\\\n",
       "\tHoliday & FALSE & FALSE & FALSE\\\\\n",
       "\tDay & FALSE &  TRUE & FALSE\\\\\n",
       "\tWind.speed.sqrt & FALSE & FALSE & FALSE\\\\\n",
       "\tVisibility.sqrt & FALSE & FALSE & FALSE\\\\\n",
       "\tSolar.Radiation.sqrt & FALSE & FALSE & FALSE\\\\\n",
       "\tRainfall.sqrt & FALSE & FALSE & FALSE\\\\\n",
       "\tSnowfall.sqrt & FALSE & FALSE & FALSE\\\\\n",
       "\\end{tabular}\n"
      ],
      "text/markdown": [
       "\n",
       "A matrix: 13 × 3 of type lgl\n",
       "\n",
       "| <!--/--> | GVIF | Df | GVIF^(1/(2*Df)) |\n",
       "|---|---|---|---|\n",
       "| Date | FALSE | FALSE | FALSE |\n",
       "| Hour | FALSE | FALSE | FALSE |\n",
       "| Temperature |  TRUE | FALSE |  TRUE |\n",
       "| Humidity |  TRUE | FALSE |  TRUE |\n",
       "| Dew.point.temperature |  TRUE | FALSE |  TRUE |\n",
       "| Seasons |  TRUE | FALSE | FALSE |\n",
       "| Holiday | FALSE | FALSE | FALSE |\n",
       "| Day | FALSE |  TRUE | FALSE |\n",
       "| Wind.speed.sqrt | FALSE | FALSE | FALSE |\n",
       "| Visibility.sqrt | FALSE | FALSE | FALSE |\n",
       "| Solar.Radiation.sqrt | FALSE | FALSE | FALSE |\n",
       "| Rainfall.sqrt | FALSE | FALSE | FALSE |\n",
       "| Snowfall.sqrt | FALSE | FALSE | FALSE |\n",
       "\n"
      ],
      "text/plain": [
       "                      GVIF  Df    GVIF^(1/(2*Df))\n",
       "Date                  FALSE FALSE FALSE          \n",
       "Hour                  FALSE FALSE FALSE          \n",
       "Temperature            TRUE FALSE  TRUE          \n",
       "Humidity               TRUE FALSE  TRUE          \n",
       "Dew.point.temperature  TRUE FALSE  TRUE          \n",
       "Seasons                TRUE FALSE FALSE          \n",
       "Holiday               FALSE FALSE FALSE          \n",
       "Day                   FALSE  TRUE FALSE          \n",
       "Wind.speed.sqrt       FALSE FALSE FALSE          \n",
       "Visibility.sqrt       FALSE FALSE FALSE          \n",
       "Solar.Radiation.sqrt  FALSE FALSE FALSE          \n",
       "Rainfall.sqrt         FALSE FALSE FALSE          \n",
       "Snowfall.sqrt         FALSE FALSE FALSE          "
      ]
     },
     "metadata": {},
     "output_type": "display_data"
    }
   ],
   "source": [
    "# Check the variable which has a multicollinearity by using vif score\n",
    "sqrt(vif(model_all))>2"
   ]
  },
  {
   "cell_type": "markdown",
   "metadata": {},
   "source": [
    "Variables that can cause multicollinearity were found to be Temperature, Humidity, and Dew. The correlation between them can be visually confirmed with a scattermatrix plot as below."
   ]
  },
  {
   "cell_type": "code",
   "execution_count": 32,
   "metadata": {},
   "outputs": [
    {
     "data": {
      "image/png": "[encoded data removed]",
      "text/plain": [
       "plot without title"
      ]
     },
     "metadata": {
      "image/png": {
       "height": 420,
       "width": 420
      }
     },
     "output_type": "display_data"
    }
   ],
   "source": [
    "# show the correlation between the variables that can cause multicollinearity\n",
    "pairs(train_cleaned[,c(\"Temperature\",\"Humidity\",\"Dew.point.temperature\")])"
   ]
  },
  {
   "cell_type": "markdown",
   "metadata": {},
   "source": [
    "It seems they are correlated to each other, especially Temperature and Dew.point.temperature. Now, we will build the model reflecting the interaction between the variables."
   ]
  },
  {
   "cell_type": "code",
   "execution_count": 33,
   "metadata": {
    "scrolled": true
   },
   "outputs": [
    {
     "data": {
      "text/plain": [
       "\n",
       "Call:\n",
       "lm(formula = Rented.Bike.Count.sqrt ~ Date + Hour + Temperature + \n",
       "    Humidity + Dew.point.temperature + Seasons + Holiday + Wind.speed.sqrt + \n",
       "    Rainfall.sqrt + Snowfall.sqrt + Temperature:Dew.point.temperature + \n",
       "    Humidity:Dew.point.temperature, data = train_cleaned[, c(-2, \n",
       "    -6, -7, -9, -10, -11)])\n",
       "\n",
       "Residuals:\n",
       "     Min       1Q   Median       3Q      Max \n",
       "-23.9938  -4.2753  -0.3102   4.2024  20.8856 \n",
       "\n",
       "Coefficients:\n",
       "                                    Estimate Std. Error t value Pr(>|t|)    \n",
       "(Intercept)                        3.699e+01  2.199e+00  16.824  < 2e-16 ***\n",
       "Date                               3.147e-05  2.599e-05   1.211 0.226027    \n",
       "Hour                               5.635e-01  1.290e-02  43.689  < 2e-16 ***\n",
       "Temperature                       -2.948e-01  7.931e-02  -3.717 0.000204 ***\n",
       "Humidity                          -3.427e-01  2.471e-02 -13.869  < 2e-16 ***\n",
       "Dew.point.temperature              9.847e-01  8.468e-02  11.629  < 2e-16 ***\n",
       "SeasonsSpring                     -2.449e+00  2.405e-01 -10.184  < 2e-16 ***\n",
       "SeasonsSummer                     -4.898e-01  3.448e-01  -1.421 0.155490    \n",
       "SeasonsWinter                     -6.097e+00  3.573e-01 -17.066  < 2e-16 ***\n",
       "HolidayNo Holiday                  3.791e+00  4.066e-01   9.323  < 2e-16 ***\n",
       "Wind.speed.sqrt                    7.531e-01  2.299e-01   3.275 0.001062 ** \n",
       "Rainfall.sqrt                     -7.836e+00  2.835e-01 -27.644  < 2e-16 ***\n",
       "Snowfall.sqrt                      8.210e-01  3.452e-01   2.378 0.017414 *  \n",
       "Temperature:Dew.point.temperature -7.259e-03  8.071e-04  -8.993  < 2e-16 ***\n",
       "Humidity:Dew.point.temperature    -1.517e-03  4.076e-04  -3.721 0.000200 ***\n",
       "---\n",
       "Signif. codes:  0 '***' 0.001 '**' 0.01 '*' 0.05 '.' 0.1 ' ' 1\n",
       "\n",
       "Residual standard error: 6.664 on 6637 degrees of freedom\n",
       "Multiple R-squared:  0.6802,\tAdjusted R-squared:  0.6795 \n",
       "F-statistic:  1008 on 14 and 6637 DF,  p-value: < 2.2e-16\n"
      ]
     },
     "metadata": {},
     "output_type": "display_data"
    }
   ],
   "source": [
    "# build a model reflecting the interaction between the variables\n",
    "model_ols_interaction <- lm(Rented.Bike.Count.sqrt ~\n",
    "                              Date + Hour + Temperature + Humidity + Dew.point.temperature + Seasons + Holiday + \n",
    "                              Wind.speed.sqrt + Rainfall.sqrt + Snowfall.sqrt +\n",
    "                              Temperature:Dew.point.temperature + Humidity:Dew.point.temperature, \n",
    "                              data=train_cleaned[,c(-2,-6,-7,-9,-10,-11)])\n",
    "\n",
    "summary(model_ols_interaction)"
   ]
  },
  {
   "cell_type": "markdown",
   "metadata": {},
   "source": [
    "It can be seen the adjusted R-squared score is improved."
   ]
  },
  {
   "cell_type": "markdown",
   "metadata": {},
   "source": [
    "### <li> Lasso Regression"
   ]
  },
  {
   "cell_type": "markdown",
   "metadata": {},
   "source": [
    "If there is a problem of multicollinearity, Ridge or Lasso regression model can be considered. In this case, will build a Lasso  regression model that has an effect equivalent to feature selection and an effect of preventing overfitting."
   ]
  },
  {
   "cell_type": "code",
   "execution_count": 34,
   "metadata": {},
   "outputs": [],
   "source": [
    "# Dataframe to matrix\n",
    "train_matrix <- model.matrix(Rented.Bike.Count.sqrt~.,data = train_cleaned[,c(-2,-6,-7,-9,-10,-11)])"
   ]
  },
  {
   "cell_type": "code",
   "execution_count": 35,
   "metadata": {},
   "outputs": [
    {
     "data": {
      "text/html": [
       "0.0116094718185021"
      ],
      "text/latex": [
       "0.0116094718185021"
      ],
      "text/markdown": [
       "0.0116094718185021"
      ],
      "text/plain": [
       "[1] 0.01160947"
      ]
     },
     "metadata": {},
     "output_type": "display_data"
    }
   ],
   "source": [
    "set.seed(123)\n",
    "\n",
    "# Fit lasso model\n",
    "fit.lasso <- glmnet(train_matrix, train_cleaned$Rented.Bike.Count.sqrt, alpha = 1)\n",
    "\n",
    "# get the minimum lambda by implementing cv\n",
    "fit.lasso.cv <- cv.glmnet(train_matrix, train_cleaned$Rented.Bike.Count.sqrt, alpha = 1)\n",
    "\n",
    "lasso_regression <- fit.lasso.cv$lambda.min\n",
    "lasso_regression"
   ]
  },
  {
   "cell_type": "code",
   "execution_count": 36,
   "metadata": {},
   "outputs": [
    {
     "data": {
      "text/html": [
       "<style>\n",
       ".dl-inline {width: auto; margin:0; padding: 0}\n",
       ".dl-inline>dt, .dl-inline>dd {float: none; width: auto; display: inline-block}\n",
       ".dl-inline>dt::after {content: \":\\0020\"; padding-right: .5ex}\n",
       ".dl-inline>dt:not(:first-of-type) {padding-left: .5ex}\n",
       "</style><dl class=dl-inline><dt>(Intercept)</dt><dd>0</dd><dt>Date</dt><dd>3.43751298649639e-05</dd><dt>Hour</dt><dd>0.569585477500996</dd><dt>Temperature</dt><dd>0</dd><dt>Humidity</dt><dd>-0.249032504934042</dd><dt>Dew.point.temperature</dt><dd>0.499819001763558</dd><dt>SeasonsSpring</dt><dd>-2.24399444569941</dd><dt>SeasonsSummer</dt><dd>-2.23454554328776</dd><dt>SeasonsWinter</dt><dd>-7.02654891766482</dd><dt>HolidayNo Holiday</dt><dd>3.61221628540377</dd><dt>DayMonday</dt><dd>0</dd><dt>DaySaturday</dt><dd>0.254963275355544</dd><dt>DaySunday</dt><dd>0.28388581967267</dd><dt>DayThursday</dt><dd>-0.0177312112742546</dd><dt>DayTuesday</dt><dd>-0.263820623397219</dd><dt>DayWednesday</dt><dd>-0.319151579900646</dd><dt>Wind.speed.sqrt</dt><dd>0.369669261333988</dd><dt>Visibility.sqrt</dt><dd>0.00295049363560735</dd><dt>Solar.Radiation.sqrt</dt><dd>0.115438159827752</dd><dt>Rainfall.sqrt</dt><dd>-8.54181036538742</dd><dt>Snowfall.sqrt</dt><dd>0.657917988465711</dd></dl>\n"
      ],
      "text/latex": [
       "\\begin{description*}\n",
       "\\item[(Intercept)] 0\n",
       "\\item[Date] 3.43751298649639e-05\n",
       "\\item[Hour] 0.569585477500996\n",
       "\\item[Temperature] 0\n",
       "\\item[Humidity] -0.249032504934042\n",
       "\\item[Dew.point.temperature] 0.499819001763558\n",
       "\\item[SeasonsSpring] -2.24399444569941\n",
       "\\item[SeasonsSummer] -2.23454554328776\n",
       "\\item[SeasonsWinter] -7.02654891766482\n",
       "\\item[HolidayNo Holiday] 3.61221628540377\n",
       "\\item[DayMonday] 0\n",
       "\\item[DaySaturday] 0.254963275355544\n",
       "\\item[DaySunday] 0.28388581967267\n",
       "\\item[DayThursday] -0.0177312112742546\n",
       "\\item[DayTuesday] -0.263820623397219\n",
       "\\item[DayWednesday] -0.319151579900646\n",
       "\\item[Wind.speed.sqrt] 0.369669261333988\n",
       "\\item[Visibility.sqrt] 0.00295049363560735\n",
       "\\item[Solar.Radiation.sqrt] 0.115438159827752\n",
       "\\item[Rainfall.sqrt] -8.54181036538742\n",
       "\\item[Snowfall.sqrt] 0.657917988465711\n",
       "\\end{description*}\n"
      ],
      "text/markdown": [
       "(Intercept)\n",
       ":   0Date\n",
       ":   3.43751298649639e-05Hour\n",
       ":   0.569585477500996Temperature\n",
       ":   0Humidity\n",
       ":   -0.249032504934042Dew.point.temperature\n",
       ":   0.499819001763558SeasonsSpring\n",
       ":   -2.24399444569941SeasonsSummer\n",
       ":   -2.23454554328776SeasonsWinter\n",
       ":   -7.02654891766482HolidayNo Holiday\n",
       ":   3.61221628540377DayMonday\n",
       ":   0DaySaturday\n",
       ":   0.254963275355544DaySunday\n",
       ":   0.28388581967267DayThursday\n",
       ":   -0.0177312112742546DayTuesday\n",
       ":   -0.263820623397219DayWednesday\n",
       ":   -0.319151579900646Wind.speed.sqrt\n",
       ":   0.369669261333988Visibility.sqrt\n",
       ":   0.00295049363560735Solar.Radiation.sqrt\n",
       ":   0.115438159827752Rainfall.sqrt\n",
       ":   -8.54181036538742Snowfall.sqrt\n",
       ":   0.657917988465711\n",
       "\n"
      ],
      "text/plain": [
       "          (Intercept)                  Date                  Hour \n",
       "         0.000000e+00          3.437513e-05          5.695855e-01 \n",
       "          Temperature              Humidity Dew.point.temperature \n",
       "         0.000000e+00         -2.490325e-01          4.998190e-01 \n",
       "        SeasonsSpring         SeasonsSummer         SeasonsWinter \n",
       "        -2.243994e+00         -2.234546e+00         -7.026549e+00 \n",
       "    HolidayNo Holiday             DayMonday           DaySaturday \n",
       "         3.612216e+00          0.000000e+00          2.549633e-01 \n",
       "            DaySunday           DayThursday            DayTuesday \n",
       "         2.838858e-01         -1.773121e-02         -2.638206e-01 \n",
       "         DayWednesday       Wind.speed.sqrt       Visibility.sqrt \n",
       "        -3.191516e-01          3.696693e-01          2.950494e-03 \n",
       " Solar.Radiation.sqrt         Rainfall.sqrt         Snowfall.sqrt \n",
       "         1.154382e-01         -8.541810e+00          6.579180e-01 "
      ]
     },
     "metadata": {},
     "output_type": "display_data"
    }
   ],
   "source": [
    "predict(fit.lasso, s = lasso_regression, type = \"coefficients\")[1:ncol(train_matrix)+1,]"
   ]
  },
  {
   "cell_type": "markdown",
   "metadata": {},
   "source": [
    "We can see that the coefficient of the temperature variable is 0. When there is multicollinearity, one of the solutions is to delete one of the variables associated with it, and here the Lasso model has chosen temperature as that variable."
   ]
  },
  {
   "cell_type": "markdown",
   "metadata": {},
   "source": [
    "### <li> Random Forest"
   ]
  },
  {
   "cell_type": "markdown",
   "metadata": {},
   "source": [
    "Now, we will build the random forest model."
   ]
  },
  {
   "cell_type": "code",
   "execution_count": 37,
   "metadata": {},
   "outputs": [],
   "source": [
    "# fit random forest\n",
    "rf.train <- randomForest(Rented.Bike.Count.sqrt~., data=train_cleaned[,c(-2,-6,-7,-9,-10,-11)], ntree=100, mtry=5, importance=T ,na.action=na.omit)"
   ]
  },
  {
   "cell_type": "markdown",
   "metadata": {},
   "source": [
    "It took much longer time to fit the random forest model than other two linear models."
   ]
  },
  {
   "cell_type": "code",
   "execution_count": 38,
   "metadata": {
    "scrolled": true
   },
   "outputs": [
    {
     "data": {
      "text/plain": [
       "\n",
       "Call:\n",
       " randomForest(formula = Rented.Bike.Count.sqrt ~ ., data = train_cleaned[,      c(-2, -6, -7, -9, -10, -11)], ntree = 100, mtry = 5, importance = T,      na.action = na.omit) \n",
       "               Type of random forest: regression\n",
       "                     Number of trees: 100\n",
       "No. of variables tried at each split: 5\n",
       "\n",
       "          Mean of squared residuals: 14.90153\n",
       "                    % Var explained: 89.24"
      ]
     },
     "metadata": {},
     "output_type": "display_data"
    }
   ],
   "source": [
    "# summary the results of random forest model\n",
    "rf.train"
   ]
  },
  {
   "cell_type": "code",
   "execution_count": 39,
   "metadata": {
    "scrolled": true
   },
   "outputs": [
    {
     "data": {
      "text/plain": [
       "                Length Class  Mode     \n",
       "call               7   -none- call     \n",
       "type               1   -none- character\n",
       "predicted       6652   -none- numeric  \n",
       "mse              100   -none- numeric  \n",
       "rsq              100   -none- numeric  \n",
       "oob.times       6652   -none- numeric  \n",
       "importance        26   -none- numeric  \n",
       "importanceSD      13   -none- numeric  \n",
       "localImportance    0   -none- NULL     \n",
       "proximity          0   -none- NULL     \n",
       "ntree              1   -none- numeric  \n",
       "mtry               1   -none- numeric  \n",
       "forest            11   -none- list     \n",
       "coefs              0   -none- NULL     \n",
       "y               6652   -none- numeric  \n",
       "test               0   -none- NULL     \n",
       "inbag              0   -none- NULL     \n",
       "terms              3   terms  call     "
      ]
     },
     "metadata": {},
     "output_type": "display_data"
    }
   ],
   "source": [
    "summary(rf.train)"
   ]
  },
  {
   "cell_type": "markdown",
   "metadata": {},
   "source": [
    "We can see the mean of squared residuals of this random forest model is around 14 and the percentage of variable explained by the model is arounud 90."
   ]
  },
  {
   "cell_type": "code",
   "execution_count": 40,
   "metadata": {},
   "outputs": [
    {
     "data": {
      "image/png": "[encoded data removed]",
      "text/plain": [
       "Plot with title \"rf.train\""
      ]
     },
     "metadata": {
      "image/png": {
       "height": 420,
       "width": 420
      }
     },
     "output_type": "display_data"
    }
   ],
   "source": [
    "# show the importance variables in order\n",
    "varImpPlot(rf.train, type=1)"
   ]
  },
  {
   "cell_type": "markdown",
   "metadata": {},
   "source": [
    "The above plot shows the importance of the variables which were used by training the random forest model in order. We can find hour is the most importance feature, followed by Rain.sqrt, Humidity, Temperature, etc."
   ]
  },
  {
   "cell_type": "markdown",
   "metadata": {},
   "source": [
    "## 6. Results and discussion <a class=\"anchor\" id=\"sec_6\"></a>"
   ]
  },
  {
   "cell_type": "markdown",
   "metadata": {},
   "source": [
    "In this section, we will compare the three models built in the previous sections by using RMSE(root mean squared error): <br>\n",
    "- Ordinary least squares (OLS) regression\n",
    "- Lasso regression\n",
    "- Random Forest for regression"
   ]
  },
  {
   "cell_type": "markdown",
   "metadata": {},
   "source": [
    "#### <li> Accuracy"
   ]
  },
  {
   "cell_type": "markdown",
   "metadata": {},
   "source": [
    "First, let's take a look at how similar the models predict values to actual training data."
   ]
  },
  {
   "cell_type": "code",
   "execution_count": 41,
   "metadata": {},
   "outputs": [],
   "source": [
    "# create a dataframe to show response variable and predicted results\n",
    "# To get the exact bike count, square Rented.Bike.Count.sqrt, which was our target variable.\n",
    "prediction_train <- as.data.frame((train_cleaned[,'Rented.Bike.Count.sqrt'])^2, colname= 'Rented.Bike.Count.sqrt')\n",
    "colnames(prediction_train)[1] <- 'Rented.Bike.Count'"
   ]
  },
  {
   "cell_type": "code",
   "execution_count": 42,
   "metadata": {},
   "outputs": [],
   "source": [
    "# Calculate predicted value \n",
    "prediction_train$OLS_Regression <- round((predict(model_ols_interaction, train_cleaned[,c(-2,-6,-7,-9,-10,-11)]))^2)\n",
    "prediction_train$Lasso_Regression <- round((predict(fit.lasso, s = lasso_regression, newx = train_matrix))^2)\n",
    "prediction_train$Random_Forest <- round((predict(rf.train, newdata=train_cleaned[,c(-2,-6,-7,-9,-10,-11)]))^2)"
   ]
  },
  {
   "cell_type": "code",
   "execution_count": 43,
   "metadata": {},
   "outputs": [
    {
     "data": {
      "text/html": [
       "<table>\n",
       "<caption>A data.frame: 6 × 4</caption>\n",
       "<thead>\n",
       "\t<tr><th></th><th scope=col>Rented.Bike.Count</th><th scope=col>OLS_Regression</th><th scope=col>Lasso_Regression</th><th scope=col>Random_Forest</th></tr>\n",
       "\t<tr><th></th><th scope=col>&lt;dbl&gt;</th><th scope=col>&lt;dbl&gt;</th><th scope=col>&lt;dbl[,1]&gt;</th><th scope=col>&lt;dbl&gt;</th></tr>\n",
       "</thead>\n",
       "<tbody>\n",
       "\t<tr><th scope=row>1</th><td>705</td><td>1021</td><td>991</td><td>857</td></tr>\n",
       "\t<tr><th scope=row>2</th><td>289</td><td> 388</td><td>425</td><td>247</td></tr>\n",
       "\t<tr><th scope=row>3</th><td>126</td><td> 458</td><td>487</td><td>135</td></tr>\n",
       "\t<tr><th scope=row>4</th><td>378</td><td> 381</td><td>401</td><td>469</td></tr>\n",
       "\t<tr><th scope=row>5</th><td>236</td><td> 281</td><td>332</td><td>249</td></tr>\n",
       "\t<tr><th scope=row>6</th><td>708</td><td> 890</td><td>885</td><td>788</td></tr>\n",
       "</tbody>\n",
       "</table>\n"
      ],
      "text/latex": [
       "A data.frame: 6 × 4\n",
       "\\begin{tabular}{r|llll}\n",
       "  & Rented.Bike.Count & OLS\\_Regression & Lasso\\_Regression & Random\\_Forest\\\\\n",
       "  & <dbl> & <dbl> & <dbl{[},1{]}> & <dbl>\\\\\n",
       "\\hline\n",
       "\t1 & 705 & 1021 & 991 & 857\\\\\n",
       "\t2 & 289 &  388 & 425 & 247\\\\\n",
       "\t3 & 126 &  458 & 487 & 135\\\\\n",
       "\t4 & 378 &  381 & 401 & 469\\\\\n",
       "\t5 & 236 &  281 & 332 & 249\\\\\n",
       "\t6 & 708 &  890 & 885 & 788\\\\\n",
       "\\end{tabular}\n"
      ],
      "text/markdown": [
       "\n",
       "A data.frame: 6 × 4\n",
       "\n",
       "| <!--/--> | Rented.Bike.Count &lt;dbl&gt; | OLS_Regression &lt;dbl&gt; | Lasso_Regression &lt;dbl[,1]&gt; | Random_Forest &lt;dbl&gt; |\n",
       "|---|---|---|---|---|\n",
       "| 1 | 705 | 1021 | 991 | 857 |\n",
       "| 2 | 289 |  388 | 425 | 247 |\n",
       "| 3 | 126 |  458 | 487 | 135 |\n",
       "| 4 | 378 |  381 | 401 | 469 |\n",
       "| 5 | 236 |  281 | 332 | 249 |\n",
       "| 6 | 708 |  890 | 885 | 788 |\n",
       "\n"
      ],
      "text/plain": [
       "  Rented.Bike.Count OLS_Regression Lasso_Regression Random_Forest\n",
       "1 705               1021           991              857          \n",
       "2 289                388           425              247          \n",
       "3 126                458           487              135          \n",
       "4 378                381           401              469          \n",
       "5 236                281           332              249          \n",
       "6 708                890           885              788          "
      ]
     },
     "metadata": {},
     "output_type": "display_data"
    }
   ],
   "source": [
    "head(prediction_train)"
   ]
  },
  {
   "cell_type": "markdown",
   "metadata": {},
   "source": [
    "Now, we will calculate RMSE of each model on the training dataset for comparing their accuracy."
   ]
  },
  {
   "cell_type": "code",
   "execution_count": 44,
   "metadata": {},
   "outputs": [
    {
     "name": "stdout",
     "output_type": "stream",
     "text": [
      "  OLS_Regression Lasso_Regression    Random_Forest \n",
      "       372.25441        379.08900         94.06897 \n"
     ]
    }
   ],
   "source": [
    "# Calculate RMSE \n",
    "RMSE <- function(x,y) sqrt(mean((y-x)^2, na.rm = T))\n",
    "rmse_train <- c(RMSE(prediction_train$Rented.Bike.Count, prediction_train$OLS_Regression),\n",
    "                  RMSE(prediction_train$Rented.Bike.Count, prediction_train$Lasso_Regression),\n",
    "                  RMSE(prediction_train$Rented.Bike.Count, prediction_train$Random_Forest))\n",
    "\n",
    "names(rmse_train) <- c(\"OLS_Regression\",\"Lasso_Regression\",\"Random_Forest\")\n",
    "print(rmse_train)"
   ]
  },
  {
   "cell_type": "markdown",
   "metadata": {},
   "source": [
    "<br> <br> \n",
    "Next, we will use test dataset to check how the models predict the target values well on unseen data."
   ]
  },
  {
   "cell_type": "code",
   "execution_count": 45,
   "metadata": {},
   "outputs": [],
   "source": [
    "# Dataframe to matrix\n",
    "test_matrix <- model.matrix(Rented.Bike.Count.sqrt~.,data = test_new[,c(-2,-6,-7,-9,-10,-11)])"
   ]
  },
  {
   "cell_type": "code",
   "execution_count": 46,
   "metadata": {},
   "outputs": [],
   "source": [
    "# create a dataframe to show response variable and predicted results\n",
    "prediction <- as.data.frame((test_new[,'Rented.Bike.Count.sqrt'])^2, colname= 'Rented.Bike.Count.sqrt')\n",
    "colnames(prediction)[1] <- 'Rented.Bike.Count'"
   ]
  },
  {
   "cell_type": "code",
   "execution_count": 47,
   "metadata": {},
   "outputs": [],
   "source": [
    "# Calculate predicted value \n",
    "prediction$OLS_Regression <- round((predict(model_ols_interaction, test_new[,c(-2,-6,-7,-9,-10,-11)]))^2)\n",
    "prediction$Lasso_Regression <- round((predict(fit.lasso, s = lasso_regression, newx = test_matrix))^2)\n",
    "prediction$Random_Forest <- round((predict(rf.train, newdata=test_new[,c(-2,-6,-7,-9,-10,-11)]))^2)"
   ]
  },
  {
   "cell_type": "code",
   "execution_count": 48,
   "metadata": {
    "scrolled": true
   },
   "outputs": [
    {
     "data": {
      "text/html": [
       "<table>\n",
       "<caption>A data.frame: 6 × 4</caption>\n",
       "<thead>\n",
       "\t<tr><th></th><th scope=col>Rented.Bike.Count</th><th scope=col>OLS_Regression</th><th scope=col>Lasso_Regression</th><th scope=col>Random_Forest</th></tr>\n",
       "\t<tr><th></th><th scope=col>&lt;dbl&gt;</th><th scope=col>&lt;dbl&gt;</th><th scope=col>&lt;dbl[,1]&gt;</th><th scope=col>&lt;dbl&gt;</th></tr>\n",
       "</thead>\n",
       "<tbody>\n",
       "\t<tr><th scope=row>1</th><td>360</td><td>248</td><td>301</td><td>309</td></tr>\n",
       "\t<tr><th scope=row>2</th><td>862</td><td>357</td><td>311</td><td>519</td></tr>\n",
       "\t<tr><th scope=row>3</th><td>323</td><td>297</td><td>276</td><td>302</td></tr>\n",
       "\t<tr><th scope=row>4</th><td> 89</td><td> 39</td><td> 28</td><td> 70</td></tr>\n",
       "\t<tr><th scope=row>5</th><td>219</td><td> 69</td><td> 55</td><td>277</td></tr>\n",
       "\t<tr><th scope=row>6</th><td>479</td><td>417</td><td>357</td><td>408</td></tr>\n",
       "</tbody>\n",
       "</table>\n"
      ],
      "text/latex": [
       "A data.frame: 6 × 4\n",
       "\\begin{tabular}{r|llll}\n",
       "  & Rented.Bike.Count & OLS\\_Regression & Lasso\\_Regression & Random\\_Forest\\\\\n",
       "  & <dbl> & <dbl> & <dbl{[},1{]}> & <dbl>\\\\\n",
       "\\hline\n",
       "\t1 & 360 & 248 & 301 & 309\\\\\n",
       "\t2 & 862 & 357 & 311 & 519\\\\\n",
       "\t3 & 323 & 297 & 276 & 302\\\\\n",
       "\t4 &  89 &  39 &  28 &  70\\\\\n",
       "\t5 & 219 &  69 &  55 & 277\\\\\n",
       "\t6 & 479 & 417 & 357 & 408\\\\\n",
       "\\end{tabular}\n"
      ],
      "text/markdown": [
       "\n",
       "A data.frame: 6 × 4\n",
       "\n",
       "| <!--/--> | Rented.Bike.Count &lt;dbl&gt; | OLS_Regression &lt;dbl&gt; | Lasso_Regression &lt;dbl[,1]&gt; | Random_Forest &lt;dbl&gt; |\n",
       "|---|---|---|---|---|\n",
       "| 1 | 360 | 248 | 301 | 309 |\n",
       "| 2 | 862 | 357 | 311 | 519 |\n",
       "| 3 | 323 | 297 | 276 | 302 |\n",
       "| 4 |  89 |  39 |  28 |  70 |\n",
       "| 5 | 219 |  69 |  55 | 277 |\n",
       "| 6 | 479 | 417 | 357 | 408 |\n",
       "\n"
      ],
      "text/plain": [
       "  Rented.Bike.Count OLS_Regression Lasso_Regression Random_Forest\n",
       "1 360               248            301              309          \n",
       "2 862               357            311              519          \n",
       "3 323               297            276              302          \n",
       "4  89                39             28               70          \n",
       "5 219                69             55              277          \n",
       "6 479               417            357              408          "
      ]
     },
     "metadata": {},
     "output_type": "display_data"
    }
   ],
   "source": [
    "head(prediction)"
   ]
  },
  {
   "cell_type": "markdown",
   "metadata": {},
   "source": [
    "Now, we will calculate the RMSE of each model on the test data for comparing their test errors."
   ]
  },
  {
   "cell_type": "code",
   "execution_count": 49,
   "metadata": {
    "scrolled": true
   },
   "outputs": [
    {
     "name": "stdout",
     "output_type": "stream",
     "text": [
      "  OLS_Regression Lasso_Regression    Random_Forest \n",
      "        437.1502         439.6566         292.9026 \n"
     ]
    }
   ],
   "source": [
    "# Calculate RMSE \n",
    "rmse <- c(RMSE(prediction$Rented.Bike.Count, prediction$OLS_Regression),\n",
    "          RMSE(prediction$Rented.Bike.Count, prediction$Lasso_Regression),\n",
    "          RMSE(prediction$Rented.Bike.Count, prediction$Random_Forest))\n",
    "\n",
    "names(rmse) <- c(\"OLS_Regression\",\"Lasso_Regression\",\"Random_Forest\")\n",
    "print(rmse)"
   ]
  },
  {
   "cell_type": "markdown",
   "metadata": {},
   "source": [
    "<br> <br>We can see that on both datasets, the random forest model showed the best performace, since its RMSE is lowest. However, it showed the largest gap between its RMSE values between on train and test dataset than other two linear models. This is because the random forest regression is one of the ensemble models that predicts the target value from several different decision trees which make their own dicisions by sampling data from the given train dataset respectively. Thus, the random forest model is less affected by outliers or correlations between variables,and have high accuracy in making a prediction on training data. On the other hand, the two linear regression models showed the similar performance in terms of RMSE, while the OLS seems to work slightly better than the lasso regression model."
   ]
  },
  {
   "cell_type": "markdown",
   "metadata": {},
   "source": [
    "#### <li> Important features"
   ]
  },
  {
   "cell_type": "markdown",
   "metadata": {},
   "source": [
    "We will inspect the important features used by each model to predict the bike rental demands."
   ]
  },
  {
   "cell_type": "code",
   "execution_count": 50,
   "metadata": {},
   "outputs": [
    {
     "data": {
      "text/html": [
       "<style>\n",
       ".list-inline {list-style: none; margin:0; padding: 0}\n",
       ".list-inline>li {display: inline-block}\n",
       ".list-inline>li:not(:last-child)::after {content: \"\\00b7\"; padding: 0 .5ex}\n",
       "</style>\n",
       "<ol class=list-inline><li>'Date'</li><li>'Hour'</li><li>'Temperature'</li><li>'Humidity'</li><li>'Dew.point.temperature'</li><li>'Seasons'</li><li>'Holiday'</li><li>'Day'</li><li>'Wind.speed.sqrt'</li><li>'Visibility.sqrt'</li><li>'Solar.Radiation.sqrt'</li><li>'Rainfall.sqrt'</li><li>'Snowfall.sqrt'</li></ol>\n"
      ],
      "text/latex": [
       "\\begin{enumerate*}\n",
       "\\item 'Date'\n",
       "\\item 'Hour'\n",
       "\\item 'Temperature'\n",
       "\\item 'Humidity'\n",
       "\\item 'Dew.point.temperature'\n",
       "\\item 'Seasons'\n",
       "\\item 'Holiday'\n",
       "\\item 'Day'\n",
       "\\item 'Wind.speed.sqrt'\n",
       "\\item 'Visibility.sqrt'\n",
       "\\item 'Solar.Radiation.sqrt'\n",
       "\\item 'Rainfall.sqrt'\n",
       "\\item 'Snowfall.sqrt'\n",
       "\\end{enumerate*}\n"
      ],
      "text/markdown": [
       "1. 'Date'\n",
       "2. 'Hour'\n",
       "3. 'Temperature'\n",
       "4. 'Humidity'\n",
       "5. 'Dew.point.temperature'\n",
       "6. 'Seasons'\n",
       "7. 'Holiday'\n",
       "8. 'Day'\n",
       "9. 'Wind.speed.sqrt'\n",
       "10. 'Visibility.sqrt'\n",
       "11. 'Solar.Radiation.sqrt'\n",
       "12. 'Rainfall.sqrt'\n",
       "13. 'Snowfall.sqrt'\n",
       "\n",
       "\n"
      ],
      "text/plain": [
       " [1] \"Date\"                  \"Hour\"                  \"Temperature\"          \n",
       " [4] \"Humidity\"              \"Dew.point.temperature\" \"Seasons\"              \n",
       " [7] \"Holiday\"               \"Day\"                   \"Wind.speed.sqrt\"      \n",
       "[10] \"Visibility.sqrt\"       \"Solar.Radiation.sqrt\"  \"Rainfall.sqrt\"        \n",
       "[13] \"Snowfall.sqrt\"        "
      ]
     },
     "metadata": {},
     "output_type": "display_data"
    }
   ],
   "source": [
    "# column names except the target variable and feauters before transformation\n",
    "colnames(train_cleaned[,c(-2,-6,-7,-9,-10,-11,-16)])"
   ]
  },
  {
   "cell_type": "markdown",
   "metadata": {},
   "source": [
    "The important features of each model can be checked below.<br>\n",
    "\n",
    "- Ordinary least squares (OLS) regression:\n",
    "    - at the significance level $\\alpha = 0.05$: <br> All features listed above with Temperature:Dew.point.temperature and Humidity:Dew.point.temperature, except Date, Day, Visibility.sqrt, Solar.Radiation (11 features) <br><br>\n",
    "    \n",
    "- Lasso Regression:\n",
    "    - coefficient $\\neq$ 0: All features listed above, except Temperature (12 features)\n",
    "    - Temperature was one of the features which had a correlation with other attributes.<br><br>\n",
    "    \n",
    "- Random Forest: \n",
    "    - All features listed above (13 features)\n",
    "    - Importance: Hour > Rain.sqrt > Humidity > Temperature > Date > Day > Visibility.sqrt > Solar.Radiation.sqrt > Seasons > Holidqy > Dew.point.temperature > Wind.speed.sqrt > Snowfall.sqrt <br> <br>\n",
    "\n",
    "It can be observed that number of variables used by the model is Random Forest > Lasso Regression > OLS Regression in order. This seems to be due to differences in the algorithms of the models. Since the random forest regression can deal with many cases by using a large number of decision trees, it can keep all features when being trained. On the other hand, the lasso regression uses a shrinkage penalty to remove the effect of the relatively insignificant variables. In this experiment, to prevent multicollinearity that increases the variance of the regression coefficient, the lasso regression removed one of the attributes, Temperature, which was correlated with other attributes. On the contrary, the OLS model with a stepwise function removed the features of which the p-value was not small as the significance level. Thereafter, by referring the correlation plot, two features were added manually to this model which can reflect the interaction between the features.  "
   ]
  },
  {
   "cell_type": "markdown",
   "metadata": {},
   "source": [
    "## 7. Conclusion<a class=\"anchor\" id=\"sec_7\"></a>"
   ]
  },
  {
   "cell_type": "markdown",
   "metadata": {},
   "source": [
    "The purpose of this project is to build a statistical model which can be used to predict the bike demands based on the several attributes, such as hour, temperature, humidity, seasons and so on. From the data exploration and EDA section, we found that the issues to be paid attention to, when building the models, were (1) overfitting due to skewnesses and imbalance distributions of the numerical and categorical data, and (2) multicollinearity due to strong correlations between features. It is attempted to improve skewnesses of the numerical variables by using square root transformation before building the actual models, however, there were some variables that did not see much of the effect of transformation. Thus, the possibility of feature selection, according to the importance of the variables at the stage of model building, had to be noted. <br>\n",
    "\n",
    "Thus, for predicting the bike rental demands correctly, three models were built, which were (1) Ordinary least squares (OLS) regression with a stepwise function for feature selection and VIF(variation inflation factor) function to check the multicollinearity, (2) Lasso regression, applying shrinkage to the basic linear regression model and (3) random forest regression. <br>\n",
    "\n",
    "After training those models on the training dataset and predicting the values of the target variable on both training and testing dataset, the random forest model showed the best performance. It could be because the random forest regression is less sensitive to outliers and multicollinearity than other two models, by using a random sampling technique and using several independent decision trees. However, it took much longer time for the random forest model to be fitted on the training dataset. Thus, depending on which factor is weighted, processing speed or accuracy, either the random forest model or linear regresson models can be selected to do regression jobs for the continuous target variable. On the other hand, the other two regression models showed similar performance in spite of using different method. In general, the OLS regression model is more susceptible to overfitting and multicollinearity than lasso regression model which uses the penalty parameter to prevent these issues. However, it was observed that, through the researcher's manipulation, the modified OLS can show better performance in terms of RMSE than lasso regression. "
   ]
  },
  {
   "cell_type": "markdown",
   "metadata": {},
   "source": [
    "## 8. References <a class=\"anchor\" id=\"sec_8\"></a>"
   ]
  },
  {
   "cell_type": "markdown",
   "metadata": {},
   "source": [
    "https://medium.com/@TheDataGyan/day-8-data-transformation-skewness-normalization-and-much-more-4c144d370e55 \n",
    "\n",
    "https://stackoverflow.com/questions/13236158/real-cube-root-of-a-negative-number\n",
    "\n",
    "https://stats.stackexchange.com/questions/111467/is-it-necessary-to-scale-the-target-value-in-addition-to-scaling-features-for-re\n",
    "\n",
    "https://stats.stackexchange.com/questions/284280/is-a-skewed-target-variable-bad-for-a-linear-regression-model\n",
    "\n",
    "https://discuss.analyticsvidhya.com/t/difference-between-r-square-and-adjusted-r-square/264\n",
    "\n",
    "http://www.nlreg.com/results.htm"
   ]
  }
 ],
 "metadata": {
  "kernelspec": {
   "display_name": "R 4.0.2",
   "language": "R",
   "name": "ir4"
  },
  "language_info": {
   "codemirror_mode": "r",
   "file_extension": ".r",
   "mimetype": "text/x-r-source",
   "name": "R",
   "pygments_lexer": "r",
   "version": "4.0.2"
  }
 },
 "nbformat": 4,
 "nbformat_minor": 2
}
